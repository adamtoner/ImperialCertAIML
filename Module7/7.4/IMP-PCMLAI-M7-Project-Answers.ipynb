{
 "cells": [
  {
   "cell_type": "code",
   "execution_count": 29,
   "id": "631ac862",
   "metadata": {
    "id": "631ac862",
    "ExecuteTime": {
     "end_time": "2023-10-25T22:52:12.234348Z",
     "start_time": "2023-10-25T22:52:11.240474Z"
    }
   },
   "outputs": [],
   "source": [
    "#Import the packages\n",
    "import pandas as pd\n",
    "import numpy as np\n",
    "import matplotlib.pyplot as plt"
   ]
  },
  {
   "cell_type": "markdown",
   "id": "2943eec6",
   "metadata": {
    "id": "2943eec6"
   },
   "source": [
    "## We will work with the \"Adult\" Data Set of the UCI Repository"
   ]
  },
  {
   "cell_type": "markdown",
   "id": "75906b0e",
   "metadata": {
    "id": "75906b0e"
   },
   "source": [
    "Here we will try to predict whether one's salary is above or below $50,000/year. \n",
    "The original dataset can be found on UCI Repository: https://archive.ics.uci.edu/ml/datasets/adult"
   ]
  },
  {
   "cell_type": "markdown",
   "id": "25a58790",
   "metadata": {
    "id": "25a58790"
   },
   "source": [
    "### Read the file"
   ]
  },
  {
   "cell_type": "code",
   "execution_count": 30,
   "id": "7755f3f1",
   "metadata": {
    "id": "7755f3f1",
    "ExecuteTime": {
     "end_time": "2023-10-25T22:52:22.606383Z",
     "start_time": "2023-10-25T22:52:11.307501Z"
    }
   },
   "outputs": [],
   "source": [
    "# Source: https://www.valentinmihov.com/2015/04/17/adult-income-data-set/\n",
    "# taken and modified slightly from https://fairmlbook.org/code/adult.html\n",
    "\n",
    "features = [\"Age\", \"Workclass\", \"fnlwgt\", \"Education\", \"Education-Num\", \"Martial Status\",\n",
    "        \"Occupation\", \"Relationship\", \"Race\", \"Sex\", \"Capital Gain\", \"Capital Loss\",\n",
    "        \"Hours per week\", \"Country\", \"Target\"] #feaures of the dataset \n",
    "\n",
    "# Change these to local file if available\n",
    "train_url = 'https://archive.ics.uci.edu/ml/machine-learning-databases/adult/adult.data' #link of the training data\n",
    "test_url = 'https://archive.ics.uci.edu/ml/machine-learning-databases/adult/adult.test' #link of the test data\n",
    "\n",
    "# This will download 3.8M\n",
    "df_train = pd.read_csv(train_url, names=features, sep=r'\\s*,\\s*', \n",
    "                             engine='python', na_values=\"?\") #read csv training\n",
    "# This will download 1.9M\n",
    "df_test = pd.read_csv(test_url, names=features, sep=r'\\s*,\\s*', \n",
    "                            engine='python', na_values=\"?\", skiprows=1) #read csv test\n",
    "\n",
    "num_train = len(df_train) #number of training instances"
   ]
  },
  {
   "cell_type": "markdown",
   "id": "3bac7eac",
   "metadata": {
    "id": "3bac7eac"
   },
   "source": [
    "### Q1: Replace the labels of the training and test sets so that \"Target = 1\" means high income and \"Target = 0\" means low income. The target column should be an integer (binary) column eventually."
   ]
  },
  {
   "cell_type": "markdown",
   "id": "1ad84df8",
   "metadata": {
    "id": "1ad84df8"
   },
   "source": [
    "#### A1:"
   ]
  },
  {
   "cell_type": "code",
   "execution_count": 31,
   "id": "7abb7225",
   "metadata": {
    "id": "7abb7225",
    "outputId": "6959baf4-b50e-43af-a872-e1c10c8eea17",
    "ExecuteTime": {
     "end_time": "2023-10-25T22:52:22.618013Z",
     "start_time": "2023-10-25T22:52:22.610073Z"
    }
   },
   "outputs": [
    {
     "name": "stdout",
     "output_type": "stream",
     "text": [
      "Unique values in training set target ['<=50K' '>50K']\n",
      "Unique values in test set target ['<=50K.' '>50K.']\n"
     ]
    }
   ],
   "source": [
    "#first list the training values possible\n",
    "print(\"Unique values in training set target\", df_train.Target.unique())\n",
    "print(\"Unique values in test set target\", df_test.Target.unique())"
   ]
  },
  {
   "cell_type": "code",
   "execution_count": 32,
   "id": "5d0d9a5e",
   "metadata": {
    "id": "5d0d9a5e",
    "ExecuteTime": {
     "end_time": "2023-10-25T22:52:22.866943Z",
     "start_time": "2023-10-25T22:52:22.614325Z"
    }
   },
   "outputs": [],
   "source": [
    "#now we can replace the labels\n",
    "df_train.Target = df_train.Target.replace('<=50K', 0).replace('>50K', 1)\n",
    "df_test.Target = df_test.Target.replace('<=50K.', 0).replace('>50K.', 1)"
   ]
  },
  {
   "cell_type": "markdown",
   "id": "256144fd",
   "metadata": {
    "id": "256144fd"
   },
   "source": [
    "### Q2: Inspect the column names and the data type of each column. Answer the following."
   ]
  },
  {
   "cell_type": "markdown",
   "id": "70f46d15",
   "metadata": {
    "id": "70f46d15"
   },
   "source": [
    "#### Q2.1: List how many missing values there are in each column for training and test sets."
   ]
  },
  {
   "cell_type": "markdown",
   "id": "92ab2126",
   "metadata": {
    "id": "92ab2126"
   },
   "source": [
    "#### A2.1:"
   ]
  },
  {
   "cell_type": "code",
   "execution_count": 33,
   "id": "dca8a1f4",
   "metadata": {
    "id": "dca8a1f4",
    "outputId": "5b813ff4-d801-4c36-ac6f-13a0ab77b5d4",
    "ExecuteTime": {
     "end_time": "2023-10-25T22:52:23.069436Z",
     "start_time": "2023-10-25T22:52:22.640412Z"
    }
   },
   "outputs": [
    {
     "name": "stdout",
     "output_type": "stream",
     "text": [
      "<class 'pandas.core.frame.DataFrame'>\n",
      "RangeIndex: 32561 entries, 0 to 32560\n",
      "Data columns (total 15 columns):\n",
      " #   Column          Non-Null Count  Dtype \n",
      "---  ------          --------------  ----- \n",
      " 0   Age             32561 non-null  int64 \n",
      " 1   Workclass       30725 non-null  object\n",
      " 2   fnlwgt          32561 non-null  int64 \n",
      " 3   Education       32561 non-null  object\n",
      " 4   Education-Num   32561 non-null  int64 \n",
      " 5   Martial Status  32561 non-null  object\n",
      " 6   Occupation      30718 non-null  object\n",
      " 7   Relationship    32561 non-null  object\n",
      " 8   Race            32561 non-null  object\n",
      " 9   Sex             32561 non-null  object\n",
      " 10  Capital Gain    32561 non-null  int64 \n",
      " 11  Capital Loss    32561 non-null  int64 \n",
      " 12  Hours per week  32561 non-null  int64 \n",
      " 13  Country         31978 non-null  object\n",
      " 14  Target          32561 non-null  int64 \n",
      "dtypes: int64(7), object(8)\n",
      "memory usage: 3.7+ MB\n"
     ]
    }
   ],
   "source": [
    "#first list the columns\n",
    "pd.set_option('max_colwidth', None)\n",
    "df_train.info(verbose=True)"
   ]
  },
  {
   "cell_type": "code",
   "execution_count": 34,
   "id": "1ab5b9f2",
   "metadata": {
    "id": "1ab5b9f2",
    "outputId": "c9a6a822-51d7-4ed4-dfe6-d040762a698f",
    "ExecuteTime": {
     "end_time": "2023-10-25T22:52:23.087251Z",
     "start_time": "2023-10-25T22:52:22.657520Z"
    }
   },
   "outputs": [
    {
     "data": {
      "text/plain": "Age                  0\nWorkclass         1836\nfnlwgt               0\nEducation            0\nEducation-Num        0\nMartial Status       0\nOccupation        1843\nRelationship         0\nRace                 0\nSex                  0\nCapital Gain         0\nCapital Loss         0\nHours per week       0\nCountry            583\nTarget               0\ndtype: int64"
     },
     "execution_count": 34,
     "metadata": {},
     "output_type": "execute_result"
    }
   ],
   "source": [
    "#now see the number of missing values for each column -- training\n",
    "df_train.isna().sum()"
   ]
  },
  {
   "cell_type": "code",
   "execution_count": 35,
   "id": "c1a365ae",
   "metadata": {
    "scrolled": true,
    "id": "c1a365ae",
    "outputId": "a9ffcace-74ab-4ed9-aa12-db501a20ab17",
    "ExecuteTime": {
     "end_time": "2023-10-25T22:52:23.117422Z",
     "start_time": "2023-10-25T22:52:22.665806Z"
    }
   },
   "outputs": [
    {
     "data": {
      "text/plain": "Age                 0\nWorkclass         963\nfnlwgt              0\nEducation           0\nEducation-Num       0\nMartial Status      0\nOccupation        966\nRelationship        0\nRace                0\nSex                 0\nCapital Gain        0\nCapital Loss        0\nHours per week      0\nCountry           274\nTarget              0\ndtype: int64"
     },
     "execution_count": 35,
     "metadata": {},
     "output_type": "execute_result"
    }
   ],
   "source": [
    "#now see the number of missing values for each column -- test\n",
    "df_test.isna().sum()"
   ]
  },
  {
   "cell_type": "markdown",
   "id": "9639540b",
   "metadata": {
    "id": "9639540b"
   },
   "source": [
    "#### Q2.2: How many missing values there are in total for the training set?"
   ]
  },
  {
   "cell_type": "markdown",
   "id": "7a066ee9",
   "metadata": {
    "id": "7a066ee9"
   },
   "source": [
    "#### A2.2:"
   ]
  },
  {
   "cell_type": "code",
   "execution_count": 36,
   "id": "790fe1fb",
   "metadata": {
    "id": "790fe1fb",
    "outputId": "1a4cd902-2047-44cd-f654-88fcc078e433",
    "ExecuteTime": {
     "end_time": "2023-10-25T22:52:23.118759Z",
     "start_time": "2023-10-25T22:52:22.680354Z"
    }
   },
   "outputs": [
    {
     "data": {
      "text/plain": "4262"
     },
     "execution_count": 36,
     "metadata": {},
     "output_type": "execute_result"
    }
   ],
   "source": [
    "#same answer but we sum all the NaN's\n",
    "np.sum(df_train.isna().sum())"
   ]
  },
  {
   "cell_type": "markdown",
   "id": "2f534fd6",
   "metadata": {
    "id": "2f534fd6"
   },
   "source": [
    "#### Q2.3: How many rows are there with at least one NaN?"
   ]
  },
  {
   "cell_type": "markdown",
   "id": "9410daff",
   "metadata": {
    "id": "9410daff"
   },
   "source": [
    "#### A2.3:"
   ]
  },
  {
   "cell_type": "code",
   "execution_count": 37,
   "id": "d15f363a",
   "metadata": {
    "id": "d15f363a",
    "outputId": "e3a869ba-b55c-4644-dc83-ee0796e952d5",
    "ExecuteTime": {
     "end_time": "2023-10-25T22:52:23.119366Z",
     "start_time": "2023-10-25T22:52:22.694096Z"
    }
   },
   "outputs": [
    {
     "data": {
      "text/plain": "2399"
     },
     "execution_count": 37,
     "metadata": {},
     "output_type": "execute_result"
    }
   ],
   "source": [
    "#take a True/False Series for whether the row includes NaN. Then sum them, where True will be taken as = 1.\n",
    "np.sum(df_train.isna().any(axis=1))"
   ]
  },
  {
   "cell_type": "markdown",
   "id": "588c3746",
   "metadata": {
    "id": "588c3746"
   },
   "source": [
    "#### Q2.4: If NaN's were identially distributed among the NaN rows at random, then what is the expectation of the number of NaNs in a row that has at least one NaN? If you find the same expectation for the test set, do these values look alike?"
   ]
  },
  {
   "cell_type": "markdown",
   "id": "9a48a450",
   "metadata": {
    "id": "9a48a450"
   },
   "source": [
    "#### A2.4:"
   ]
  },
  {
   "cell_type": "code",
   "execution_count": 38,
   "id": "cbbeb137",
   "metadata": {
    "id": "cbbeb137",
    "outputId": "fc1debbf-7f3d-4371-ae2f-2f71c6eee020",
    "ExecuteTime": {
     "end_time": "2023-10-25T22:52:23.119840Z",
     "start_time": "2023-10-25T22:52:22.706325Z"
    }
   },
   "outputs": [
    {
     "data": {
      "text/plain": "1.7765735723218008"
     },
     "execution_count": 38,
     "metadata": {},
     "output_type": "execute_result"
    }
   ],
   "source": [
    "#divide the previous two answers.\n",
    "np.sum(df_train.isna().sum())/np.sum(df_train.isna().any(axis=1))"
   ]
  },
  {
   "cell_type": "code",
   "execution_count": 39,
   "id": "88653c7a",
   "metadata": {
    "id": "88653c7a",
    "outputId": "b0a45eb0-f605-4c52-cdf0-ba36e13b1906",
    "ExecuteTime": {
     "end_time": "2023-10-25T22:52:23.120302Z",
     "start_time": "2023-10-25T22:52:22.730802Z"
    }
   },
   "outputs": [
    {
     "data": {
      "text/plain": "1.8042588042588044"
     },
     "execution_count": 39,
     "metadata": {},
     "output_type": "execute_result"
    }
   ],
   "source": [
    "#same for the test set\n",
    "np.sum(df_test.isna().sum())/np.sum(df_test.isna().any(axis=1))\n",
    "#it looks like these values are similar."
   ]
  },
  {
   "cell_type": "markdown",
   "id": "71b273e5",
   "metadata": {
    "id": "71b273e5"
   },
   "source": [
    "### Q3: Let us inspect the target variable further."
   ]
  },
  {
   "cell_type": "markdown",
   "id": "61367d5f",
   "metadata": {
    "id": "61367d5f"
   },
   "source": [
    "#### Q3.1: What fraction of the training instances are making high income? Does a similar result hold for the test set?"
   ]
  },
  {
   "cell_type": "markdown",
   "id": "8af0051c",
   "metadata": {
    "id": "8af0051c"
   },
   "source": [
    "#### A3.1:"
   ]
  },
  {
   "cell_type": "code",
   "execution_count": 40,
   "id": "7a0c4877",
   "metadata": {
    "id": "7a0c4877",
    "outputId": "2c5723bb-c333-42e2-8c41-7e536e5d55d4",
    "ExecuteTime": {
     "end_time": "2023-10-25T22:52:23.121045Z",
     "start_time": "2023-10-25T22:52:22.737301Z"
    }
   },
   "outputs": [
    {
     "data": {
      "text/plain": "Target\n0    0.75919\n1    0.24081\nName: proportion, dtype: float64"
     },
     "execution_count": 40,
     "metadata": {},
     "output_type": "execute_result"
    }
   ],
   "source": [
    "df_train[\"Target\"].value_counts(normalize = True)\n",
    "#we can see that more than 75% of the instances are making less than 50,000 a year"
   ]
  },
  {
   "cell_type": "code",
   "execution_count": 41,
   "id": "a73d407f",
   "metadata": {
    "id": "a73d407f",
    "outputId": "0936f116-b49f-4a22-f612-d6379f5fee6d",
    "ExecuteTime": {
     "end_time": "2023-10-25T22:52:23.122280Z",
     "start_time": "2023-10-25T22:52:22.740277Z"
    }
   },
   "outputs": [
    {
     "data": {
      "text/plain": "Target\n0    0.763774\n1    0.236226\nName: proportion, dtype: float64"
     },
     "execution_count": 41,
     "metadata": {},
     "output_type": "execute_result"
    }
   ],
   "source": [
    "df_test[\"Target\"].value_counts(normalize = True) #hence a similar result follows"
   ]
  },
  {
   "cell_type": "markdown",
   "id": "22e18ccb",
   "metadata": {
    "id": "22e18ccb"
   },
   "source": [
    "#### Q3.2: If we classify everyone as a low-income instance, what is our accuracy, sensitivity, and specificy in the test set? Assume that a \"positive\" class is a high income class, that is, our end goal is to be able to tell who makes more money."
   ]
  },
  {
   "cell_type": "markdown",
   "id": "c10af8f2",
   "metadata": {
    "id": "c10af8f2"
   },
   "source": [
    "#### A3.2:"
   ]
  },
  {
   "cell_type": "code",
   "execution_count": 42,
   "id": "60b02a65",
   "metadata": {
    "id": "60b02a65",
    "ExecuteTime": {
     "end_time": "2023-10-25T22:52:23.126002Z",
     "start_time": "2023-10-25T22:52:22.746239Z"
    }
   },
   "outputs": [],
   "source": [
    "accuracy = len(df_test[df_test['Target']==0])/len(df_test)\n",
    "#this is the same as df_train[\"Target\"].value_counts(normalize = True)[0]\n",
    "sensitivity = 0 #we never said \"1\" so we cannot classify any \"1\" correctly\n",
    "specificity = 1 #we say \"0\" to all instances, so we cannot miss any 0's"
   ]
  },
  {
   "cell_type": "markdown",
   "id": "0e29a2aa",
   "metadata": {
    "id": "0e29a2aa"
   },
   "source": [
    "#### Q3.3: List the fraction of high income instances within each group of \"workclass\" separately in the training set. Do you have an intuition on this?"
   ]
  },
  {
   "cell_type": "markdown",
   "id": "c0bb3c5a",
   "metadata": {
    "id": "c0bb3c5a"
   },
   "source": [
    "#### A3.3:"
   ]
  },
  {
   "cell_type": "code",
   "execution_count": 43,
   "id": "873c06e2",
   "metadata": {
    "id": "873c06e2",
    "outputId": "5d177eb0-205a-461f-c146-6465f34d5de7",
    "ExecuteTime": {
     "end_time": "2023-10-25T22:52:23.155078Z",
     "start_time": "2023-10-25T22:52:22.754406Z"
    }
   },
   "outputs": [
    {
     "data": {
      "text/plain": "          Workclass    Target\n4      Self-emp-inc  0.557348\n0       Federal-gov  0.386458\n1         Local-gov  0.294792\n5  Self-emp-not-inc  0.284927\n6         State-gov  0.271957\n3           Private  0.218673\n2      Never-worked  0.000000\n7       Without-pay  0.000000",
      "text/html": "<div>\n<style scoped>\n    .dataframe tbody tr th:only-of-type {\n        vertical-align: middle;\n    }\n\n    .dataframe tbody tr th {\n        vertical-align: top;\n    }\n\n    .dataframe thead th {\n        text-align: right;\n    }\n</style>\n<table border=\"1\" class=\"dataframe\">\n  <thead>\n    <tr style=\"text-align: right;\">\n      <th></th>\n      <th>Workclass</th>\n      <th>Target</th>\n    </tr>\n  </thead>\n  <tbody>\n    <tr>\n      <th>4</th>\n      <td>Self-emp-inc</td>\n      <td>0.557348</td>\n    </tr>\n    <tr>\n      <th>0</th>\n      <td>Federal-gov</td>\n      <td>0.386458</td>\n    </tr>\n    <tr>\n      <th>1</th>\n      <td>Local-gov</td>\n      <td>0.294792</td>\n    </tr>\n    <tr>\n      <th>5</th>\n      <td>Self-emp-not-inc</td>\n      <td>0.284927</td>\n    </tr>\n    <tr>\n      <th>6</th>\n      <td>State-gov</td>\n      <td>0.271957</td>\n    </tr>\n    <tr>\n      <th>3</th>\n      <td>Private</td>\n      <td>0.218673</td>\n    </tr>\n    <tr>\n      <th>2</th>\n      <td>Never-worked</td>\n      <td>0.000000</td>\n    </tr>\n    <tr>\n      <th>7</th>\n      <td>Without-pay</td>\n      <td>0.000000</td>\n    </tr>\n  </tbody>\n</table>\n</div>"
     },
     "execution_count": 43,
     "metadata": {},
     "output_type": "execute_result"
    }
   ],
   "source": [
    "#First group by workclasses, take target, average it, and then print it in an ascending way.\n",
    "df_train.groupby('Workclass', as_index=False)['Target'].mean().sort_values(by=['Target'], ascending=False)"
   ]
  },
  {
   "cell_type": "markdown",
   "id": "e0550f2a",
   "metadata": {
    "id": "e0550f2a"
   },
   "source": [
    "#### Q3.4: Motivated by the question before, apply the following simple classification on the test set: if an instance has a workclass that is in the first or second highest-making group, then classify \"1\". What is the accuracy and the sensitivity of this model?"
   ]
  },
  {
   "cell_type": "markdown",
   "id": "1d5dd1fd",
   "metadata": {
    "id": "1d5dd1fd"
   },
   "source": [
    "#### A3.4:"
   ]
  },
  {
   "cell_type": "code",
   "execution_count": 44,
   "id": "3cb1f4de",
   "metadata": {
    "id": "3cb1f4de",
    "ExecuteTime": {
     "end_time": "2023-10-25T22:52:23.189335Z",
     "start_time": "2023-10-25T22:52:22.761062Z"
    }
   },
   "outputs": [],
   "source": [
    "greedy_workclass = df_test.apply(lambda row: 1 if (row[\"Workclass\"] == \"Self-emp-inc\") or\\\n",
    "                                 (row[\"Workclass\"] == \"Federal-gov\") else 0, axis = 1) #apply the function to predict"
   ]
  },
  {
   "cell_type": "code",
   "execution_count": 45,
   "id": "39225b99",
   "metadata": {
    "id": "39225b99",
    "ExecuteTime": {
     "end_time": "2023-10-25T22:52:23.190630Z",
     "start_time": "2023-10-25T22:52:22.836065Z"
    }
   },
   "outputs": [],
   "source": [
    "from sklearn.metrics import confusion_matrix #import sklearn's confusion matrix\n",
    "cm = confusion_matrix(df_test.Target, greedy_workclass) #obtain the confusion matrix"
   ]
  },
  {
   "cell_type": "code",
   "execution_count": 46,
   "id": "d8211b94",
   "metadata": {
    "id": "d8211b94",
    "ExecuteTime": {
     "end_time": "2023-10-25T22:52:23.191239Z",
     "start_time": "2023-10-25T22:52:22.842380Z"
    }
   },
   "outputs": [],
   "source": [
    "total = len(df_test.Target) #number of instances\n",
    "correct = cm[0][0] + cm[1][1] #number of collectly classified instances -- sum of the diagonal\n",
    "accuracy = correct/total #fraction of correct classifications\n",
    "sensitivity = cm[1][1] / (cm[1][0] + cm[1][1]) #fraction of 1's that we can find out of true 1's"
   ]
  },
  {
   "cell_type": "code",
   "execution_count": 47,
   "id": "ab45945f",
   "metadata": {
    "id": "ab45945f",
    "outputId": "227c7ae2-64fd-4936-b6df-fd5488de63e5",
    "ExecuteTime": {
     "end_time": "2023-10-25T22:52:23.191862Z",
     "start_time": "2023-10-25T22:52:22.845658Z"
    }
   },
   "outputs": [
    {
     "name": "stdout",
     "output_type": "stream",
     "text": [
      "Accuracy: 0.7613782937166022 , and Sensitivity: 0.1315652626105044\n"
     ]
    }
   ],
   "source": [
    "print(\"Accuracy:\", accuracy, \", and Sensitivity:\", sensitivity)"
   ]
  },
  {
   "cell_type": "markdown",
   "id": "5b54db7c",
   "metadata": {
    "id": "5b54db7c"
   },
   "source": [
    "### Q4: Further statistics and Outliers."
   ]
  },
  {
   "cell_type": "markdown",
   "id": "4fe26a6a",
   "metadata": {
    "id": "4fe26a6a"
   },
   "source": [
    "#### Q4.1: List the fraction of male and females within US citizens in the training set."
   ]
  },
  {
   "cell_type": "markdown",
   "id": "dfe90132",
   "metadata": {
    "id": "dfe90132"
   },
   "source": [
    "#### A4.1:"
   ]
  },
  {
   "cell_type": "code",
   "execution_count": 48,
   "id": "bee7c43c",
   "metadata": {
    "id": "bee7c43c",
    "outputId": "d005106c-6529-40e9-a85c-fd65f1fbb052",
    "ExecuteTime": {
     "end_time": "2023-10-25T22:52:23.250939Z",
     "start_time": "2023-10-25T22:52:22.851233Z"
    }
   },
   "outputs": [
    {
     "data": {
      "text/plain": "Sex\nMale      0.668084\nFemale    0.331916\nName: proportion, dtype: float64"
     },
     "execution_count": 48,
     "metadata": {},
     "output_type": "execute_result"
    }
   ],
   "source": [
    "df_train[df_train[\"Country\"]==\"United-States\"][\"Sex\"].value_counts(normalize = True)"
   ]
  },
  {
   "cell_type": "markdown",
   "id": "237e267f",
   "metadata": {
    "id": "237e267f"
   },
   "source": [
    "#### Q4.2: What is the most common occupation (training set)?"
   ]
  },
  {
   "cell_type": "markdown",
   "id": "2072749d",
   "metadata": {
    "id": "2072749d"
   },
   "source": [
    "#### A4.2:"
   ]
  },
  {
   "cell_type": "code",
   "execution_count": 49,
   "id": "a1fdf8c8",
   "metadata": {
    "id": "a1fdf8c8",
    "outputId": "dae4f9ee-fbe3-484f-d2ef-0b03945862bd",
    "ExecuteTime": {
     "end_time": "2023-10-25T22:52:23.253181Z",
     "start_time": "2023-10-25T22:52:22.862733Z"
    }
   },
   "outputs": [
    {
     "data": {
      "text/plain": "'Prof-specialty'"
     },
     "execution_count": 49,
     "metadata": {},
     "output_type": "execute_result"
    }
   ],
   "source": [
    "df_train['Occupation'].value_counts().idxmax() #first filter "
   ]
  },
  {
   "cell_type": "markdown",
   "id": "a3c8361e",
   "metadata": {
    "id": "a3c8361e"
   },
   "source": [
    "#### Q4.3: Which occupations are the most common male and female instances, respectively (training set)?"
   ]
  },
  {
   "cell_type": "markdown",
   "id": "a02a1dac",
   "metadata": {
    "id": "a02a1dac"
   },
   "source": [
    "#### A4.3:"
   ]
  },
  {
   "cell_type": "code",
   "execution_count": 50,
   "id": "bdf59b47",
   "metadata": {
    "id": "bdf59b47",
    "outputId": "ddbe90e7-e749-4697-8797-ec0553003327",
    "ExecuteTime": {
     "end_time": "2023-10-25T22:52:23.330955Z",
     "start_time": "2023-10-25T22:52:22.869670Z"
    }
   },
   "outputs": [
    {
     "data": {
      "text/plain": "'Adm-clerical'"
     },
     "execution_count": 50,
     "metadata": {},
     "output_type": "execute_result"
    }
   ],
   "source": [
    "df_train[df_train[\"Sex\"]==\"Female\"]['Occupation'].value_counts().idxmax() #most common female job"
   ]
  },
  {
   "cell_type": "code",
   "execution_count": 51,
   "id": "800dd8cb",
   "metadata": {
    "id": "800dd8cb",
    "outputId": "f47dee87-86d8-4a9d-9382-e17b14425398",
    "ExecuteTime": {
     "end_time": "2023-10-25T22:52:23.332693Z",
     "start_time": "2023-10-25T22:52:22.876355Z"
    }
   },
   "outputs": [
    {
     "data": {
      "text/plain": "'Craft-repair'"
     },
     "execution_count": 51,
     "metadata": {},
     "output_type": "execute_result"
    }
   ],
   "source": [
    "df_train[df_train[\"Sex\"]==\"Male\"]['Occupation'].value_counts().idxmax() #most common male job"
   ]
  },
  {
   "cell_type": "markdown",
   "id": "c9e60fbc",
   "metadata": {
    "id": "c9e60fbc"
   },
   "source": [
    "#### Q4.4: Plot the histogram of the \"Age\" column (using training set data). Let the histogram have 10 bins, and reflect the percentage of instances falling in the relevant bin on Y axis.  Visually try to see if there are outliers. Are there more outliers on the high age, or low age?"
   ]
  },
  {
   "cell_type": "markdown",
   "id": "56f8ec48",
   "metadata": {
    "id": "56f8ec48"
   },
   "source": [
    "#### A4.4: "
   ]
  },
  {
   "cell_type": "code",
   "execution_count": 52,
   "id": "7273c57a",
   "metadata": {
    "id": "7273c57a",
    "outputId": "f2b27b01-1f65-4c5e-b838-5a649ca8dc77",
    "ExecuteTime": {
     "end_time": "2023-10-25T22:52:24.080704Z",
     "start_time": "2023-10-25T22:52:22.885595Z"
    }
   },
   "outputs": [
    {
     "data": {
      "text/plain": "<Figure size 640x480 with 1 Axes>",
      "image/png": "[encoded data removed]"
     },
     "metadata": {},
     "output_type": "display_data"
    }
   ],
   "source": [
    "df_train[\"Age\"].hist(bins=10, weights=np.ones_like(df_train[\"Age\"]) * 100. / len(df_train)).plot()\n",
    "plt.show()\n",
    "plt.close()"
   ]
  },
  {
   "cell_type": "markdown",
   "id": "9425aed5",
   "metadata": {
    "id": "9425aed5"
   },
   "source": [
    "#### Q4.5: Report the age on the $99$-th quantile. "
   ]
  },
  {
   "cell_type": "markdown",
   "id": "6adbc2d6",
   "metadata": {
    "id": "6adbc2d6"
   },
   "source": [
    "#### A4.5:"
   ]
  },
  {
   "cell_type": "code",
   "execution_count": 53,
   "id": "550a44a1",
   "metadata": {
    "id": "550a44a1",
    "outputId": "259dbffa-767c-4c26-e53a-0182116fbee0",
    "ExecuteTime": {
     "end_time": "2023-10-25T22:52:24.099350Z",
     "start_time": "2023-10-25T22:52:23.008628Z"
    }
   },
   "outputs": [
    {
     "data": {
      "text/plain": "74.0"
     },
     "execution_count": 53,
     "metadata": {},
     "output_type": "execute_result"
    }
   ],
   "source": [
    "df_train[\"Age\"].quantile(0.99) #the \".quantile\" function of pandas datframe will be enough"
   ]
  },
  {
   "cell_type": "markdown",
   "id": "c2bf9449",
   "metadata": {
    "id": "c2bf9449"
   },
   "source": [
    "#### Q4.6: Given the previous analysis, would you say there are outliers in this dataset? "
   ]
  },
  {
   "cell_type": "markdown",
   "id": "cc096ae1",
   "metadata": {
    "id": "cc096ae1"
   },
   "source": [
    "#### A4.6:\n",
    "There is no specific answer. However, the 99-th quantile is the age 74, which is quite feasible and it is not an 'erronous' outlier."
   ]
  },
  {
   "cell_type": "markdown",
   "id": "51723656",
   "metadata": {
    "id": "51723656"
   },
   "source": [
    "### Q5: Inspect the correlation of the numerical predictors with the target and report your findings (in training set). What does the correlation of \"Age\" tell us?"
   ]
  },
  {
   "cell_type": "code",
   "execution_count": 54,
   "id": "f9d34eed",
   "metadata": {
    "id": "f9d34eed",
    "outputId": "9cbb702a-2598-4be9-da56-56ab0bd86677",
    "ExecuteTime": {
     "end_time": "2023-10-25T22:52:24.634163Z",
     "start_time": "2023-10-25T22:52:23.011976Z"
    }
   },
   "outputs": [
    {
     "ename": "TypeError",
     "evalue": "unsupported operand type(s) for /: 'str' and 'int'",
     "output_type": "error",
     "traceback": [
      "\u001B[0;31m---------------------------------------------------------------------------\u001B[0m",
      "\u001B[0;31mTypeError\u001B[0m                                 Traceback (most recent call last)",
      "Cell \u001B[0;32mIn[54], line 1\u001B[0m\n\u001B[0;32m----> 1\u001B[0m df_train\u001B[38;5;241m.\u001B[39mcorrwith(df_train[\u001B[38;5;124m\"\u001B[39m\u001B[38;5;124mTarget\u001B[39m\u001B[38;5;124m\"\u001B[39m], method \u001B[38;5;241m=\u001B[39m \u001B[38;5;124m'\u001B[39m\u001B[38;5;124mpearson\u001B[39m\u001B[38;5;124m'\u001B[39m)\n",
      "File \u001B[0;32m~/anaconda3/lib/python3.11/site-packages/pandas/core/frame.py:10301\u001B[0m, in \u001B[0;36mDataFrame.corrwith\u001B[0;34m(self, other, axis, drop, method, numeric_only)\u001B[0m\n\u001B[1;32m  10298\u001B[0m this \u001B[38;5;241m=\u001B[39m \u001B[38;5;28mself\u001B[39m\u001B[38;5;241m.\u001B[39m_get_numeric_data() \u001B[38;5;28;01mif\u001B[39;00m numeric_only \u001B[38;5;28;01melse\u001B[39;00m \u001B[38;5;28mself\u001B[39m\n\u001B[1;32m  10300\u001B[0m \u001B[38;5;28;01mif\u001B[39;00m \u001B[38;5;28misinstance\u001B[39m(other, Series):\n\u001B[0;32m> 10301\u001B[0m     \u001B[38;5;28;01mreturn\u001B[39;00m this\u001B[38;5;241m.\u001B[39mapply(\u001B[38;5;28;01mlambda\u001B[39;00m x: other\u001B[38;5;241m.\u001B[39mcorr(x, method\u001B[38;5;241m=\u001B[39mmethod), axis\u001B[38;5;241m=\u001B[39maxis)\n\u001B[1;32m  10303\u001B[0m \u001B[38;5;28;01mif\u001B[39;00m numeric_only:\n\u001B[1;32m  10304\u001B[0m     other \u001B[38;5;241m=\u001B[39m other\u001B[38;5;241m.\u001B[39m_get_numeric_data()\n",
      "File \u001B[0;32m~/anaconda3/lib/python3.11/site-packages/pandas/core/frame.py:9423\u001B[0m, in \u001B[0;36mDataFrame.apply\u001B[0;34m(self, func, axis, raw, result_type, args, **kwargs)\u001B[0m\n\u001B[1;32m   9412\u001B[0m \u001B[38;5;28;01mfrom\u001B[39;00m \u001B[38;5;21;01mpandas\u001B[39;00m\u001B[38;5;21;01m.\u001B[39;00m\u001B[38;5;21;01mcore\u001B[39;00m\u001B[38;5;21;01m.\u001B[39;00m\u001B[38;5;21;01mapply\u001B[39;00m \u001B[38;5;28;01mimport\u001B[39;00m frame_apply\n\u001B[1;32m   9414\u001B[0m op \u001B[38;5;241m=\u001B[39m frame_apply(\n\u001B[1;32m   9415\u001B[0m     \u001B[38;5;28mself\u001B[39m,\n\u001B[1;32m   9416\u001B[0m     func\u001B[38;5;241m=\u001B[39mfunc,\n\u001B[0;32m   (...)\u001B[0m\n\u001B[1;32m   9421\u001B[0m     kwargs\u001B[38;5;241m=\u001B[39mkwargs,\n\u001B[1;32m   9422\u001B[0m )\n\u001B[0;32m-> 9423\u001B[0m \u001B[38;5;28;01mreturn\u001B[39;00m op\u001B[38;5;241m.\u001B[39mapply()\u001B[38;5;241m.\u001B[39m__finalize__(\u001B[38;5;28mself\u001B[39m, method\u001B[38;5;241m=\u001B[39m\u001B[38;5;124m\"\u001B[39m\u001B[38;5;124mapply\u001B[39m\u001B[38;5;124m\"\u001B[39m)\n",
      "File \u001B[0;32m~/anaconda3/lib/python3.11/site-packages/pandas/core/apply.py:678\u001B[0m, in \u001B[0;36mFrameApply.apply\u001B[0;34m(self)\u001B[0m\n\u001B[1;32m    675\u001B[0m \u001B[38;5;28;01melif\u001B[39;00m \u001B[38;5;28mself\u001B[39m\u001B[38;5;241m.\u001B[39mraw:\n\u001B[1;32m    676\u001B[0m     \u001B[38;5;28;01mreturn\u001B[39;00m \u001B[38;5;28mself\u001B[39m\u001B[38;5;241m.\u001B[39mapply_raw()\n\u001B[0;32m--> 678\u001B[0m \u001B[38;5;28;01mreturn\u001B[39;00m \u001B[38;5;28mself\u001B[39m\u001B[38;5;241m.\u001B[39mapply_standard()\n",
      "File \u001B[0;32m~/anaconda3/lib/python3.11/site-packages/pandas/core/apply.py:798\u001B[0m, in \u001B[0;36mFrameApply.apply_standard\u001B[0;34m(self)\u001B[0m\n\u001B[1;32m    797\u001B[0m \u001B[38;5;28;01mdef\u001B[39;00m \u001B[38;5;21mapply_standard\u001B[39m(\u001B[38;5;28mself\u001B[39m):\n\u001B[0;32m--> 798\u001B[0m     results, res_index \u001B[38;5;241m=\u001B[39m \u001B[38;5;28mself\u001B[39m\u001B[38;5;241m.\u001B[39mapply_series_generator()\n\u001B[1;32m    800\u001B[0m     \u001B[38;5;66;03m# wrap results\u001B[39;00m\n\u001B[1;32m    801\u001B[0m     \u001B[38;5;28;01mreturn\u001B[39;00m \u001B[38;5;28mself\u001B[39m\u001B[38;5;241m.\u001B[39mwrap_results(results, res_index)\n",
      "File \u001B[0;32m~/anaconda3/lib/python3.11/site-packages/pandas/core/apply.py:814\u001B[0m, in \u001B[0;36mFrameApply.apply_series_generator\u001B[0;34m(self)\u001B[0m\n\u001B[1;32m    811\u001B[0m \u001B[38;5;28;01mwith\u001B[39;00m option_context(\u001B[38;5;124m\"\u001B[39m\u001B[38;5;124mmode.chained_assignment\u001B[39m\u001B[38;5;124m\"\u001B[39m, \u001B[38;5;28;01mNone\u001B[39;00m):\n\u001B[1;32m    812\u001B[0m     \u001B[38;5;28;01mfor\u001B[39;00m i, v \u001B[38;5;129;01min\u001B[39;00m \u001B[38;5;28menumerate\u001B[39m(series_gen):\n\u001B[1;32m    813\u001B[0m         \u001B[38;5;66;03m# ignore SettingWithCopy here in case the user mutates\u001B[39;00m\n\u001B[0;32m--> 814\u001B[0m         results[i] \u001B[38;5;241m=\u001B[39m \u001B[38;5;28mself\u001B[39m\u001B[38;5;241m.\u001B[39mf(v)\n\u001B[1;32m    815\u001B[0m         \u001B[38;5;28;01mif\u001B[39;00m \u001B[38;5;28misinstance\u001B[39m(results[i], ABCSeries):\n\u001B[1;32m    816\u001B[0m             \u001B[38;5;66;03m# If we have a view on v, we need to make a copy because\u001B[39;00m\n\u001B[1;32m    817\u001B[0m             \u001B[38;5;66;03m#  series_generator will swap out the underlying data\u001B[39;00m\n\u001B[1;32m    818\u001B[0m             results[i] \u001B[38;5;241m=\u001B[39m results[i]\u001B[38;5;241m.\u001B[39mcopy(deep\u001B[38;5;241m=\u001B[39m\u001B[38;5;28;01mFalse\u001B[39;00m)\n",
      "File \u001B[0;32m~/anaconda3/lib/python3.11/site-packages/pandas/core/frame.py:10301\u001B[0m, in \u001B[0;36mDataFrame.corrwith.<locals>.<lambda>\u001B[0;34m(x)\u001B[0m\n\u001B[1;32m  10298\u001B[0m this \u001B[38;5;241m=\u001B[39m \u001B[38;5;28mself\u001B[39m\u001B[38;5;241m.\u001B[39m_get_numeric_data() \u001B[38;5;28;01mif\u001B[39;00m numeric_only \u001B[38;5;28;01melse\u001B[39;00m \u001B[38;5;28mself\u001B[39m\n\u001B[1;32m  10300\u001B[0m \u001B[38;5;28;01mif\u001B[39;00m \u001B[38;5;28misinstance\u001B[39m(other, Series):\n\u001B[0;32m> 10301\u001B[0m     \u001B[38;5;28;01mreturn\u001B[39;00m this\u001B[38;5;241m.\u001B[39mapply(\u001B[38;5;28;01mlambda\u001B[39;00m x: other\u001B[38;5;241m.\u001B[39mcorr(x, method\u001B[38;5;241m=\u001B[39mmethod), axis\u001B[38;5;241m=\u001B[39maxis)\n\u001B[1;32m  10303\u001B[0m \u001B[38;5;28;01mif\u001B[39;00m numeric_only:\n\u001B[1;32m  10304\u001B[0m     other \u001B[38;5;241m=\u001B[39m other\u001B[38;5;241m.\u001B[39m_get_numeric_data()\n",
      "File \u001B[0;32m~/anaconda3/lib/python3.11/site-packages/pandas/core/series.py:2727\u001B[0m, in \u001B[0;36mSeries.corr\u001B[0;34m(self, other, method, min_periods)\u001B[0m\n\u001B[1;32m   2724\u001B[0m     \u001B[38;5;28;01mreturn\u001B[39;00m np\u001B[38;5;241m.\u001B[39mnan\n\u001B[1;32m   2726\u001B[0m \u001B[38;5;28;01mif\u001B[39;00m method \u001B[38;5;129;01min\u001B[39;00m [\u001B[38;5;124m\"\u001B[39m\u001B[38;5;124mpearson\u001B[39m\u001B[38;5;124m\"\u001B[39m, \u001B[38;5;124m\"\u001B[39m\u001B[38;5;124mspearman\u001B[39m\u001B[38;5;124m\"\u001B[39m, \u001B[38;5;124m\"\u001B[39m\u001B[38;5;124mkendall\u001B[39m\u001B[38;5;124m\"\u001B[39m] \u001B[38;5;129;01mor\u001B[39;00m \u001B[38;5;28mcallable\u001B[39m(method):\n\u001B[0;32m-> 2727\u001B[0m     \u001B[38;5;28;01mreturn\u001B[39;00m nanops\u001B[38;5;241m.\u001B[39mnancorr(\n\u001B[1;32m   2728\u001B[0m         this\u001B[38;5;241m.\u001B[39mvalues, other\u001B[38;5;241m.\u001B[39mvalues, method\u001B[38;5;241m=\u001B[39mmethod, min_periods\u001B[38;5;241m=\u001B[39mmin_periods\n\u001B[1;32m   2729\u001B[0m     )\n\u001B[1;32m   2731\u001B[0m \u001B[38;5;28;01mraise\u001B[39;00m \u001B[38;5;167;01mValueError\u001B[39;00m(\n\u001B[1;32m   2732\u001B[0m     \u001B[38;5;124m\"\u001B[39m\u001B[38;5;124mmethod must be either \u001B[39m\u001B[38;5;124m'\u001B[39m\u001B[38;5;124mpearson\u001B[39m\u001B[38;5;124m'\u001B[39m\u001B[38;5;124m, \u001B[39m\u001B[38;5;124m\"\u001B[39m\n\u001B[1;32m   2733\u001B[0m     \u001B[38;5;124m\"\u001B[39m\u001B[38;5;124m'\u001B[39m\u001B[38;5;124mspearman\u001B[39m\u001B[38;5;124m'\u001B[39m\u001B[38;5;124m, \u001B[39m\u001B[38;5;124m'\u001B[39m\u001B[38;5;124mkendall\u001B[39m\u001B[38;5;124m'\u001B[39m\u001B[38;5;124m, or a callable, \u001B[39m\u001B[38;5;124m\"\u001B[39m\n\u001B[1;32m   2734\u001B[0m     \u001B[38;5;124mf\u001B[39m\u001B[38;5;124m\"\u001B[39m\u001B[38;5;124m'\u001B[39m\u001B[38;5;132;01m{\u001B[39;00mmethod\u001B[38;5;132;01m}\u001B[39;00m\u001B[38;5;124m'\u001B[39m\u001B[38;5;124m was supplied\u001B[39m\u001B[38;5;124m\"\u001B[39m\n\u001B[1;32m   2735\u001B[0m )\n",
      "File \u001B[0;32m~/anaconda3/lib/python3.11/site-packages/pandas/core/nanops.py:96\u001B[0m, in \u001B[0;36mdisallow.__call__.<locals>._f\u001B[0;34m(*args, **kwargs)\u001B[0m\n\u001B[1;32m     94\u001B[0m \u001B[38;5;28;01mtry\u001B[39;00m:\n\u001B[1;32m     95\u001B[0m     \u001B[38;5;28;01mwith\u001B[39;00m np\u001B[38;5;241m.\u001B[39merrstate(invalid\u001B[38;5;241m=\u001B[39m\u001B[38;5;124m\"\u001B[39m\u001B[38;5;124mignore\u001B[39m\u001B[38;5;124m\"\u001B[39m):\n\u001B[0;32m---> 96\u001B[0m         \u001B[38;5;28;01mreturn\u001B[39;00m f(\u001B[38;5;241m*\u001B[39margs, \u001B[38;5;241m*\u001B[39m\u001B[38;5;241m*\u001B[39mkwargs)\n\u001B[1;32m     97\u001B[0m \u001B[38;5;28;01mexcept\u001B[39;00m \u001B[38;5;167;01mValueError\u001B[39;00m \u001B[38;5;28;01mas\u001B[39;00m e:\n\u001B[1;32m     98\u001B[0m     \u001B[38;5;66;03m# we want to transform an object array\u001B[39;00m\n\u001B[1;32m     99\u001B[0m     \u001B[38;5;66;03m# ValueError message to the more typical TypeError\u001B[39;00m\n\u001B[1;32m    100\u001B[0m     \u001B[38;5;66;03m# e.g. this is normally a disallowed function on\u001B[39;00m\n\u001B[1;32m    101\u001B[0m     \u001B[38;5;66;03m# object arrays that contain strings\u001B[39;00m\n\u001B[1;32m    102\u001B[0m     \u001B[38;5;28;01mif\u001B[39;00m is_object_dtype(args[\u001B[38;5;241m0\u001B[39m]):\n",
      "File \u001B[0;32m~/anaconda3/lib/python3.11/site-packages/pandas/core/nanops.py:1614\u001B[0m, in \u001B[0;36mnancorr\u001B[0;34m(a, b, method, min_periods)\u001B[0m\n\u001B[1;32m   1611\u001B[0m     \u001B[38;5;28;01mreturn\u001B[39;00m np\u001B[38;5;241m.\u001B[39mnan\n\u001B[1;32m   1613\u001B[0m f \u001B[38;5;241m=\u001B[39m get_corr_func(method)\n\u001B[0;32m-> 1614\u001B[0m \u001B[38;5;28;01mreturn\u001B[39;00m f(a, b)\n",
      "File \u001B[0;32m~/anaconda3/lib/python3.11/site-packages/pandas/core/nanops.py:1637\u001B[0m, in \u001B[0;36mget_corr_func.<locals>.func\u001B[0;34m(a, b)\u001B[0m\n\u001B[1;32m   1636\u001B[0m \u001B[38;5;28;01mdef\u001B[39;00m \u001B[38;5;21mfunc\u001B[39m(a, b):\n\u001B[0;32m-> 1637\u001B[0m     \u001B[38;5;28;01mreturn\u001B[39;00m np\u001B[38;5;241m.\u001B[39mcorrcoef(a, b)[\u001B[38;5;241m0\u001B[39m, \u001B[38;5;241m1\u001B[39m]\n",
      "File \u001B[0;32m<__array_function__ internals>:200\u001B[0m, in \u001B[0;36mcorrcoef\u001B[0;34m(*args, **kwargs)\u001B[0m\n",
      "File \u001B[0;32m~/anaconda3/lib/python3.11/site-packages/numpy/lib/function_base.py:2846\u001B[0m, in \u001B[0;36mcorrcoef\u001B[0;34m(x, y, rowvar, bias, ddof, dtype)\u001B[0m\n\u001B[1;32m   2842\u001B[0m \u001B[38;5;28;01mif\u001B[39;00m bias \u001B[38;5;129;01mis\u001B[39;00m \u001B[38;5;129;01mnot\u001B[39;00m np\u001B[38;5;241m.\u001B[39m_NoValue \u001B[38;5;129;01mor\u001B[39;00m ddof \u001B[38;5;129;01mis\u001B[39;00m \u001B[38;5;129;01mnot\u001B[39;00m np\u001B[38;5;241m.\u001B[39m_NoValue:\n\u001B[1;32m   2843\u001B[0m     \u001B[38;5;66;03m# 2015-03-15, 1.10\u001B[39;00m\n\u001B[1;32m   2844\u001B[0m     warnings\u001B[38;5;241m.\u001B[39mwarn(\u001B[38;5;124m'\u001B[39m\u001B[38;5;124mbias and ddof have no effect and are deprecated\u001B[39m\u001B[38;5;124m'\u001B[39m,\n\u001B[1;32m   2845\u001B[0m                   \u001B[38;5;167;01mDeprecationWarning\u001B[39;00m, stacklevel\u001B[38;5;241m=\u001B[39m\u001B[38;5;241m3\u001B[39m)\n\u001B[0;32m-> 2846\u001B[0m c \u001B[38;5;241m=\u001B[39m cov(x, y, rowvar, dtype\u001B[38;5;241m=\u001B[39mdtype)\n\u001B[1;32m   2847\u001B[0m \u001B[38;5;28;01mtry\u001B[39;00m:\n\u001B[1;32m   2848\u001B[0m     d \u001B[38;5;241m=\u001B[39m diag(c)\n",
      "File \u001B[0;32m<__array_function__ internals>:200\u001B[0m, in \u001B[0;36mcov\u001B[0;34m(*args, **kwargs)\u001B[0m\n",
      "File \u001B[0;32m~/anaconda3/lib/python3.11/site-packages/numpy/lib/function_base.py:2681\u001B[0m, in \u001B[0;36mcov\u001B[0;34m(m, y, rowvar, bias, ddof, fweights, aweights, dtype)\u001B[0m\n\u001B[1;32m   2678\u001B[0m     \u001B[38;5;28;01melse\u001B[39;00m:\n\u001B[1;32m   2679\u001B[0m         w \u001B[38;5;241m*\u001B[39m\u001B[38;5;241m=\u001B[39m aweights\n\u001B[0;32m-> 2681\u001B[0m avg, w_sum \u001B[38;5;241m=\u001B[39m average(X, axis\u001B[38;5;241m=\u001B[39m\u001B[38;5;241m1\u001B[39m, weights\u001B[38;5;241m=\u001B[39mw, returned\u001B[38;5;241m=\u001B[39m\u001B[38;5;28;01mTrue\u001B[39;00m)\n\u001B[1;32m   2682\u001B[0m w_sum \u001B[38;5;241m=\u001B[39m w_sum[\u001B[38;5;241m0\u001B[39m]\n\u001B[1;32m   2684\u001B[0m \u001B[38;5;66;03m# Determine the normalization\u001B[39;00m\n",
      "File \u001B[0;32m<__array_function__ internals>:200\u001B[0m, in \u001B[0;36maverage\u001B[0;34m(*args, **kwargs)\u001B[0m\n",
      "File \u001B[0;32m~/anaconda3/lib/python3.11/site-packages/numpy/lib/function_base.py:518\u001B[0m, in \u001B[0;36maverage\u001B[0;34m(a, axis, weights, returned, keepdims)\u001B[0m\n\u001B[1;32m    515\u001B[0m     keepdims_kw \u001B[38;5;241m=\u001B[39m {\u001B[38;5;124m'\u001B[39m\u001B[38;5;124mkeepdims\u001B[39m\u001B[38;5;124m'\u001B[39m: keepdims}\n\u001B[1;32m    517\u001B[0m \u001B[38;5;28;01mif\u001B[39;00m weights \u001B[38;5;129;01mis\u001B[39;00m \u001B[38;5;28;01mNone\u001B[39;00m:\n\u001B[0;32m--> 518\u001B[0m     avg \u001B[38;5;241m=\u001B[39m a\u001B[38;5;241m.\u001B[39mmean(axis, \u001B[38;5;241m*\u001B[39m\u001B[38;5;241m*\u001B[39mkeepdims_kw)\n\u001B[1;32m    519\u001B[0m     avg_as_array \u001B[38;5;241m=\u001B[39m np\u001B[38;5;241m.\u001B[39masanyarray(avg)\n\u001B[1;32m    520\u001B[0m     scl \u001B[38;5;241m=\u001B[39m avg_as_array\u001B[38;5;241m.\u001B[39mdtype\u001B[38;5;241m.\u001B[39mtype(a\u001B[38;5;241m.\u001B[39msize\u001B[38;5;241m/\u001B[39mavg_as_array\u001B[38;5;241m.\u001B[39msize)\n",
      "File \u001B[0;32m~/anaconda3/lib/python3.11/site-packages/numpy/core/_methods.py:184\u001B[0m, in \u001B[0;36m_mean\u001B[0;34m(a, axis, dtype, out, keepdims, where)\u001B[0m\n\u001B[1;32m    182\u001B[0m \u001B[38;5;28;01mif\u001B[39;00m \u001B[38;5;28misinstance\u001B[39m(ret, mu\u001B[38;5;241m.\u001B[39mndarray):\n\u001B[1;32m    183\u001B[0m     \u001B[38;5;28;01mwith\u001B[39;00m _no_nep50_warning():\n\u001B[0;32m--> 184\u001B[0m         ret \u001B[38;5;241m=\u001B[39m um\u001B[38;5;241m.\u001B[39mtrue_divide(\n\u001B[1;32m    185\u001B[0m                 ret, rcount, out\u001B[38;5;241m=\u001B[39mret, casting\u001B[38;5;241m=\u001B[39m\u001B[38;5;124m'\u001B[39m\u001B[38;5;124munsafe\u001B[39m\u001B[38;5;124m'\u001B[39m, subok\u001B[38;5;241m=\u001B[39m\u001B[38;5;28;01mFalse\u001B[39;00m)\n\u001B[1;32m    186\u001B[0m     \u001B[38;5;28;01mif\u001B[39;00m is_float16_result \u001B[38;5;129;01mand\u001B[39;00m out \u001B[38;5;129;01mis\u001B[39;00m \u001B[38;5;28;01mNone\u001B[39;00m:\n\u001B[1;32m    187\u001B[0m         ret \u001B[38;5;241m=\u001B[39m arr\u001B[38;5;241m.\u001B[39mdtype\u001B[38;5;241m.\u001B[39mtype(ret)\n",
      "\u001B[0;31mTypeError\u001B[0m: unsupported operand type(s) for /: 'str' and 'int'"
     ]
    }
   ],
   "source": [
    "df_train.corrwith(df_train[\"Target\"], method = 'pearson') #here we will have only numerical values\n",
    "#the more the age is, the more likely a person gets to have a high income."
   ]
  },
  {
   "cell_type": "markdown",
   "id": "76b23df8",
   "metadata": {
    "id": "76b23df8"
   },
   "source": [
    "### Q6: Let us apply Linear Regression for classification. "
   ]
  },
  {
   "cell_type": "markdown",
   "id": "d2964a3d",
   "metadata": {
    "id": "d2964a3d"
   },
   "source": [
    "#### Q6.1: Discuss why Linear Regression is not immediately applicable in this setting."
   ]
  },
  {
   "cell_type": "markdown",
   "id": "1fab9881",
   "metadata": {
    "id": "1fab9881"
   },
   "source": [
    "#### A6.1: \n",
    "Linear Regression, as the name suggests, is a regression method but we would like to apply classification."
   ]
  },
  {
   "cell_type": "markdown",
   "id": "c56bbdcc",
   "metadata": {
    "id": "c56bbdcc"
   },
   "source": [
    "#### Q6.2: Drop rows that include NaN values."
   ]
  },
  {
   "cell_type": "markdown",
   "id": "e48bcd3d",
   "metadata": {
    "id": "e48bcd3d"
   },
   "source": [
    "#### A6.2:"
   ]
  },
  {
   "cell_type": "code",
   "execution_count": null,
   "id": "4482910a",
   "metadata": {
    "id": "4482910a",
    "ExecuteTime": {
     "start_time": "2023-10-25T22:52:23.399806Z"
    }
   },
   "outputs": [],
   "source": [
    "df_save = df_train.copy()   #save for later"
   ]
  },
  {
   "cell_type": "code",
   "execution_count": null,
   "id": "7d8b2cd6",
   "metadata": {
    "id": "7d8b2cd6",
    "ExecuteTime": {
     "start_time": "2023-10-25T22:52:23.401741Z"
    }
   },
   "outputs": [],
   "source": [
    "df_train = df_train.dropna(how='any') #drop"
   ]
  },
  {
   "cell_type": "markdown",
   "id": "b5d8ed38",
   "metadata": {
    "id": "b5d8ed38"
   },
   "source": [
    "#### Q6.3: Train a linear regression model on the training set. Use the numeric columns only."
   ]
  },
  {
   "cell_type": "markdown",
   "id": "47ad2428",
   "metadata": {
    "id": "47ad2428"
   },
   "source": [
    "#### A6.3:"
   ]
  },
  {
   "cell_type": "code",
   "execution_count": null,
   "id": "0eef3d8d",
   "metadata": {
    "id": "0eef3d8d",
    "ExecuteTime": {
     "start_time": "2023-10-25T22:52:23.402161Z"
    }
   },
   "outputs": [],
   "source": [
    "#Step 1 -- take the numeric columns\n",
    "numericals = [] #start with an empty array\n",
    "for i in range(len(df_train.dtypes)): #for all columns\n",
    "    coltype = df_train.dtypes[i] #take the type of column\n",
    "    if coltype != 'object' and df_train.columns[i] != 'Target': #object types are the categorical variables\n",
    "        numericals.append(df_train.columns[i])"
   ]
  },
  {
   "cell_type": "code",
   "execution_count": null,
   "id": "dd2090e4",
   "metadata": {
    "id": "dd2090e4",
    "ExecuteTime": {
     "start_time": "2023-10-25T22:52:23.402325Z"
    }
   },
   "outputs": [],
   "source": [
    "#Step 2 -- fit\n",
    "from sklearn.linear_model import LinearRegression\n",
    "X = df_train[numericals] #training predictors\n",
    "y = df_train.Target #training target\n",
    "clf = LinearRegression().fit(X, y) #time to fit"
   ]
  },
  {
   "cell_type": "markdown",
   "id": "d4676022",
   "metadata": {
    "id": "d4676022"
   },
   "source": [
    "#### Q6.4: Apply the linear model that we just fit and predict the training target. Show the first couple of predictions."
   ]
  },
  {
   "cell_type": "markdown",
   "id": "9d93ccfd",
   "metadata": {
    "id": "9d93ccfd"
   },
   "source": [
    "#### A6.4: "
   ]
  },
  {
   "cell_type": "code",
   "execution_count": null,
   "id": "3bb59844",
   "metadata": {
    "id": "3bb59844",
    "ExecuteTime": {
     "start_time": "2023-10-25T22:52:23.403710Z"
    }
   },
   "outputs": [],
   "source": [
    "scores_linear_training = clf.predict(X) #predict"
   ]
  },
  {
   "cell_type": "code",
   "execution_count": null,
   "id": "83b37f1f",
   "metadata": {
    "id": "83b37f1f",
    "outputId": "4f29ebb6-470d-4309-bc07-cf4bd8e570e9",
    "ExecuteTime": {
     "start_time": "2023-10-25T22:52:23.405136Z"
    }
   },
   "outputs": [],
   "source": [
    "scores_linear_training[:5] #we can see these are continuous, not {0,1}"
   ]
  },
  {
   "cell_type": "markdown",
   "id": "8f576364",
   "metadata": {
    "id": "8f576364"
   },
   "source": [
    "#### Q6.5: To make a classification on the *training set*, use a cutoff value = 0.4 so that if the output is more than this value then we classify as \"1\". Compute the accuracy, sensitivity, and specificity manually (do not use a function). Discuss the performance."
   ]
  },
  {
   "cell_type": "markdown",
   "id": "d0b18c3a",
   "metadata": {
    "id": "d0b18c3a"
   },
   "source": [
    "#### A6.5: "
   ]
  },
  {
   "cell_type": "code",
   "execution_count": null,
   "id": "b4f0afd1",
   "metadata": {
    "id": "b4f0afd1",
    "ExecuteTime": {
     "start_time": "2023-10-25T22:52:23.406900Z"
    }
   },
   "outputs": [],
   "source": [
    "cutoff = 0.4 #cutoff value\n",
    "predicted_linear_training = (scores_linear_training >= cutoff) #take the scores, and apply the logical"
   ]
  },
  {
   "cell_type": "code",
   "execution_count": null,
   "id": "b9389ba4",
   "metadata": {
    "id": "b9389ba4",
    "outputId": "6f32b726-f86d-432e-ed9b-c615503550f2",
    "ExecuteTime": {
     "start_time": "2023-10-25T22:52:23.408500Z"
    }
   },
   "outputs": [],
   "source": [
    "predicted_linear_training[:9] #here are some of the classifications"
   ]
  },
  {
   "cell_type": "code",
   "execution_count": null,
   "id": "7fa5f589",
   "metadata": {
    "id": "7fa5f589",
    "ExecuteTime": {
     "start_time": "2023-10-25T22:52:23.409940Z"
    }
   },
   "outputs": [],
   "source": [
    "def metrics(cm): #this function returns relevant statistics\n",
    "    total = cm[0][0] + cm[1][1] +  cm[0][1] +  cm[1][0]\n",
    "    correct = cm[0][0] + cm[1][1]\n",
    "    accuracy = correct/total\n",
    "    specificity = cm[0][0] / (cm[0][0] + cm[0][1])\n",
    "    sensitivity = cm[1][1] / (cm[1][0] + cm[1][1])\n",
    "    return total, correct,accuracy,specificity,sensitivity"
   ]
  },
  {
   "cell_type": "code",
   "execution_count": null,
   "id": "e4027c0a",
   "metadata": {
    "id": "e4027c0a",
    "ExecuteTime": {
     "start_time": "2023-10-25T22:52:23.411816Z"
    }
   },
   "outputs": [],
   "source": [
    "total_train, correct_train,accuracy_train,specificity_train,sensitivity_train \\\n",
    "= metrics(confusion_matrix(df_train.Target, predicted_linear_training)) #get all the metrics"
   ]
  },
  {
   "cell_type": "code",
   "execution_count": null,
   "id": "ae6bb448",
   "metadata": {
    "id": "ae6bb448",
    "outputId": "6124e7f0-dd8d-42d2-da2e-f2346199071f",
    "ExecuteTime": {
     "start_time": "2023-10-25T22:52:23.413598Z"
    }
   },
   "outputs": [],
   "source": [
    "print(\"Accuracy:\", round(accuracy_train,3), \"\\nSensitivity:\", round(sensitivity_train,3),\\\n",
    "      \"\\nSpecificity:\", round(specificity_train,3))"
   ]
  },
  {
   "cell_type": "markdown",
   "id": "d788f260",
   "metadata": {
    "id": "d788f260"
   },
   "source": [
    "Dicussion: \n",
    "- Accuracy is 79.6%, which is better than the 75% accuracy we can obtain if we say \"0\" to all.\n",
    "- Sensitivity is 47.9%, which is better than the 24% sensitivity we can obtain if we say \"1\" to all.\n",
    "- Both metrics improve the greedy method we applied."
   ]
  },
  {
   "cell_type": "markdown",
   "id": "302f07c3",
   "metadata": {
    "id": "302f07c3"
   },
   "source": [
    "#### Q6.6: Apply the same on training set but decrease the cutoff down to 0.2. Inspect the metrics we looked before, and compare the results with the cutoff 0.4. Interpret the results."
   ]
  },
  {
   "cell_type": "markdown",
   "id": "7b358bd4",
   "metadata": {
    "id": "7b358bd4"
   },
   "source": [
    "#### A6.6:"
   ]
  },
  {
   "cell_type": "code",
   "execution_count": null,
   "id": "b71c2b11",
   "metadata": {
    "id": "b71c2b11",
    "ExecuteTime": {
     "start_time": "2023-10-25T22:52:23.415332Z"
    }
   },
   "outputs": [],
   "source": [
    "cutoff_altenative = 0.2 #cutoff value\n",
    "predicted_linear_training_alternative = (scores_linear_training >= cutoff_altenative)"
   ]
  },
  {
   "cell_type": "code",
   "execution_count": null,
   "id": "72ca3ece",
   "metadata": {
    "id": "72ca3ece",
    "ExecuteTime": {
     "start_time": "2023-10-25T22:52:23.417156Z"
    }
   },
   "outputs": [],
   "source": [
    "_, _,accuracy_train_alt,specificity_train_alt,sensitivity_train_alt \\\n",
    "= metrics(confusion_matrix(df_train.Target, predicted_linear_training_alternative)) #get all the metrics"
   ]
  },
  {
   "cell_type": "code",
   "execution_count": null,
   "id": "98c7f615",
   "metadata": {
    "id": "98c7f615",
    "outputId": "60ebdb2c-1d68-40c4-8647-cdd7459dbcb1",
    "ExecuteTime": {
     "start_time": "2023-10-25T22:52:23.418321Z"
    }
   },
   "outputs": [],
   "source": [
    "print(\"Accuracy:\", round(accuracy_train_alt,3), \"\\nSensitivity:\", round(sensitivity_train_alt,3),\\\n",
    "      \"\\nSpecificity:\", round(specificity_train_alt,3))"
   ]
  },
  {
   "cell_type": "markdown",
   "id": "ba9d850c",
   "metadata": {
    "id": "ba9d850c"
   },
   "source": [
    "Discussion:\n",
    "- We have a much better accuracy with a cost of worse specificity. In return, our accuracy gets worse. "
   ]
  },
  {
   "cell_type": "markdown",
   "id": "ba7483bd",
   "metadata": {
    "id": "ba7483bd"
   },
   "source": [
    "#### Q6.7: Now use the linear model on the *test set*. Choose the cutoff value = 0.4 and return the accuracy, sensitivity, and specificity."
   ]
  },
  {
   "cell_type": "markdown",
   "id": "388e440f",
   "metadata": {
    "id": "388e440f"
   },
   "source": [
    "#### A6.7:"
   ]
  },
  {
   "cell_type": "code",
   "execution_count": null,
   "id": "176d142d",
   "metadata": {
    "id": "176d142d",
    "ExecuteTime": {
     "start_time": "2023-10-25T22:52:23.419231Z"
    }
   },
   "outputs": [],
   "source": [
    "X_test = df_test[numericals] #extract predictors\n",
    "y_test = df_test.Target #same for test target\n",
    "cutoff_test = 0.4\n",
    "scores_linear_test = clf.predict(X_test)\n",
    "predicted_linear_test = (scores_linear_test >= cutoff_test)"
   ]
  },
  {
   "cell_type": "code",
   "execution_count": null,
   "id": "3f8ac3fc",
   "metadata": {
    "id": "3f8ac3fc",
    "ExecuteTime": {
     "start_time": "2023-10-25T22:52:23.420213Z"
    }
   },
   "outputs": [],
   "source": [
    "_, _,accuracy_test,specificity_test,sensitivity_test \\\n",
    "= metrics(confusion_matrix(df_test.Target, predicted_linear_test)) #get all the metrics"
   ]
  },
  {
   "cell_type": "code",
   "execution_count": null,
   "id": "587b5581",
   "metadata": {
    "id": "587b5581",
    "outputId": "431ef567-bdaa-4630-eb5b-b9ca6dca9d4d",
    "ExecuteTime": {
     "start_time": "2023-10-25T22:52:23.421116Z"
    }
   },
   "outputs": [],
   "source": [
    "print(\"Accuracy:\", round(accuracy_test,3), \"\\nSensitivity:\", round(sensitivity_test,3),\\\n",
    "      \"\\nSpecificity:\", round(specificity_test,3))"
   ]
  },
  {
   "cell_type": "markdown",
   "id": "d8c629a2",
   "metadata": {
    "id": "d8c629a2"
   },
   "source": [
    "#### Q6.8: Try different cutoff values on the training set and choose the best one according to the performance on the training set. Choose the following metric to optimize: *keep accuracy above 76% and trying to obtain the best possible sensitivity*. What is the optimal cutoff value in your experiment? (Note: this approach will be discussed later)."
   ]
  },
  {
   "cell_type": "markdown",
   "id": "dbc5a5ed",
   "metadata": {
    "id": "dbc5a5ed"
   },
   "source": [
    "#### A6.8: \n",
    "- Application of the previous chunks in an iterated manner. We do not provide a solution here."
   ]
  },
  {
   "cell_type": "markdown",
   "id": "894f65c6",
   "metadata": {
    "id": "894f65c6"
   },
   "source": [
    "#### Q6.9: In the previous question we tuned the cutoff value on the training set. This initialy makes sense, because we cannot tune on the test-set, which will be indirectly training on the test set. However, we also discussed in the validation-set approach that it is not a good practice to *compare* models on the training set, because of a natural bias in this procedure. Hence, it is a better approach to tune a value on a validation set. For this purpose, apply the following steps:\n",
    "- Split the training set as 80% (training) - 20% (validation) sets. You can take the first 80% and last 20% and no need to randomize the selection.\n",
    "- Train a linear model on the training set obtained in the previous approach. Training one model is enough.\n",
    "- Compare cutoff values between 0.2 - 0.8 with 0.05 increments. Pick the best model by looking at the validation set, where the \"best\" model has an accuracy over 76% and has the highest sensitivity still.\n",
    "- Test the validated cutoff on the test set and return the metrics.\n",
    "- [Extra / optional] Instead of the hold-out validation that you just applied, try 5-fold cross validation in the original training set."
   ]
  },
  {
   "cell_type": "markdown",
   "id": "ec37e32c",
   "metadata": {
    "id": "ec37e32c"
   },
   "source": [
    "#### A6.9"
   ]
  },
  {
   "cell_type": "code",
   "execution_count": null,
   "id": "f70c7746",
   "metadata": {
    "scrolled": true,
    "id": "f70c7746",
    "ExecuteTime": {
     "start_time": "2023-10-25T22:52:23.421972Z"
    }
   },
   "outputs": [],
   "source": [
    "# Step 1 -- split\n",
    "training_nr = round(len(X)*0.8)\n",
    "train_80 = X[:training_nr]\n",
    "y_train_80 = df_train[:training_nr].Target #training target\n",
    "validate_20 = X[training_nr:]\n",
    "y_validate_20 = df_train[training_nr:].Target #training target"
   ]
  },
  {
   "cell_type": "code",
   "execution_count": null,
   "id": "64d77162",
   "metadata": {
    "id": "64d77162",
    "ExecuteTime": {
     "start_time": "2023-10-25T22:52:23.422955Z"
    }
   },
   "outputs": [],
   "source": [
    "# Step 2 -- train\n",
    "clf = LinearRegression().fit(train_80, y_train_80) #time to fit"
   ]
  },
  {
   "cell_type": "code",
   "execution_count": null,
   "id": "3fae9e40",
   "metadata": {
    "id": "3fae9e40",
    "ExecuteTime": {
     "start_time": "2023-10-25T22:52:23.423828Z"
    }
   },
   "outputs": [],
   "source": [
    "# Step 3 -- try cutoffs\n",
    "scores_linear_validation = clf.predict(validate_20) #predict\n",
    "cutoffs = np.arange(0.2,0.85, 0.05)\n",
    "max_cutoff = 0\n",
    "max_sensitivity = 0\n",
    "for cutoff in cutoffs:\n",
    "    predicted_linear_validated = (scores_linear_validation >= cutoff)\n",
    "    _, _,accuracy_validate,specificity_validate, sensitivity_validate \\\n",
    "        = metrics(confusion_matrix(y_validate_20, predicted_linear_validated)) #get all the metrics\n",
    "    if accuracy_validate >= 0.76 and sensitivity_validate >= max_sensitivity:\n",
    "        max_cutoff = cutoff\n",
    "        max_sensitivity = sensitivity_validate\n",
    "        max_accuracy = accuracy_validate"
   ]
  },
  {
   "cell_type": "code",
   "execution_count": null,
   "id": "2a369d80",
   "metadata": {
    "id": "2a369d80",
    "outputId": "d0935f7c-a3b3-4692-eca3-d42a3bd86e17",
    "ExecuteTime": {
     "start_time": "2023-10-25T22:52:23.424687Z"
    }
   },
   "outputs": [],
   "source": [
    "print(\"The best cutoff value is\", max_cutoff, \"with a validation accuracy of\", round(max_accuracy,3), \\\n",
    "      \"and a validation sensitivity of\", round(max_sensitivity,3))"
   ]
  },
  {
   "cell_type": "code",
   "execution_count": null,
   "id": "479e8c71",
   "metadata": {
    "id": "479e8c71",
    "outputId": "1f6c2f59-d77c-4033-9b38-e899a2456c43",
    "ExecuteTime": {
     "start_time": "2023-10-25T22:52:23.425517Z"
    }
   },
   "outputs": [],
   "source": [
    "# step 4 -- test this\n",
    "scores_validated_test = clf.predict(X_test)\n",
    "predicted_validated_test = (scores_validated_test >= max_cutoff)\n",
    "_, _,accuracy_test,specificity_test,sensitivity_test \\\n",
    "    = metrics(confusion_matrix(df_test.Target, predicted_validated_test)) #get all the metrics\n",
    "print(\"Accuracy:\", round(accuracy_test,3), \"\\nSensitivity:\", round(sensitivity_test,3),\\\n",
    "      \"\\nSpecificity:\", round(specificity_test,3)) #we are done!"
   ]
  },
  {
   "cell_type": "markdown",
   "id": "54989749",
   "metadata": {
    "id": "54989749"
   },
   "source": [
    "#### Q6.10: Previously we have seen that if we decrese the cutoff value then we get more sensitivity as we try to classify more \"1\"s. Obviously we would expect to have sensitivity = 1 if we pick the smallest possible cutoff. To this end, try a cutoff = 0 on the test set and report the sensitivity. If the sensitivity is not equal to 1, please give a possible reason."
   ]
  },
  {
   "cell_type": "markdown",
   "id": "9632323d",
   "metadata": {
    "id": "9632323d"
   },
   "source": [
    "#### A6.10:"
   ]
  },
  {
   "cell_type": "code",
   "execution_count": null,
   "id": "d9771103",
   "metadata": {
    "id": "d9771103",
    "outputId": "23133e64-99ee-4afa-dfe6-485383b50eec",
    "ExecuteTime": {
     "start_time": "2023-10-25T22:52:23.426454Z"
    }
   },
   "outputs": [],
   "source": [
    "predicted_validated_test = (scores_validated_test >= 0)\n",
    "_, _,_,_,sensitivity_test = metrics(confusion_matrix(df_test.Target, predicted_validated_test))\n",
    "print(\"\\nSensitivity:\", round(sensitivity_test,3)) #we are done!"
   ]
  },
  {
   "cell_type": "markdown",
   "id": "d0402a8e",
   "metadata": {
    "id": "d0402a8e"
   },
   "source": [
    "- Reason: Linear regression does not necessarily return a value between 0 and 1."
   ]
  },
  {
   "cell_type": "markdown",
   "id": "47d16395",
   "metadata": {
    "id": "47d16395"
   },
   "source": [
    "#### Q6.11 [Bonus / Optional]: Encode \"worksclass\" with dummies so that we can include these variables in the linear regression (i.e., introduce a column for each value the workclass can take and write '1' if this is true -- note that you should drop one of these dummies without loss of generality as from the others you can figure out the one left out). Train the linear regression by using this new variable in addition to the previous variables. Test on the test set by using the cutoff value you found previously."
   ]
  },
  {
   "cell_type": "markdown",
   "id": "c76da1ec",
   "metadata": {
    "id": "c76da1ec"
   },
   "source": [
    "#### A6.11:\n",
    "- Answer not provided, however, one can iterate over the \".dtypes\" of the training set and for every \"O\" data type, convert this to \"Categorical\". Then, using \"pd.get_dummies\" one can obtain dummies on this categorical variable. The rest is identical to what we did before -- only add the new additional numeric values."
   ]
  },
  {
   "cell_type": "markdown",
   "id": "d6a4ec6d",
   "metadata": {
    "id": "d6a4ec6d"
   },
   "source": [
    "### Final notes\n",
    "Note that linear regression is not designed for such tasks, however, it works great in many cases. A variant of linear regression, that is called the *logistic regression*, takes a linear relationship as in the linear regression setting, but applies a non-linear mapping on the output. In return, we obtain predictions that are between [0,1], hence simply using \"predict\" function would classify as \"1\" the instances with >= 0.5 prediction. We can similarly change the threshold. Although logistic regression will be introduced in more detail, we can also write similar code to make use of it easily as the following. "
   ]
  },
  {
   "cell_type": "code",
   "execution_count": null,
   "id": "f04f4297",
   "metadata": {
    "id": "f04f4297",
    "ExecuteTime": {
     "start_time": "2023-10-25T22:52:23.427325Z"
    }
   },
   "outputs": [],
   "source": [
    "from sklearn.linear_model import LogisticRegression\n",
    "clf = LogisticRegression(random_state=0).fit(X, y)"
   ]
  },
  {
   "cell_type": "code",
   "execution_count": null,
   "id": "8b681bc3",
   "metadata": {
    "id": "8b681bc3",
    "ExecuteTime": {
     "start_time": "2023-10-25T22:52:23.428114Z"
    }
   },
   "outputs": [],
   "source": [
    "scores_linear_training = clf.predict(X) #predict function\n",
    "# alternatively, for using a cutoff, first get the assigned 'probabilities' by using \"probs = clf.predict_proba(X)\"\n",
    "# and then apply thresholds."
   ]
  },
  {
   "cell_type": "code",
   "execution_count": null,
   "id": "60d96a0b",
   "metadata": {
    "id": "60d96a0b",
    "ExecuteTime": {
     "start_time": "2023-10-25T22:52:23.429055Z"
    }
   },
   "outputs": [],
   "source": [
    "total_train, correct_train,accuracy_train,specificity_train,sensitivity_train \\\n",
    "= metrics(confusion_matrix(df_train.Target, scores_linear_training))"
   ]
  },
  {
   "cell_type": "markdown",
   "id": "5aaae06e",
   "metadata": {
    "id": "5aaae06e"
   },
   "source": [
    "As extra, you can try coding other concepts such as:\n",
    "- Visualising lift charts and comparing models via lift charts.\n",
    "- Applying more advanced algorithms and/or using further categorial variables by using several encodings.\n",
    "- Analyzing the categorical variables further to see if we have an ordinal relationship that can be modeled via integers.\n",
    "- As mentioned above, using K fold cross validation."
   ]
  }
 ],
 "metadata": {
  "kernelspec": {
   "display_name": "Python 3 (ipykernel)",
   "language": "python",
   "name": "python3"
  },
  "language_info": {
   "codemirror_mode": {
    "name": "ipython",
    "version": 3
   },
   "file_extension": ".py",
   "mimetype": "text/x-python",
   "name": "python",
   "nbconvert_exporter": "python",
   "pygments_lexer": "ipython3",
   "version": "3.8.8"
  },
  "colab": {
   "name": "Project Answers.ipynb",
   "provenance": [],
   "collapsed_sections": [
    "9639540b",
    "7a066ee9",
    "2f534fd6",
    "9410daff",
    "588c3746",
    "9a48a450",
    "61367d5f",
    "22e18ccb",
    "0e29a2aa",
    "c0bb3c5a",
    "e0550f2a",
    "1d5dd1fd",
    "5b54db7c",
    "4fe26a6a",
    "dfe90132",
    "237e267f",
    "2072749d",
    "a3c8361e",
    "a02a1dac",
    "c9e60fbc",
    "56f8ec48",
    "9425aed5",
    "6adbc2d6",
    "c2bf9449",
    "cc096ae1",
    "76b23df8",
    "d2964a3d",
    "1fab9881",
    "c56bbdcc",
    "e48bcd3d",
    "b5d8ed38",
    "47ad2428",
    "d4676022",
    "9d93ccfd",
    "8f576364",
    "d0b18c3a",
    "302f07c3",
    "7b358bd4",
    "ba7483bd",
    "388e440f",
    "d8c629a2",
    "dbc5a5ed",
    "894f65c6",
    "ec37e32c",
    "54989749",
    "9632323d",
    "47d16395",
    "c76da1ec",
    "d6a4ec6d"
   ]
  }
 },
 "nbformat": 4,
 "nbformat_minor": 5
}
