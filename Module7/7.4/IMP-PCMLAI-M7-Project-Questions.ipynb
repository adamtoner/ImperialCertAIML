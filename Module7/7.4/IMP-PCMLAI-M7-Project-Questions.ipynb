{
 "cells": [
  {
   "cell_type": "code",
   "execution_count": 2,
   "id": "631ac862",
   "metadata": {
    "id": "631ac862",
    "ExecuteTime": {
     "end_time": "2023-10-25T21:42:07.371985Z",
     "start_time": "2023-10-25T21:42:06.011716Z"
    }
   },
   "outputs": [],
   "source": [
    "#Import the packages\n",
    "import pandas as pd\n",
    "import numpy as np\n",
    "import matplotlib.pyplot as plt\n"
   ]
  },
  {
   "cell_type": "markdown",
   "id": "2943eec6",
   "metadata": {
    "id": "2943eec6"
   },
   "source": [
    "## We will work with the \"Adult\" Data Set of the UCI Repository"
   ]
  },
  {
   "cell_type": "markdown",
   "id": "75906b0e",
   "metadata": {
    "id": "75906b0e"
   },
   "source": [
    "Here we will try to predict whether one's salary is above or below $50,000/year. \n",
    "The original dataset can be found on UCI Repository: https://archive.ics.uci.edu/ml/datasets/adult"
   ]
  },
  {
   "cell_type": "markdown",
   "id": "25a58790",
   "metadata": {
    "id": "25a58790"
   },
   "source": [
    "### Read the file"
   ]
  },
  {
   "cell_type": "code",
   "execution_count": 3,
   "id": "7755f3f1",
   "metadata": {
    "id": "7755f3f1",
    "ExecuteTime": {
     "end_time": "2023-10-25T21:42:22.511002Z",
     "start_time": "2023-10-25T21:42:09.846440Z"
    }
   },
   "outputs": [],
   "source": [
    "# Source: https://www.valentinmihov.com/2015/04/17/adult-income-data-set/\n",
    "# taken and modified slightly from https://fairmlbook.org/code/adult.html\n",
    "\n",
    "features = [\"Age\", \"Workclass\", \"fnlwgt\", \"Education\", \"Education-Num\", \"Martial Status\",\n",
    "        \"Occupation\", \"Relationship\", \"Race\", \"Sex\", \"Capital Gain\", \"Capital Loss\",\n",
    "        \"Hours per week\", \"Country\", \"Target\"] #feaures of the dataset \n",
    "\n",
    "# Change these to local file if available\n",
    "train_url = 'https://archive.ics.uci.edu/ml/machine-learning-databases/adult/adult.data' #link of the training data\n",
    "test_url = 'https://archive.ics.uci.edu/ml/machine-learning-databases/adult/adult.test' #link of the test data\n",
    "\n",
    "# This will download 3.8M\n",
    "df_train = pd.read_csv(train_url, names=features, sep=r'\\s*,\\s*', \n",
    "                             engine='python', na_values=\"?\") #read csv training\n",
    "# This will download 1.9M\n",
    "df_test = pd.read_csv(test_url, names=features, sep=r'\\s*,\\s*', \n",
    "                            engine='python', na_values=\"?\", skiprows=1) #read csv test\n",
    "\n",
    "num_train = len(df_train) #number of training instances"
   ]
  },
  {
   "cell_type": "markdown",
   "id": "b2e81f9a",
   "metadata": {
    "id": "b2e81f9a"
   },
   "source": [
    "### Q1: Replace the labels of the training and test sets so that \"Target = 1\" means high income and \"Target = 0\" means low income. The target column should be an integer (binary) column eventually."
   ]
  },
  {
   "cell_type": "markdown",
   "id": "74068666",
   "metadata": {
    "id": "74068666"
   },
   "source": [
    "#### A1:"
   ]
  },
  {
   "cell_type": "code",
   "execution_count": 4,
   "outputs": [
    {
     "data": {
      "text/plain": "   Age         Workclass  fnlwgt  Education  Education-Num  \\\n0   39         State-gov   77516  Bachelors             13   \n1   50  Self-emp-not-inc   83311  Bachelors             13   \n2   38           Private  215646    HS-grad              9   \n3   53           Private  234721       11th              7   \n4   28           Private  338409  Bachelors             13   \n\n       Martial Status         Occupation   Relationship   Race     Sex  \\\n0       Never-married       Adm-clerical  Not-in-family  White    Male   \n1  Married-civ-spouse    Exec-managerial        Husband  White    Male   \n2            Divorced  Handlers-cleaners  Not-in-family  White    Male   \n3  Married-civ-spouse  Handlers-cleaners        Husband  Black    Male   \n4  Married-civ-spouse     Prof-specialty           Wife  Black  Female   \n\n   Capital Gain  Capital Loss  Hours per week        Country Target  \n0          2174             0              40  United-States  <=50K  \n1             0             0              13  United-States  <=50K  \n2             0             0              40  United-States  <=50K  \n3             0             0              40  United-States  <=50K  \n4             0             0              40           Cuba  <=50K  ",
      "text/html": "<div>\n<style scoped>\n    .dataframe tbody tr th:only-of-type {\n        vertical-align: middle;\n    }\n\n    .dataframe tbody tr th {\n        vertical-align: top;\n    }\n\n    .dataframe thead th {\n        text-align: right;\n    }\n</style>\n<table border=\"1\" class=\"dataframe\">\n  <thead>\n    <tr style=\"text-align: right;\">\n      <th></th>\n      <th>Age</th>\n      <th>Workclass</th>\n      <th>fnlwgt</th>\n      <th>Education</th>\n      <th>Education-Num</th>\n      <th>Martial Status</th>\n      <th>Occupation</th>\n      <th>Relationship</th>\n      <th>Race</th>\n      <th>Sex</th>\n      <th>Capital Gain</th>\n      <th>Capital Loss</th>\n      <th>Hours per week</th>\n      <th>Country</th>\n      <th>Target</th>\n    </tr>\n  </thead>\n  <tbody>\n    <tr>\n      <th>0</th>\n      <td>39</td>\n      <td>State-gov</td>\n      <td>77516</td>\n      <td>Bachelors</td>\n      <td>13</td>\n      <td>Never-married</td>\n      <td>Adm-clerical</td>\n      <td>Not-in-family</td>\n      <td>White</td>\n      <td>Male</td>\n      <td>2174</td>\n      <td>0</td>\n      <td>40</td>\n      <td>United-States</td>\n      <td>&lt;=50K</td>\n    </tr>\n    <tr>\n      <th>1</th>\n      <td>50</td>\n      <td>Self-emp-not-inc</td>\n      <td>83311</td>\n      <td>Bachelors</td>\n      <td>13</td>\n      <td>Married-civ-spouse</td>\n      <td>Exec-managerial</td>\n      <td>Husband</td>\n      <td>White</td>\n      <td>Male</td>\n      <td>0</td>\n      <td>0</td>\n      <td>13</td>\n      <td>United-States</td>\n      <td>&lt;=50K</td>\n    </tr>\n    <tr>\n      <th>2</th>\n      <td>38</td>\n      <td>Private</td>\n      <td>215646</td>\n      <td>HS-grad</td>\n      <td>9</td>\n      <td>Divorced</td>\n      <td>Handlers-cleaners</td>\n      <td>Not-in-family</td>\n      <td>White</td>\n      <td>Male</td>\n      <td>0</td>\n      <td>0</td>\n      <td>40</td>\n      <td>United-States</td>\n      <td>&lt;=50K</td>\n    </tr>\n    <tr>\n      <th>3</th>\n      <td>53</td>\n      <td>Private</td>\n      <td>234721</td>\n      <td>11th</td>\n      <td>7</td>\n      <td>Married-civ-spouse</td>\n      <td>Handlers-cleaners</td>\n      <td>Husband</td>\n      <td>Black</td>\n      <td>Male</td>\n      <td>0</td>\n      <td>0</td>\n      <td>40</td>\n      <td>United-States</td>\n      <td>&lt;=50K</td>\n    </tr>\n    <tr>\n      <th>4</th>\n      <td>28</td>\n      <td>Private</td>\n      <td>338409</td>\n      <td>Bachelors</td>\n      <td>13</td>\n      <td>Married-civ-spouse</td>\n      <td>Prof-specialty</td>\n      <td>Wife</td>\n      <td>Black</td>\n      <td>Female</td>\n      <td>0</td>\n      <td>0</td>\n      <td>40</td>\n      <td>Cuba</td>\n      <td>&lt;=50K</td>\n    </tr>\n  </tbody>\n</table>\n</div>"
     },
     "execution_count": 4,
     "metadata": {},
     "output_type": "execute_result"
    }
   ],
   "source": [
    "df_train.head()"
   ],
   "metadata": {
    "collapsed": false,
    "ExecuteTime": {
     "end_time": "2023-10-25T21:43:13.773368Z",
     "start_time": "2023-10-25T21:43:13.259068Z"
    }
   },
   "id": "1dbd75c6611f1e82"
  },
  {
   "cell_type": "code",
   "execution_count": 5,
   "outputs": [
    {
     "data": {
      "text/plain": "   Age  Workclass  fnlwgt     Education  Education-Num      Martial Status  \\\n0   25    Private  226802          11th              7       Never-married   \n1   38    Private   89814       HS-grad              9  Married-civ-spouse   \n2   28  Local-gov  336951    Assoc-acdm             12  Married-civ-spouse   \n3   44    Private  160323  Some-college             10  Married-civ-spouse   \n4   18        NaN  103497  Some-college             10       Never-married   \n\n          Occupation Relationship   Race     Sex  Capital Gain  Capital Loss  \\\n0  Machine-op-inspct    Own-child  Black    Male             0             0   \n1    Farming-fishing      Husband  White    Male             0             0   \n2    Protective-serv      Husband  White    Male             0             0   \n3  Machine-op-inspct      Husband  Black    Male          7688             0   \n4                NaN    Own-child  White  Female             0             0   \n\n   Hours per week        Country  Target  \n0              40  United-States  <=50K.  \n1              50  United-States  <=50K.  \n2              40  United-States   >50K.  \n3              40  United-States   >50K.  \n4              30  United-States  <=50K.  ",
      "text/html": "<div>\n<style scoped>\n    .dataframe tbody tr th:only-of-type {\n        vertical-align: middle;\n    }\n\n    .dataframe tbody tr th {\n        vertical-align: top;\n    }\n\n    .dataframe thead th {\n        text-align: right;\n    }\n</style>\n<table border=\"1\" class=\"dataframe\">\n  <thead>\n    <tr style=\"text-align: right;\">\n      <th></th>\n      <th>Age</th>\n      <th>Workclass</th>\n      <th>fnlwgt</th>\n      <th>Education</th>\n      <th>Education-Num</th>\n      <th>Martial Status</th>\n      <th>Occupation</th>\n      <th>Relationship</th>\n      <th>Race</th>\n      <th>Sex</th>\n      <th>Capital Gain</th>\n      <th>Capital Loss</th>\n      <th>Hours per week</th>\n      <th>Country</th>\n      <th>Target</th>\n    </tr>\n  </thead>\n  <tbody>\n    <tr>\n      <th>0</th>\n      <td>25</td>\n      <td>Private</td>\n      <td>226802</td>\n      <td>11th</td>\n      <td>7</td>\n      <td>Never-married</td>\n      <td>Machine-op-inspct</td>\n      <td>Own-child</td>\n      <td>Black</td>\n      <td>Male</td>\n      <td>0</td>\n      <td>0</td>\n      <td>40</td>\n      <td>United-States</td>\n      <td>&lt;=50K.</td>\n    </tr>\n    <tr>\n      <th>1</th>\n      <td>38</td>\n      <td>Private</td>\n      <td>89814</td>\n      <td>HS-grad</td>\n      <td>9</td>\n      <td>Married-civ-spouse</td>\n      <td>Farming-fishing</td>\n      <td>Husband</td>\n      <td>White</td>\n      <td>Male</td>\n      <td>0</td>\n      <td>0</td>\n      <td>50</td>\n      <td>United-States</td>\n      <td>&lt;=50K.</td>\n    </tr>\n    <tr>\n      <th>2</th>\n      <td>28</td>\n      <td>Local-gov</td>\n      <td>336951</td>\n      <td>Assoc-acdm</td>\n      <td>12</td>\n      <td>Married-civ-spouse</td>\n      <td>Protective-serv</td>\n      <td>Husband</td>\n      <td>White</td>\n      <td>Male</td>\n      <td>0</td>\n      <td>0</td>\n      <td>40</td>\n      <td>United-States</td>\n      <td>&gt;50K.</td>\n    </tr>\n    <tr>\n      <th>3</th>\n      <td>44</td>\n      <td>Private</td>\n      <td>160323</td>\n      <td>Some-college</td>\n      <td>10</td>\n      <td>Married-civ-spouse</td>\n      <td>Machine-op-inspct</td>\n      <td>Husband</td>\n      <td>Black</td>\n      <td>Male</td>\n      <td>7688</td>\n      <td>0</td>\n      <td>40</td>\n      <td>United-States</td>\n      <td>&gt;50K.</td>\n    </tr>\n    <tr>\n      <th>4</th>\n      <td>18</td>\n      <td>NaN</td>\n      <td>103497</td>\n      <td>Some-college</td>\n      <td>10</td>\n      <td>Never-married</td>\n      <td>NaN</td>\n      <td>Own-child</td>\n      <td>White</td>\n      <td>Female</td>\n      <td>0</td>\n      <td>0</td>\n      <td>30</td>\n      <td>United-States</td>\n      <td>&lt;=50K.</td>\n    </tr>\n  </tbody>\n</table>\n</div>"
     },
     "execution_count": 5,
     "metadata": {},
     "output_type": "execute_result"
    }
   ],
   "source": [
    "df_test.head()"
   ],
   "metadata": {
    "collapsed": false,
    "ExecuteTime": {
     "end_time": "2023-10-25T21:43:23.449834Z",
     "start_time": "2023-10-25T21:43:22.938674Z"
    }
   },
   "id": "1a6ee2cd9666ae53"
  },
  {
   "cell_type": "code",
   "execution_count": 7,
   "id": "5d0d9a5e",
   "metadata": {
    "id": "5d0d9a5e",
    "ExecuteTime": {
     "end_time": "2023-10-25T21:43:48.288572Z",
     "start_time": "2023-10-25T21:43:47.803361Z"
    }
   },
   "outputs": [],
   "source": [
    "#now we can replace the labels\n",
    "df_train.Target = df_train.Target.replace('<=50K', 0).replace('>50K', 1)\n",
    "df_test.Target = df_test.Target.replace('<=50K.', 0).replace('>50K.', 1)"
   ]
  },
  {
   "cell_type": "markdown",
   "id": "256144fd",
   "metadata": {
    "id": "256144fd",
    "ExecuteTime": {
     "end_time": "2023-10-25T21:38:39.151780Z",
     "start_time": "2023-10-25T21:38:38.923764Z"
    }
   },
   "source": [
    "### Q2: Inspect the column names and the data type of each column. Answer the following."
   ]
  },
  {
   "cell_type": "markdown",
   "id": "23c2af7a",
   "metadata": {
    "id": "23c2af7a",
    "ExecuteTime": {
     "end_time": "2023-10-25T21:38:14.044147Z",
     "start_time": "2023-10-25T21:38:13.995416Z"
    }
   },
   "source": [
    "#### Q2.1: List how many missing values there are in each column for training and test sets."
   ]
  },
  {
   "cell_type": "markdown",
   "id": "9c5fc3bf",
   "metadata": {
    "id": "9c5fc3bf"
   },
   "source": [
    "#### A2.1:"
   ]
  },
  {
   "cell_type": "code",
   "execution_count": 8,
   "id": "dca8a1f4",
   "metadata": {
    "id": "dca8a1f4",
    "ExecuteTime": {
     "end_time": "2023-10-25T21:44:27.164395Z",
     "start_time": "2023-10-25T21:44:27.048748Z"
    }
   },
   "outputs": [
    {
     "name": "stdout",
     "output_type": "stream",
     "text": [
      "<class 'pandas.core.frame.DataFrame'>\n",
      "RangeIndex: 32561 entries, 0 to 32560\n",
      "Data columns (total 15 columns):\n",
      " #   Column          Non-Null Count  Dtype \n",
      "---  ------          --------------  ----- \n",
      " 0   Age             32561 non-null  int64 \n",
      " 1   Workclass       30725 non-null  object\n",
      " 2   fnlwgt          32561 non-null  int64 \n",
      " 3   Education       32561 non-null  object\n",
      " 4   Education-Num   32561 non-null  int64 \n",
      " 5   Martial Status  32561 non-null  object\n",
      " 6   Occupation      30718 non-null  object\n",
      " 7   Relationship    32561 non-null  object\n",
      " 8   Race            32561 non-null  object\n",
      " 9   Sex             32561 non-null  object\n",
      " 10  Capital Gain    32561 non-null  int64 \n",
      " 11  Capital Loss    32561 non-null  int64 \n",
      " 12  Hours per week  32561 non-null  int64 \n",
      " 13  Country         31978 non-null  object\n",
      " 14  Target          32561 non-null  int64 \n",
      "dtypes: int64(7), object(8)\n",
      "memory usage: 3.7+ MB\n"
     ]
    }
   ],
   "source": [
    "#first list the columns\n",
    "pd.set_option('max_colwidth', None)\n",
    "df_train.info(verbose=True)"
   ]
  },
  {
   "cell_type": "code",
   "execution_count": 9,
   "id": "1ab5b9f2",
   "metadata": {
    "id": "1ab5b9f2",
    "ExecuteTime": {
     "end_time": "2023-10-25T21:44:44.319712Z",
     "start_time": "2023-10-25T21:44:44.049984Z"
    }
   },
   "outputs": [
    {
     "data": {
      "text/plain": "Age                  0\nWorkclass         1836\nfnlwgt               0\nEducation            0\nEducation-Num        0\nMartial Status       0\nOccupation        1843\nRelationship         0\nRace                 0\nSex                  0\nCapital Gain         0\nCapital Loss         0\nHours per week       0\nCountry            583\nTarget               0\ndtype: int64"
     },
     "execution_count": 9,
     "metadata": {},
     "output_type": "execute_result"
    }
   ],
   "source": [
    "#now see the number of missing values for each column -- training\n",
    "df_train.isna().sum()"
   ]
  },
  {
   "cell_type": "code",
   "execution_count": 10,
   "id": "a65a73ed",
   "metadata": {
    "scrolled": true,
    "id": "a65a73ed",
    "ExecuteTime": {
     "end_time": "2023-10-25T21:45:11.543162Z",
     "start_time": "2023-10-25T21:45:11.404532Z"
    }
   },
   "outputs": [
    {
     "data": {
      "text/plain": "Age                 0\nWorkclass         963\nfnlwgt              0\nEducation           0\nEducation-Num       0\nMartial Status      0\nOccupation        966\nRelationship        0\nRace                0\nSex                 0\nCapital Gain        0\nCapital Loss        0\nHours per week      0\nCountry           274\nTarget              0\ndtype: int64"
     },
     "execution_count": 10,
     "metadata": {},
     "output_type": "execute_result"
    }
   ],
   "source": [
    "#see the number of missing values for each column -- test\n",
    "df_test.isna().sum()"
   ]
  },
  {
   "cell_type": "markdown",
   "id": "4567035d",
   "metadata": {
    "id": "4567035d"
   },
   "source": [
    "#### Q2.2: How many missing values there are in total for the training set?"
   ]
  },
  {
   "cell_type": "markdown",
   "id": "797ae857",
   "metadata": {
    "id": "797ae857"
   },
   "source": [
    "#### A2.2:"
   ]
  },
  {
   "cell_type": "code",
   "execution_count": 13,
   "id": "e542ea52",
   "metadata": {
    "id": "e542ea52",
    "ExecuteTime": {
     "end_time": "2023-10-25T21:46:13.357311Z",
     "start_time": "2023-10-25T21:46:13.268060Z"
    }
   },
   "outputs": [
    {
     "data": {
      "text/plain": "4262"
     },
     "execution_count": 13,
     "metadata": {},
     "output_type": "execute_result"
    }
   ],
   "source": [
    "df_train.isna().sum().sum()"
   ]
  },
  {
   "cell_type": "markdown",
   "id": "797ec48d",
   "metadata": {
    "id": "797ec48d"
   },
   "source": [
    "#### Q2.3: How many rows are there with at least one NaN?"
   ]
  },
  {
   "cell_type": "markdown",
   "id": "146b35ef",
   "metadata": {
    "id": "146b35ef"
   },
   "source": [
    "#### A2.3:"
   ]
  },
  {
   "cell_type": "code",
   "execution_count": 14,
   "id": "3e8ddf2e",
   "metadata": {
    "id": "3e8ddf2e",
    "ExecuteTime": {
     "end_time": "2023-10-25T21:46:48.398308Z",
     "start_time": "2023-10-25T21:46:48.212239Z"
    }
   },
   "outputs": [
    {
     "data": {
      "text/plain": "2399"
     },
     "execution_count": 14,
     "metadata": {},
     "output_type": "execute_result"
    }
   ],
   "source": [
    "#one possible way:\n",
    "#take a True/False Series for whether each row includes NaN. Then sum them, where True will be taken as = 1.\n",
    "df_train.isna().any(axis=1).sum()"
   ]
  },
  {
   "cell_type": "markdown",
   "id": "23e9f381",
   "metadata": {
    "id": "23e9f381"
   },
   "source": [
    "#### Q2.4: If NaN's were identially distributed among the NaN rows at random, then what is the expectation of the number of NaNs in a row that has at least one NaN? If you find the same expectation for the test set, do these values look alike?"
   ]
  },
  {
   "cell_type": "markdown",
   "id": "5adcc5a4",
   "metadata": {
    "id": "5adcc5a4"
   },
   "source": [
    "#### A2.4:"
   ]
  },
  {
   "cell_type": "code",
   "execution_count": 15,
   "id": "fea07117",
   "metadata": {
    "id": "fea07117",
    "ExecuteTime": {
     "end_time": "2023-10-25T21:48:06.496344Z",
     "start_time": "2023-10-25T21:48:06.409614Z"
    }
   },
   "outputs": [
    {
     "data": {
      "text/plain": "1.7765735723218008"
     },
     "execution_count": 15,
     "metadata": {},
     "output_type": "execute_result"
    }
   ],
   "source": [
    "df_train.isna().sum().sum() / df_train.isna().any(axis=1).sum()"
   ]
  },
  {
   "cell_type": "code",
   "execution_count": 16,
   "outputs": [
    {
     "data": {
      "text/plain": "1.8042588042588044"
     },
     "execution_count": 16,
     "metadata": {},
     "output_type": "execute_result"
    }
   ],
   "source": [
    "df_test.isna().sum().sum() / df_test.isna().any(axis=1).sum()"
   ],
   "metadata": {
    "collapsed": false,
    "ExecuteTime": {
     "end_time": "2023-10-25T21:48:39.384167Z",
     "start_time": "2023-10-25T21:48:39.157526Z"
    }
   },
   "id": "77aa870fb512b1aa"
  },
  {
   "cell_type": "markdown",
   "source": [
    "The values are quite similar."
   ],
   "metadata": {
    "collapsed": false
   },
   "id": "9714efccaefccda5"
  },
  {
   "cell_type": "markdown",
   "id": "f49afb50",
   "metadata": {
    "id": "f49afb50"
   },
   "source": [
    "### Q3: Let us inspect the target variable further."
   ]
  },
  {
   "cell_type": "markdown",
   "id": "61367d5f",
   "metadata": {
    "id": "61367d5f"
   },
   "source": [
    "#### Q3.1: What fraction of the training instances are making high income? Does a similar result hold for the test set?"
   ]
  },
  {
   "cell_type": "markdown",
   "id": "68233a89",
   "metadata": {
    "id": "68233a89"
   },
   "source": [
    "#### A3.1:"
   ]
  },
  {
   "cell_type": "code",
   "execution_count": 17,
   "id": "6cc1ae0d",
   "metadata": {
    "id": "6cc1ae0d",
    "ExecuteTime": {
     "end_time": "2023-10-25T21:49:43.233082Z",
     "start_time": "2023-10-25T21:49:43.114674Z"
    }
   },
   "outputs": [
    {
     "data": {
      "text/plain": "Target\n0    0.75919\n1    0.24081\nName: proportion, dtype: float64"
     },
     "execution_count": 17,
     "metadata": {},
     "output_type": "execute_result"
    }
   ],
   "source": [
    "df_train[\"Target\"].value_counts(normalize = True)"
   ]
  },
  {
   "cell_type": "code",
   "execution_count": 18,
   "id": "80e9804f",
   "metadata": {
    "id": "80e9804f",
    "ExecuteTime": {
     "end_time": "2023-10-25T21:50:04.450044Z",
     "start_time": "2023-10-25T21:50:04.016885Z"
    }
   },
   "outputs": [
    {
     "data": {
      "text/plain": "Target\n0    0.763774\n1    0.236226\nName: proportion, dtype: float64"
     },
     "execution_count": 18,
     "metadata": {},
     "output_type": "execute_result"
    }
   ],
   "source": [
    "df_test[\"Target\"].value_counts(normalize = True)"
   ]
  },
  {
   "cell_type": "markdown",
   "source": [
    "Both have a similar split of 76:24 when rounded"
   ],
   "metadata": {
    "collapsed": false
   },
   "id": "6aede259553454e4"
  },
  {
   "cell_type": "markdown",
   "id": "d3366487",
   "metadata": {
    "id": "d3366487"
   },
   "source": [
    "#### Q3.2: If we classify everyone as a low-income instance, what is our accuracy, sensitivity, and specificy in the test set? Assume that a \"positive\" class is a high income class, that is, our end goal is to be able to tell who makes more money."
   ]
  },
  {
   "cell_type": "markdown",
   "id": "3d79e4f3",
   "metadata": {
    "id": "3d79e4f3"
   },
   "source": [
    "#### A3.2:"
   ]
  },
  {
   "cell_type": "code",
   "execution_count": 23,
   "id": "1e69bf06",
   "metadata": {
    "id": "1e69bf06",
    "ExecuteTime": {
     "end_time": "2023-10-25T21:54:07.805897Z",
     "start_time": "2023-10-25T21:54:07.703649Z"
    }
   },
   "outputs": [],
   "source": [
    "accuracy = 1 - df_test['Target'].mean()\n",
    "sensitivity = 0\n",
    "specificity = 1"
   ]
  },
  {
   "cell_type": "markdown",
   "id": "a87bc8cc",
   "metadata": {
    "id": "a87bc8cc"
   },
   "source": [
    "#### Q3.3: List the fraction of high income instances within each group of \"workclass\" separately in the training set. Do you have an intuition on this?"
   ]
  },
  {
   "cell_type": "markdown",
   "id": "3e650ccc",
   "metadata": {
    "id": "3e650ccc"
   },
   "source": [
    "#### A3.3:"
   ]
  },
  {
   "cell_type": "code",
   "execution_count": 26,
   "id": "6693e54c",
   "metadata": {
    "id": "6693e54c",
    "ExecuteTime": {
     "end_time": "2023-10-25T21:55:29.907241Z",
     "start_time": "2023-10-25T21:55:29.378377Z"
    }
   },
   "outputs": [
    {
     "data": {
      "text/plain": "          Workclass    Target\n0       Federal-gov  0.386458\n1         Local-gov  0.294792\n2      Never-worked  0.000000\n3           Private  0.218673\n4      Self-emp-inc  0.557348\n5  Self-emp-not-inc  0.284927\n6         State-gov  0.271957\n7       Without-pay  0.000000",
      "text/html": "<div>\n<style scoped>\n    .dataframe tbody tr th:only-of-type {\n        vertical-align: middle;\n    }\n\n    .dataframe tbody tr th {\n        vertical-align: top;\n    }\n\n    .dataframe thead th {\n        text-align: right;\n    }\n</style>\n<table border=\"1\" class=\"dataframe\">\n  <thead>\n    <tr style=\"text-align: right;\">\n      <th></th>\n      <th>Workclass</th>\n      <th>Target</th>\n    </tr>\n  </thead>\n  <tbody>\n    <tr>\n      <th>0</th>\n      <td>Federal-gov</td>\n      <td>0.386458</td>\n    </tr>\n    <tr>\n      <th>1</th>\n      <td>Local-gov</td>\n      <td>0.294792</td>\n    </tr>\n    <tr>\n      <th>2</th>\n      <td>Never-worked</td>\n      <td>0.000000</td>\n    </tr>\n    <tr>\n      <th>3</th>\n      <td>Private</td>\n      <td>0.218673</td>\n    </tr>\n    <tr>\n      <th>4</th>\n      <td>Self-emp-inc</td>\n      <td>0.557348</td>\n    </tr>\n    <tr>\n      <th>5</th>\n      <td>Self-emp-not-inc</td>\n      <td>0.284927</td>\n    </tr>\n    <tr>\n      <th>6</th>\n      <td>State-gov</td>\n      <td>0.271957</td>\n    </tr>\n    <tr>\n      <th>7</th>\n      <td>Without-pay</td>\n      <td>0.000000</td>\n    </tr>\n  </tbody>\n</table>\n</div>"
     },
     "execution_count": 26,
     "metadata": {},
     "output_type": "execute_result"
    }
   ],
   "source": [
    "df_train.groupby('Workclass', as_index=False)['Target'].mean() #or you can find this via alternative codes"
   ]
  },
  {
   "cell_type": "markdown",
   "source": [
    "Never-worked and without-pay are at the bottom as expected."
   ],
   "metadata": {
    "collapsed": false
   },
   "id": "9b2d94a0d52c498"
  },
  {
   "cell_type": "markdown",
   "id": "7e568da8",
   "metadata": {
    "id": "7e568da8"
   },
   "source": [
    "#### Q3.4: Motivated by the question before, apply the following simple classification on the test set: if an instance has a workclass that is in the first or second highest-making group, then classify \"1\". What is the accuracy and the sensitivity of this model?"
   ]
  },
  {
   "cell_type": "markdown",
   "id": "f9ea66e1",
   "metadata": {
    "id": "f9ea66e1"
   },
   "source": [
    "#### A3.4:"
   ]
  },
  {
   "cell_type": "code",
   "execution_count": 74,
   "id": "a5e48d61",
   "metadata": {
    "id": "a5e48d61",
    "ExecuteTime": {
     "end_time": "2023-10-25T22:39:25.000688Z",
     "start_time": "2023-10-25T22:39:24.788885Z"
    }
   },
   "outputs": [],
   "source": [
    "greedy_workclass = df_test.apply(lambda row: 1 if (row['Workclass'] == 'Self-emp-inc' or row['Workclass'] == 'Federal-gov') else 0, axis = 1) #apply a function to predict -- fill the dots"
   ]
  },
  {
   "cell_type": "code",
   "execution_count": 75,
   "id": "b0cc9639",
   "metadata": {
    "id": "b0cc9639",
    "ExecuteTime": {
     "end_time": "2023-10-25T22:39:26.159764Z",
     "start_time": "2023-10-25T22:39:26.084216Z"
    }
   },
   "outputs": [],
   "source": [
    "from sklearn.metrics import confusion_matrix #import sklearn's confusion matrix\n",
    "cm = confusion_matrix(df_test.Target, greedy_workclass) #obtain the confusion matrix"
   ]
  },
  {
   "cell_type": "code",
   "execution_count": 76,
   "id": "49417cc3",
   "metadata": {
    "id": "49417cc3",
    "ExecuteTime": {
     "end_time": "2023-10-25T22:39:27.430080Z",
     "start_time": "2023-10-25T22:39:27.391151Z"
    }
   },
   "outputs": [],
   "source": [
    "total = len(df_test.Target)\n",
    "correct = cm[0][0] + cm[1][1] #number of collectly classified instances -- sum of the ??\n",
    "accuracy = (cm[0][0] + cm[1][1])/(cm[0][0] + cm[0][1] + cm[1][0] + cm[1][1])\n",
    "sensitivity = cm[1][1] / (cm[1][0] + cm[1][1])"
   ]
  },
  {
   "cell_type": "code",
   "execution_count": 77,
   "id": "21d92e8d",
   "metadata": {
    "id": "21d92e8d",
    "ExecuteTime": {
     "end_time": "2023-10-25T22:39:29.262841Z",
     "start_time": "2023-10-25T22:39:29.218312Z"
    }
   },
   "outputs": [
    {
     "name": "stdout",
     "output_type": "stream",
     "text": [
      "Accuracy: 0.7613782937166022 , and Sensitivity: 0.1315652626105044\n"
     ]
    }
   ],
   "source": [
    "print(\"Accuracy:\", accuracy, \", and Sensitivity:\", sensitivity)"
   ]
  },
  {
   "cell_type": "markdown",
   "id": "e7656c1e",
   "metadata": {
    "id": "e7656c1e"
   },
   "source": [
    "### Q4: Further statistics and Outliers."
   ]
  },
  {
   "cell_type": "markdown",
   "id": "cfb01a85",
   "metadata": {
    "id": "cfb01a85"
   },
   "source": [
    "#### Q4.1: List the fraction of male and females within US citizens in the training set."
   ]
  },
  {
   "cell_type": "markdown",
   "id": "92e8b941",
   "metadata": {
    "id": "92e8b941"
   },
   "source": [
    "#### A4.1:"
   ]
  },
  {
   "cell_type": "code",
   "execution_count": 31,
   "id": "bee7c43c",
   "metadata": {
    "id": "bee7c43c",
    "ExecuteTime": {
     "end_time": "2023-10-25T22:00:54.165321Z",
     "start_time": "2023-10-25T22:00:54.067962Z"
    }
   },
   "outputs": [
    {
     "data": {
      "text/plain": "Sex\nMale      0.668084\nFemale    0.331916\nName: proportion, dtype: float64"
     },
     "execution_count": 31,
     "metadata": {},
     "output_type": "execute_result"
    }
   ],
   "source": [
    "df_train[df_train['Country'] == 'United-States']['Sex'].value_counts(normalize = True)"
   ]
  },
  {
   "cell_type": "markdown",
   "id": "89f1c7f0",
   "metadata": {
    "id": "89f1c7f0"
   },
   "source": [
    "#### Q4.2: What is the most common occupation (training set)?"
   ]
  },
  {
   "cell_type": "markdown",
   "id": "2018caa6",
   "metadata": {
    "id": "2018caa6"
   },
   "source": [
    "#### A4.2:"
   ]
  },
  {
   "cell_type": "code",
   "execution_count": 32,
   "id": "f4e270a5",
   "metadata": {
    "id": "f4e270a5",
    "ExecuteTime": {
     "end_time": "2023-10-25T22:01:28.465251Z",
     "start_time": "2023-10-25T22:01:28.363068Z"
    }
   },
   "outputs": [
    {
     "data": {
      "text/plain": "Occupation\nProf-specialty       4140\nCraft-repair         4099\nExec-managerial      4066\nAdm-clerical         3770\nSales                3650\nOther-service        3295\nMachine-op-inspct    2002\nTransport-moving     1597\nHandlers-cleaners    1370\nFarming-fishing       994\nTech-support          928\nProtective-serv       649\nPriv-house-serv       149\nArmed-Forces            9\nName: count, dtype: int64"
     },
     "execution_count": 32,
     "metadata": {},
     "output_type": "execute_result"
    }
   ],
   "source": [
    "df_train['Occupation'].value_counts()"
   ]
  },
  {
   "cell_type": "markdown",
   "source": [
    "Answer: Prof-specialty"
   ],
   "metadata": {
    "collapsed": false
   },
   "id": "90fd8548fb1830c8"
  },
  {
   "cell_type": "markdown",
   "id": "0c0cb992",
   "metadata": {
    "id": "0c0cb992"
   },
   "source": [
    "#### Q4.3: Which occupations are the most common male and female instances, respectively (training set)?"
   ]
  },
  {
   "cell_type": "markdown",
   "id": "58fcae06",
   "metadata": {
    "id": "58fcae06"
   },
   "source": [
    "#### A4.3:"
   ]
  },
  {
   "cell_type": "code",
   "execution_count": 33,
   "id": "bdf59b47",
   "metadata": {
    "id": "bdf59b47",
    "ExecuteTime": {
     "end_time": "2023-10-25T22:03:55.806040Z",
     "start_time": "2023-10-25T22:03:55.684377Z"
    }
   },
   "outputs": [
    {
     "data": {
      "text/plain": "'Adm-clerical'"
     },
     "execution_count": 33,
     "metadata": {},
     "output_type": "execute_result"
    }
   ],
   "source": [
    "df_train[df_train[\"Sex\"]==\"Female\"]['Occupation'].value_counts().idxmax()"
   ]
  },
  {
   "cell_type": "code",
   "execution_count": 34,
   "id": "800dd8cb",
   "metadata": {
    "id": "800dd8cb",
    "ExecuteTime": {
     "end_time": "2023-10-25T22:05:25.162708Z",
     "start_time": "2023-10-25T22:05:25.044713Z"
    }
   },
   "outputs": [
    {
     "data": {
      "text/plain": "'Craft-repair'"
     },
     "execution_count": 34,
     "metadata": {},
     "output_type": "execute_result"
    }
   ],
   "source": [
    "df_train[df_train[\"Sex\"]==\"Male\"]['Occupation'].value_counts().idxmax()"
   ]
  },
  {
   "cell_type": "markdown",
   "id": "13ab38b5",
   "metadata": {
    "id": "13ab38b5"
   },
   "source": [
    "#### Q4.4: Plot the histogram of the \"Age\" column (using training set data). Let the histogram have 10 bins, and reflect the percentage of instances falling in the relevant bin on Y axis.  Visually try to see if there are outliers. Are there more outliers on the high age, or low age?"
   ]
  },
  {
   "cell_type": "markdown",
   "id": "3a5ca4f6",
   "metadata": {
    "id": "3a5ca4f6"
   },
   "source": [
    "#### A4.4: "
   ]
  },
  {
   "cell_type": "code",
   "execution_count": 35,
   "id": "a5e9f6b0",
   "metadata": {
    "id": "a5e9f6b0",
    "ExecuteTime": {
     "end_time": "2023-10-25T22:06:57.055864Z",
     "start_time": "2023-10-25T22:06:56.838123Z"
    }
   },
   "outputs": [
    {
     "data": {
      "text/plain": "<Figure size 640x480 with 1 Axes>",
      "image/png": "[encoded data removed]"
     },
     "metadata": {},
     "output_type": "display_data"
    }
   ],
   "source": [
    "df_train[\"Age\"].hist(bins=10, weights=np.ones_like(df_train['Age']) * 100. / len(df_train)).plot()\n",
    "plt.show()\n",
    "plt.close()"
   ]
  },
  {
   "cell_type": "markdown",
   "source": [
    "There are more outliers at higher ages."
   ],
   "metadata": {
    "collapsed": false
   },
   "id": "9b78f35f3e51cf60"
  },
  {
   "cell_type": "markdown",
   "id": "cd16ee2a",
   "metadata": {
    "id": "cd16ee2a"
   },
   "source": [
    "#### Q4.5: Report the age on the $99$-th quantile. "
   ]
  },
  {
   "cell_type": "markdown",
   "id": "d107d0dd",
   "metadata": {
    "id": "d107d0dd"
   },
   "source": [
    "#### A4.5:"
   ]
  },
  {
   "cell_type": "code",
   "execution_count": 36,
   "id": "550a44a1",
   "metadata": {
    "id": "550a44a1",
    "ExecuteTime": {
     "end_time": "2023-10-25T22:08:05.436741Z",
     "start_time": "2023-10-25T22:08:05.383762Z"
    }
   },
   "outputs": [
    {
     "data": {
      "text/plain": "74.0"
     },
     "execution_count": 36,
     "metadata": {},
     "output_type": "execute_result"
    }
   ],
   "source": [
    "df_train['Age'].quantile(0.99)"
   ]
  },
  {
   "cell_type": "markdown",
   "id": "342406a0",
   "metadata": {
    "id": "342406a0"
   },
   "source": [
    "#### Q4.6: Given the previous analysis, would you say there are outliers in this dataset? "
   ]
  },
  {
   "cell_type": "markdown",
   "id": "b99f36f4",
   "metadata": {
    "id": "b99f36f4"
   },
   "source": [
    "#### A4.6:\n",
    "Yes, a majority of the points lie below 60. With the 99-th quantile being 74, it would be fair to categorize those approaching 90 as outliers."
   ]
  },
  {
   "cell_type": "markdown",
   "id": "fc600672",
   "metadata": {
    "id": "fc600672"
   },
   "source": [
    "### Q5: Inspect the correlation of the numerical predictors with the target and report your findings (in training set). What does the correlation of \"Age\" tell us?"
   ]
  },
  {
   "cell_type": "code",
   "execution_count": 45,
   "outputs": [],
   "source": [
    "numerics = ['int64']\n",
    "\n",
    "df_train_numeric = df_train.select_dtypes(include=numerics)"
   ],
   "metadata": {
    "collapsed": false,
    "ExecuteTime": {
     "end_time": "2023-10-25T22:14:47.678461Z",
     "start_time": "2023-10-25T22:14:47.568528Z"
    }
   },
   "id": "22d410cbf1bb591e"
  },
  {
   "cell_type": "code",
   "execution_count": 46,
   "id": "f9d34eed",
   "metadata": {
    "id": "f9d34eed",
    "ExecuteTime": {
     "end_time": "2023-10-25T22:14:49.052422Z",
     "start_time": "2023-10-25T22:14:49.019218Z"
    }
   },
   "outputs": [
    {
     "data": {
      "text/plain": "Age               0.234037\nfnlwgt           -0.009463\nEducation-Num     0.335154\nCapital Gain      0.223329\nCapital Loss      0.150526\nHours per week    0.229689\nTarget            1.000000\ndtype: float64"
     },
     "execution_count": 46,
     "metadata": {},
     "output_type": "execute_result"
    }
   ],
   "source": [
    "df_train_numeric.corrwith(df_train['Target'], method=\"pearson\")"
   ]
  },
  {
   "cell_type": "markdown",
   "id": "76b23df8",
   "metadata": {
    "id": "76b23df8"
   },
   "source": [
    "### Q6: Let us apply Linear Regression for classification. "
   ]
  },
  {
   "cell_type": "markdown",
   "id": "c454ebd7",
   "metadata": {
    "id": "c454ebd7"
   },
   "source": [
    "#### Q6.1: Discuss why Linear Regression is not immediately applicable in this setting."
   ]
  },
  {
   "cell_type": "markdown",
   "id": "2980b7a0",
   "metadata": {
    "id": "2980b7a0"
   },
   "source": [
    "#### A6.1: \n",
    "This is a classification problem as we are looking to classify individuals as high earners or low earners. "
   ]
  },
  {
   "cell_type": "markdown",
   "id": "de9bc7bb",
   "metadata": {
    "id": "de9bc7bb"
   },
   "source": [
    "#### Q6.2: Drop rows that include NaN values."
   ]
  },
  {
   "cell_type": "markdown",
   "id": "aa329364",
   "metadata": {
    "id": "aa329364"
   },
   "source": [
    "#### A6.2:"
   ]
  },
  {
   "cell_type": "code",
   "execution_count": 47,
   "id": "7d8b2cd6",
   "metadata": {
    "id": "7d8b2cd6",
    "ExecuteTime": {
     "end_time": "2023-10-25T22:17:04.384465Z",
     "start_time": "2023-10-25T22:17:04.264756Z"
    }
   },
   "outputs": [],
   "source": [
    "df_train_nonan = df_train.dropna(how='any')"
   ]
  },
  {
   "cell_type": "markdown",
   "id": "f1c81fea",
   "metadata": {
    "id": "f1c81fea"
   },
   "source": [
    "#### Q6.3: Train a linear regression model on the training set. Use the numeric columns only."
   ]
  },
  {
   "cell_type": "markdown",
   "id": "c8f44441",
   "metadata": {
    "id": "c8f44441"
   },
   "source": [
    "#### A6.3:"
   ]
  },
  {
   "cell_type": "code",
   "execution_count": 59,
   "outputs": [],
   "source": [
    "#Step 1 -- take the numeric columns\n",
    "numericals = [] #start with an empty array\n",
    "for i in range(len(df_train.dtypes)): #for all columns\n",
    "    coltype = df_train.dtypes[i] #take the type of column\n",
    "    if coltype != 'object' and df_train_nonan.columns[i] != 'Target': #check if the type is not an object\n",
    "        numericals.append(df_train_nonan.columns[i])"
   ],
   "metadata": {
    "collapsed": false,
    "ExecuteTime": {
     "end_time": "2023-10-25T22:25:33.671030Z",
     "start_time": "2023-10-25T22:25:33.603127Z"
    }
   },
   "id": "c34392c7"
  },
  {
   "cell_type": "code",
   "execution_count": 60,
   "id": "2455e0ad",
   "metadata": {
    "id": "2455e0ad",
    "ExecuteTime": {
     "end_time": "2023-10-25T22:25:35.237310Z",
     "start_time": "2023-10-25T22:25:35.205317Z"
    }
   },
   "outputs": [],
   "source": [
    "#Step 2 -- fit\n",
    "from sklearn.linear_model import LinearRegression\n",
    "X = df_train_nonan[numericals]\n",
    "y = df_train_nonan['Target']\n",
    "clf = LinearRegression().fit(X, y) #time to fit"
   ]
  },
  {
   "cell_type": "markdown",
   "id": "180084ec",
   "metadata": {
    "id": "180084ec"
   },
   "source": [
    "#### Q6.4: Apply the linear model that we just fit and predict the training target. Show the first couple of predictions."
   ]
  },
  {
   "cell_type": "markdown",
   "id": "9755db00",
   "metadata": {
    "id": "9755db00"
   },
   "source": [
    "#### A6.4: "
   ]
  },
  {
   "cell_type": "code",
   "execution_count": 62,
   "id": "ebd7fda5",
   "metadata": {
    "id": "ebd7fda5",
    "ExecuteTime": {
     "end_time": "2023-10-25T22:27:17.281217Z",
     "start_time": "2023-10-25T22:27:17.129549Z"
    }
   },
   "outputs": [
    {
     "data": {
      "text/plain": "array([ 0.3711157 ,  0.27712797,  0.16993872,  0.17536679,  0.30371731,\n        0.40369919, -0.08002465,  0.2869114 ,  0.53002798,  0.42679262])"
     },
     "execution_count": 62,
     "metadata": {},
     "output_type": "execute_result"
    }
   ],
   "source": [
    "result = clf.predict(X)\n",
    "result[:10]"
   ]
  },
  {
   "cell_type": "markdown",
   "id": "668af8f6",
   "metadata": {
    "id": "668af8f6"
   },
   "source": [
    "#### Q6.5: To make a classification on the *training set*, use a cutoff value = 0.4 so that if the output is more than this value then we classify as \"1\". Compute the accuracy, sensitivity, and specificity manually (do not use a function). Discuss the performance."
   ]
  },
  {
   "cell_type": "markdown",
   "id": "19ad6985",
   "metadata": {
    "id": "19ad6985"
   },
   "source": [
    "#### A6.5: "
   ]
  },
  {
   "cell_type": "code",
   "execution_count": 63,
   "id": "04eb793b",
   "metadata": {
    "id": "04eb793b",
    "ExecuteTime": {
     "end_time": "2023-10-25T22:27:47.315389Z",
     "start_time": "2023-10-25T22:27:47.232395Z"
    }
   },
   "outputs": [],
   "source": [
    "cutoff = 0.4"
   ]
  },
  {
   "cell_type": "code",
   "execution_count": 64,
   "outputs": [],
   "source": [
    "predicted_result = result >= cutoff"
   ],
   "metadata": {
    "collapsed": false,
    "ExecuteTime": {
     "end_time": "2023-10-25T22:28:16.782630Z",
     "start_time": "2023-10-25T22:28:16.701234Z"
    }
   },
   "id": "ee838a211f64749d"
  },
  {
   "cell_type": "code",
   "execution_count": 65,
   "outputs": [
    {
     "data": {
      "text/plain": "array([False, False, False, False, False,  True, False, False,  True,\n        True])"
     },
     "execution_count": 65,
     "metadata": {},
     "output_type": "execute_result"
    }
   ],
   "source": [
    "predicted_result[:10]"
   ],
   "metadata": {
    "collapsed": false,
    "ExecuteTime": {
     "end_time": "2023-10-25T22:28:37.661393Z",
     "start_time": "2023-10-25T22:28:37.586152Z"
    }
   },
   "id": "e19adeb358cfa1aa"
  },
  {
   "cell_type": "code",
   "execution_count": 69,
   "id": "f1703d10",
   "metadata": {
    "id": "f1703d10",
    "ExecuteTime": {
     "end_time": "2023-10-25T22:35:00.497935Z",
     "start_time": "2023-10-25T22:35:00.446652Z"
    }
   },
   "outputs": [],
   "source": [
    "cm_train = confusion_matrix(df_train_nonan.Target, predicted_result)\n",
    "\n",
    "accuracy_train = (cm_train[0][0] + cm_train[1][1])/ (cm_train[0][0] + cm_train[1][1] +  cm_train[0][1] +  cm_train[1][0])\n",
    "specificity_train = cm_train[0][0] / (cm_train[0][0] + cm_train[0][1])\n",
    "sensitivity_train = cm_train[1][1] / (cm_train[1][0] + cm_train[1][1])"
   ]
  },
  {
   "cell_type": "code",
   "execution_count": 70,
   "id": "c7e38902",
   "metadata": {
    "id": "c7e38902",
    "ExecuteTime": {
     "end_time": "2023-10-25T22:35:01.857568Z",
     "start_time": "2023-10-25T22:35:01.817952Z"
    }
   },
   "outputs": [
    {
     "name": "stdout",
     "output_type": "stream",
     "text": [
      "Accuracy: 0.796 \n",
      "Sensitivity: 0.479 \n",
      "Specificity: 0.901\n"
     ]
    }
   ],
   "source": [
    "print(\"Accuracy:\", round(accuracy_train,3), \"\\nSensitivity:\", round(sensitivity_train,3),\\\n",
    "      \"\\nSpecificity:\", round(specificity_train,3))"
   ]
  },
  {
   "cell_type": "markdown",
   "source": [
    "Accuracy has increased from 0.761 to 0.796. Sensitivity has increased from 0.132 to 0.479 (a large improvement). Specificity obviously dropped, but the boost in the other statistics I believe would make this a better model for most use-cases."
   ],
   "metadata": {
    "collapsed": false
   },
   "id": "c3a7bf15849872cc"
  },
  {
   "cell_type": "markdown",
   "id": "3e794603",
   "metadata": {
    "id": "3e794603"
   },
   "source": [
    "#### Q6.6: Apply the same on training set but decrease the cutoff down to 0.2. Inspect the metrics we looked before, and compare the results with the cutoff 0.4. Interpret the results."
   ]
  },
  {
   "cell_type": "markdown",
   "id": "6d3104cd",
   "metadata": {
    "id": "6d3104cd"
   },
   "source": [
    "#### A6.6:"
   ]
  },
  {
   "cell_type": "code",
   "execution_count": 78,
   "id": "ba0f4b4f",
   "metadata": {
    "id": "ba0f4b4f",
    "ExecuteTime": {
     "end_time": "2023-10-25T22:42:29.184211Z",
     "start_time": "2023-10-25T22:42:29.141970Z"
    }
   },
   "outputs": [],
   "source": [
    "cutoff_altenative = 0.2 #cutoff value"
   ]
  },
  {
   "cell_type": "code",
   "execution_count": 79,
   "id": "ded638e2",
   "metadata": {
    "id": "ded638e2",
    "ExecuteTime": {
     "end_time": "2023-10-25T22:43:14.518564Z",
     "start_time": "2023-10-25T22:43:14.474350Z"
    }
   },
   "outputs": [],
   "source": [
    "predicted_result_alt = result >= cutoff_altenative\n",
    "cm_train_alt = confusion_matrix(df_train_nonan.Target, predicted_result_alt)\n",
    "\n",
    "accuracy_train_alt = (cm_train_alt[0][0] + cm_train_alt[1][1])/ (cm_train_alt[0][0] + cm_train_alt[1][1] +  cm_train_alt[0][1] +  cm_train_alt[1][0])\n",
    "specificity_train_alt = cm_train_alt[0][0] / (cm_train_alt[0][0] + cm_train_alt[0][1])\n",
    "sensitivity_train_alt = cm_train_alt[1][1] / (cm_train_alt[1][0] + cm_train_alt[1][1])"
   ]
  },
  {
   "cell_type": "code",
   "execution_count": 80,
   "id": "985e2d17",
   "metadata": {
    "id": "985e2d17",
    "ExecuteTime": {
     "end_time": "2023-10-25T22:43:16.177415Z",
     "start_time": "2023-10-25T22:43:16.124161Z"
    }
   },
   "outputs": [
    {
     "name": "stdout",
     "output_type": "stream",
     "text": [
      "Accuracy: 0.615 \n",
      "Sensitivity: 0.895 \n",
      "Specificity: 0.523\n"
     ]
    }
   ],
   "source": [
    "print(\"Accuracy:\", round(accuracy_train_alt,3), \"\\nSensitivity:\", round(sensitivity_train_alt,3),\\\n",
    "      \"\\nSpecificity:\", round(specificity_train_alt,3))"
   ]
  },
  {
   "cell_type": "markdown",
   "source": [
    "Accuracy has decreased to 0.615 but sensitivity has massively increased. This indicates a reduction in the fraction of mis-classified rich people."
   ],
   "metadata": {
    "collapsed": false
   },
   "id": "83a9739c34282ebf"
  },
  {
   "cell_type": "markdown",
   "id": "2e6064d1",
   "metadata": {
    "id": "2e6064d1"
   },
   "source": [
    "#### Q6.7: Now use the linear model on the *test set*. Choose the cutoff value = 0.4 and return the accuracy, sensitivity, and specificity."
   ]
  },
  {
   "cell_type": "markdown",
   "id": "186ec97f",
   "metadata": {
    "id": "186ec97f"
   },
   "source": [
    "#### A6.7:"
   ]
  },
  {
   "cell_type": "code",
   "execution_count": 84,
   "outputs": [],
   "source": [
    "X_test = df_test[numericals]\n",
    "y_test = df_test.Target\n",
    "result_test = clf.predict(X_test)\n",
    "predicted_result_test = result_test >= cutoff\n",
    "\n",
    "cm_test = confusion_matrix(df_test.Target, predicted_result_test)\n",
    "\n",
    "accuracy_test = (cm_test[0][0] + cm_test[1][1])/ (cm_test[0][0] + cm_test[1][1] +  cm_test[0][1] +  cm_test[1][0])\n",
    "specificity_test = cm_test[0][0] / (cm_test[0][0] + cm_test[0][1])\n",
    "sensitivity_test = cm_test[1][1] / (cm_test[1][0] + cm_test[1][1])"
   ],
   "metadata": {
    "collapsed": false,
    "ExecuteTime": {
     "end_time": "2023-10-25T22:51:46.866704Z",
     "start_time": "2023-10-25T22:51:46.729402Z"
    }
   },
   "id": "54e6d154ad062ad5"
  },
  {
   "cell_type": "code",
   "execution_count": 85,
   "outputs": [
    {
     "name": "stdout",
     "output_type": "stream",
     "text": [
      "Accuracy: 0.798 \n",
      "Sensitivity: 0.478 \n",
      "Specificity: 0.896\n"
     ]
    }
   ],
   "source": [
    "print(\"Accuracy:\", round(accuracy_test,3), \"\\nSensitivity:\", round(sensitivity_test,3), \\\n",
    "      \"\\nSpecificity:\", round(specificity_test,3))"
   ],
   "metadata": {
    "collapsed": false,
    "ExecuteTime": {
     "end_time": "2023-10-25T22:51:55.608216Z",
     "start_time": "2023-10-25T22:51:55.529754Z"
    }
   },
   "id": "48c74d3a62482c44"
  },
  {
   "cell_type": "markdown",
   "id": "80415e41",
   "metadata": {
    "id": "80415e41"
   },
   "source": [
    "#### Q6.8: Try different cutoff values on the training set and choose the best one according to the performance on the training set. Choose the following metric to optimize: *keep accuracy above 76% and trying to obtain the best possible sensitivity*. What is the optimal cutoff value in your experiment? (Note: this approach will be discussed later)."
   ]
  },
  {
   "cell_type": "markdown",
   "id": "65a6b24a",
   "metadata": {
    "id": "65a6b24a"
   },
   "source": [
    "#### A6.8: "
   ]
  },
  {
   "cell_type": "code",
   "execution_count": 109,
   "outputs": [],
   "source": [
    "def GetStatsForCutoff(value):\n",
    "    predicted_result = result >= value\n",
    "    cm = confusion_matrix(df_train_nonan.Target, predicted_result)\n",
    "    accuracy = (cm[0][0] + cm[1][1])/ (cm[0][0] + cm[1][1] +  cm[0][1] +  cm[1][0])\n",
    "    sensitivity = cm[1][1] / (cm[1][0] + cm[1][1])\n",
    "    return value, accuracy, sensitivity"
   ],
   "metadata": {
    "collapsed": false,
    "ExecuteTime": {
     "end_time": "2023-10-25T23:09:06.009841Z",
     "start_time": "2023-10-25T23:09:05.921880Z"
    }
   },
   "id": "a1e5ed7a9a34d98"
  },
  {
   "cell_type": "code",
   "execution_count": 110,
   "outputs": [
    {
     "data": {
      "text/plain": "   cutoff  accuracy  sensitivity\n0    0.00  0.333068     0.996537\n1    0.01  0.341125     0.996137\n2    0.02  0.348783     0.995471\n3    0.03  0.357470     0.994539\n4    0.04  0.367283     0.993207",
      "text/html": "<div>\n<style scoped>\n    .dataframe tbody tr th:only-of-type {\n        vertical-align: middle;\n    }\n\n    .dataframe tbody tr th {\n        vertical-align: top;\n    }\n\n    .dataframe thead th {\n        text-align: right;\n    }\n</style>\n<table border=\"1\" class=\"dataframe\">\n  <thead>\n    <tr style=\"text-align: right;\">\n      <th></th>\n      <th>cutoff</th>\n      <th>accuracy</th>\n      <th>sensitivity</th>\n    </tr>\n  </thead>\n  <tbody>\n    <tr>\n      <th>0</th>\n      <td>0.00</td>\n      <td>0.333068</td>\n      <td>0.996537</td>\n    </tr>\n    <tr>\n      <th>1</th>\n      <td>0.01</td>\n      <td>0.341125</td>\n      <td>0.996137</td>\n    </tr>\n    <tr>\n      <th>2</th>\n      <td>0.02</td>\n      <td>0.348783</td>\n      <td>0.995471</td>\n    </tr>\n    <tr>\n      <th>3</th>\n      <td>0.03</td>\n      <td>0.357470</td>\n      <td>0.994539</td>\n    </tr>\n    <tr>\n      <th>4</th>\n      <td>0.04</td>\n      <td>0.367283</td>\n      <td>0.993207</td>\n    </tr>\n  </tbody>\n</table>\n</div>"
     },
     "execution_count": 110,
     "metadata": {},
     "output_type": "execute_result"
    }
   ],
   "source": [
    "result_set = []\n",
    "for i in np.linspace(0, 1, 101):\n",
    "    result_set.append(GetStatsForCutoff(i))\n",
    "df_results = pd.DataFrame(result_set, columns=['cutoff', 'accuracy', 'sensitivity'])\n",
    "df_results.head()"
   ],
   "metadata": {
    "collapsed": false,
    "ExecuteTime": {
     "end_time": "2023-10-25T23:09:07.944832Z",
     "start_time": "2023-10-25T23:09:07.555775Z"
    }
   },
   "id": "d96eb104adb85e71"
  },
  {
   "cell_type": "code",
   "execution_count": 111,
   "outputs": [],
   "source": [
    "df_valid_results = df_results[df_results['accuracy'] > 0.76]"
   ],
   "metadata": {
    "collapsed": false,
    "ExecuteTime": {
     "end_time": "2023-10-25T23:10:50.952267Z",
     "start_time": "2023-10-25T23:10:50.825304Z"
    }
   },
   "id": "d35da0659570f243"
  },
  {
   "cell_type": "code",
   "execution_count": 112,
   "outputs": [
    {
     "data": {
      "text/plain": "    cutoff  accuracy  sensitivity\n32    0.32  0.763444     0.659430\n33    0.33  0.770705     0.635988\n34    0.34  0.776374     0.614278\n35    0.35  0.782243     0.592168\n36    0.36  0.785691     0.568594\n37    0.37  0.789636     0.547816\n38    0.38  0.792819     0.527038\n39    0.39  0.795372     0.503330\n40    0.40  0.796035     0.478556\n41    0.41  0.796632     0.454848\n42    0.42  0.796930     0.430741\n43    0.43  0.797261     0.408098\n44    0.44  0.797394     0.385589\n45    0.45  0.797328     0.366942\n46    0.46  0.796532     0.347363\n47    0.47  0.796466     0.327517\n48    0.48  0.795537     0.307539\n49    0.49  0.793747     0.287560\n50    0.50  0.792985     0.270378\n51    0.51  0.791393     0.252930\n52    0.52  0.790200     0.237480\n53    0.53  0.789172     0.223229\n54    0.54  0.787116     0.207778\n55    0.55  0.785591     0.195392\n56    0.56  0.783735     0.182738\n57    0.57  0.782475     0.171550\n58    0.58  0.780850     0.159963\n59    0.59  0.779226     0.149574\n60    0.60  0.777833     0.140916\n61    0.61  0.776043     0.130661\n62    0.62  0.774153     0.120804\n63    0.63  0.773158     0.113479\n64    0.64  0.772031     0.106420\n65    0.65  0.770738     0.098828\n66    0.66  0.769412     0.091769\n67    0.67  0.768384     0.085376\n68    0.68  0.767191     0.079249\n69    0.69  0.766428     0.074587\n70    0.70  0.765566     0.069659\n71    0.71  0.764870     0.065530\n72    0.72  0.764107     0.061401\n73    0.73  0.763742     0.058871\n74    0.74  0.763013     0.055274\n75    0.75  0.762449     0.052344\n76    0.76  0.761488     0.047816\n77    0.77  0.760891     0.044885\n78    0.78  0.760593     0.043154\n79    0.79  0.760394     0.041422",
      "text/html": "<div>\n<style scoped>\n    .dataframe tbody tr th:only-of-type {\n        vertical-align: middle;\n    }\n\n    .dataframe tbody tr th {\n        vertical-align: top;\n    }\n\n    .dataframe thead th {\n        text-align: right;\n    }\n</style>\n<table border=\"1\" class=\"dataframe\">\n  <thead>\n    <tr style=\"text-align: right;\">\n      <th></th>\n      <th>cutoff</th>\n      <th>accuracy</th>\n      <th>sensitivity</th>\n    </tr>\n  </thead>\n  <tbody>\n    <tr>\n      <th>32</th>\n      <td>0.32</td>\n      <td>0.763444</td>\n      <td>0.659430</td>\n    </tr>\n    <tr>\n      <th>33</th>\n      <td>0.33</td>\n      <td>0.770705</td>\n      <td>0.635988</td>\n    </tr>\n    <tr>\n      <th>34</th>\n      <td>0.34</td>\n      <td>0.776374</td>\n      <td>0.614278</td>\n    </tr>\n    <tr>\n      <th>35</th>\n      <td>0.35</td>\n      <td>0.782243</td>\n      <td>0.592168</td>\n    </tr>\n    <tr>\n      <th>36</th>\n      <td>0.36</td>\n      <td>0.785691</td>\n      <td>0.568594</td>\n    </tr>\n    <tr>\n      <th>37</th>\n      <td>0.37</td>\n      <td>0.789636</td>\n      <td>0.547816</td>\n    </tr>\n    <tr>\n      <th>38</th>\n      <td>0.38</td>\n      <td>0.792819</td>\n      <td>0.527038</td>\n    </tr>\n    <tr>\n      <th>39</th>\n      <td>0.39</td>\n      <td>0.795372</td>\n      <td>0.503330</td>\n    </tr>\n    <tr>\n      <th>40</th>\n      <td>0.40</td>\n      <td>0.796035</td>\n      <td>0.478556</td>\n    </tr>\n    <tr>\n      <th>41</th>\n      <td>0.41</td>\n      <td>0.796632</td>\n      <td>0.454848</td>\n    </tr>\n    <tr>\n      <th>42</th>\n      <td>0.42</td>\n      <td>0.796930</td>\n      <td>0.430741</td>\n    </tr>\n    <tr>\n      <th>43</th>\n      <td>0.43</td>\n      <td>0.797261</td>\n      <td>0.408098</td>\n    </tr>\n    <tr>\n      <th>44</th>\n      <td>0.44</td>\n      <td>0.797394</td>\n      <td>0.385589</td>\n    </tr>\n    <tr>\n      <th>45</th>\n      <td>0.45</td>\n      <td>0.797328</td>\n      <td>0.366942</td>\n    </tr>\n    <tr>\n      <th>46</th>\n      <td>0.46</td>\n      <td>0.796532</td>\n      <td>0.347363</td>\n    </tr>\n    <tr>\n      <th>47</th>\n      <td>0.47</td>\n      <td>0.796466</td>\n      <td>0.327517</td>\n    </tr>\n    <tr>\n      <th>48</th>\n      <td>0.48</td>\n      <td>0.795537</td>\n      <td>0.307539</td>\n    </tr>\n    <tr>\n      <th>49</th>\n      <td>0.49</td>\n      <td>0.793747</td>\n      <td>0.287560</td>\n    </tr>\n    <tr>\n      <th>50</th>\n      <td>0.50</td>\n      <td>0.792985</td>\n      <td>0.270378</td>\n    </tr>\n    <tr>\n      <th>51</th>\n      <td>0.51</td>\n      <td>0.791393</td>\n      <td>0.252930</td>\n    </tr>\n    <tr>\n      <th>52</th>\n      <td>0.52</td>\n      <td>0.790200</td>\n      <td>0.237480</td>\n    </tr>\n    <tr>\n      <th>53</th>\n      <td>0.53</td>\n      <td>0.789172</td>\n      <td>0.223229</td>\n    </tr>\n    <tr>\n      <th>54</th>\n      <td>0.54</td>\n      <td>0.787116</td>\n      <td>0.207778</td>\n    </tr>\n    <tr>\n      <th>55</th>\n      <td>0.55</td>\n      <td>0.785591</td>\n      <td>0.195392</td>\n    </tr>\n    <tr>\n      <th>56</th>\n      <td>0.56</td>\n      <td>0.783735</td>\n      <td>0.182738</td>\n    </tr>\n    <tr>\n      <th>57</th>\n      <td>0.57</td>\n      <td>0.782475</td>\n      <td>0.171550</td>\n    </tr>\n    <tr>\n      <th>58</th>\n      <td>0.58</td>\n      <td>0.780850</td>\n      <td>0.159963</td>\n    </tr>\n    <tr>\n      <th>59</th>\n      <td>0.59</td>\n      <td>0.779226</td>\n      <td>0.149574</td>\n    </tr>\n    <tr>\n      <th>60</th>\n      <td>0.60</td>\n      <td>0.777833</td>\n      <td>0.140916</td>\n    </tr>\n    <tr>\n      <th>61</th>\n      <td>0.61</td>\n      <td>0.776043</td>\n      <td>0.130661</td>\n    </tr>\n    <tr>\n      <th>62</th>\n      <td>0.62</td>\n      <td>0.774153</td>\n      <td>0.120804</td>\n    </tr>\n    <tr>\n      <th>63</th>\n      <td>0.63</td>\n      <td>0.773158</td>\n      <td>0.113479</td>\n    </tr>\n    <tr>\n      <th>64</th>\n      <td>0.64</td>\n      <td>0.772031</td>\n      <td>0.106420</td>\n    </tr>\n    <tr>\n      <th>65</th>\n      <td>0.65</td>\n      <td>0.770738</td>\n      <td>0.098828</td>\n    </tr>\n    <tr>\n      <th>66</th>\n      <td>0.66</td>\n      <td>0.769412</td>\n      <td>0.091769</td>\n    </tr>\n    <tr>\n      <th>67</th>\n      <td>0.67</td>\n      <td>0.768384</td>\n      <td>0.085376</td>\n    </tr>\n    <tr>\n      <th>68</th>\n      <td>0.68</td>\n      <td>0.767191</td>\n      <td>0.079249</td>\n    </tr>\n    <tr>\n      <th>69</th>\n      <td>0.69</td>\n      <td>0.766428</td>\n      <td>0.074587</td>\n    </tr>\n    <tr>\n      <th>70</th>\n      <td>0.70</td>\n      <td>0.765566</td>\n      <td>0.069659</td>\n    </tr>\n    <tr>\n      <th>71</th>\n      <td>0.71</td>\n      <td>0.764870</td>\n      <td>0.065530</td>\n    </tr>\n    <tr>\n      <th>72</th>\n      <td>0.72</td>\n      <td>0.764107</td>\n      <td>0.061401</td>\n    </tr>\n    <tr>\n      <th>73</th>\n      <td>0.73</td>\n      <td>0.763742</td>\n      <td>0.058871</td>\n    </tr>\n    <tr>\n      <th>74</th>\n      <td>0.74</td>\n      <td>0.763013</td>\n      <td>0.055274</td>\n    </tr>\n    <tr>\n      <th>75</th>\n      <td>0.75</td>\n      <td>0.762449</td>\n      <td>0.052344</td>\n    </tr>\n    <tr>\n      <th>76</th>\n      <td>0.76</td>\n      <td>0.761488</td>\n      <td>0.047816</td>\n    </tr>\n    <tr>\n      <th>77</th>\n      <td>0.77</td>\n      <td>0.760891</td>\n      <td>0.044885</td>\n    </tr>\n    <tr>\n      <th>78</th>\n      <td>0.78</td>\n      <td>0.760593</td>\n      <td>0.043154</td>\n    </tr>\n    <tr>\n      <th>79</th>\n      <td>0.79</td>\n      <td>0.760394</td>\n      <td>0.041422</td>\n    </tr>\n  </tbody>\n</table>\n</div>"
     },
     "execution_count": 112,
     "metadata": {},
     "output_type": "execute_result"
    }
   ],
   "source": [
    "df_valid_results"
   ],
   "metadata": {
    "collapsed": false,
    "ExecuteTime": {
     "end_time": "2023-10-25T23:10:52.151378Z",
     "start_time": "2023-10-25T23:10:52.067319Z"
    }
   },
   "id": "d9c216ad93886fd6"
  },
  {
   "cell_type": "markdown",
   "source": [
    "optimal cutoff: 0.32"
   ],
   "metadata": {
    "collapsed": false
   },
   "id": "4f989bd0f73b229"
  },
  {
   "cell_type": "markdown",
   "id": "9835660a",
   "metadata": {
    "id": "9835660a"
   },
   "source": [
    "#### Q6.9: In the previous question we tuned the cutoff value on the training set. This initialy makes sense, because we cannot tune on the test-set, which will be indirectly training on the test set. However, we also discussed in the validation-set approach that it is not a good practice to *compare* models on the training set, because of a natural bias in this procedure. Hence, it is a better approach to tune a value on a validation set. For this purpose, apply the following steps:\n",
    "- Split the training set as 80% (training) - 20% (validation) sets. You can take the first 80% and last 20% and no need to randomize the selection.\n",
    "- Train a linear model on the training set obtained in the previous approach. Training one model is enough.\n",
    "- Compare cutoff values between 0.2 - 0.8 with 0.05 increments. Pick the best model by looking at the validation set, where the \"best\" model has an accuracy over 76% and has the highest sensitivity still.\n",
    "- Test the validated cutoff on the test set and return the metrics.\n",
    "- [Extra / optional] Instead of the hold-out validation that you just applied, try 5-fold cross validation in the original training set."
   ]
  },
  {
   "cell_type": "markdown",
   "id": "05d29000",
   "metadata": {
    "id": "05d29000"
   },
   "source": [
    "#### A6.9"
   ]
  },
  {
   "cell_type": "code",
   "execution_count": 125,
   "outputs": [],
   "source": [
    "split_i = round( len(X) * 0.8)\n",
    "X_train = X[:split_i]\n",
    "X_validation = X[split_i:]\n",
    "y_train = df_train_nonan['Target'][:split_i]\n",
    "y_validation = df_train_nonan['Target'][split_i:]"
   ],
   "metadata": {
    "collapsed": false,
    "ExecuteTime": {
     "end_time": "2023-10-25T23:18:14.181089Z",
     "start_time": "2023-10-25T23:18:14.111186Z"
    }
   },
   "id": "4135c3b1bcf5fcd4"
  },
  {
   "cell_type": "code",
   "execution_count": 126,
   "outputs": [],
   "source": [
    "clf = LinearRegression().fit(X_train, y_train)"
   ],
   "metadata": {
    "collapsed": false,
    "ExecuteTime": {
     "end_time": "2023-10-25T23:18:16.979476Z",
     "start_time": "2023-10-25T23:18:16.925523Z"
    }
   },
   "id": "630ba39122a349c6"
  },
  {
   "cell_type": "code",
   "execution_count": 127,
   "outputs": [],
   "source": [
    "result_validation = clf.predict(X_validation)"
   ],
   "metadata": {
    "collapsed": false,
    "ExecuteTime": {
     "end_time": "2023-10-25T23:18:45.744060Z",
     "start_time": "2023-10-25T23:18:45.515120Z"
    }
   },
   "id": "a7d9aaaf60e187ef"
  },
  {
   "cell_type": "code",
   "execution_count": 131,
   "outputs": [],
   "source": [
    "def GetStatsForValidationCutoff(value):\n",
    "    predicted_result = result_validation >= value\n",
    "    cm = confusion_matrix(y_validation, predicted_result)\n",
    "    accuracy = (cm[0][0] + cm[1][1])/ (cm[0][0] + cm[1][1] +  cm[0][1] +  cm[1][0])\n",
    "    sensitivity = cm[1][1] / (cm[1][0] + cm[1][1])\n",
    "    return value, accuracy, sensitivity"
   ],
   "metadata": {
    "collapsed": false,
    "ExecuteTime": {
     "end_time": "2023-10-25T23:21:57.700886Z",
     "start_time": "2023-10-25T23:21:57.603773Z"
    }
   },
   "id": "7918e47bfc80f16"
  },
  {
   "cell_type": "code",
   "execution_count": 134,
   "outputs": [],
   "source": [
    "result_set_validation = []\n",
    "for i in np.linspace(0.2, 0.8, 13):\n",
    "    result_set_validation.append(GetStatsForValidationCutoff(i))\n",
    "df_result_validation = pd.DataFrame(result_set_validation, columns=['cutoff', 'accuracy', 'sensitivity'])\n",
    "df_valid_result_validation = df_result_validation[df_result_validation['accuracy'] > 0.76]"
   ],
   "metadata": {
    "collapsed": false,
    "ExecuteTime": {
     "end_time": "2023-10-25T23:22:39.361970Z",
     "start_time": "2023-10-25T23:22:39.235792Z"
    }
   },
   "id": "fb6a778f6c3f916f"
  },
  {
   "cell_type": "code",
   "execution_count": 135,
   "outputs": [
    {
     "data": {
      "text/plain": "    cutoff  accuracy  sensitivity\n3     0.35  0.784814     0.600522\n4     0.40  0.798243     0.479765\n5     0.45  0.797082     0.365535\n6     0.50  0.791611     0.266319\n7     0.55  0.783820     0.194517\n8     0.60  0.773210     0.134465\n9     0.65  0.764920     0.092037\n10    0.70  0.760444     0.065274",
      "text/html": "<div>\n<style scoped>\n    .dataframe tbody tr th:only-of-type {\n        vertical-align: middle;\n    }\n\n    .dataframe tbody tr th {\n        vertical-align: top;\n    }\n\n    .dataframe thead th {\n        text-align: right;\n    }\n</style>\n<table border=\"1\" class=\"dataframe\">\n  <thead>\n    <tr style=\"text-align: right;\">\n      <th></th>\n      <th>cutoff</th>\n      <th>accuracy</th>\n      <th>sensitivity</th>\n    </tr>\n  </thead>\n  <tbody>\n    <tr>\n      <th>3</th>\n      <td>0.35</td>\n      <td>0.784814</td>\n      <td>0.600522</td>\n    </tr>\n    <tr>\n      <th>4</th>\n      <td>0.40</td>\n      <td>0.798243</td>\n      <td>0.479765</td>\n    </tr>\n    <tr>\n      <th>5</th>\n      <td>0.45</td>\n      <td>0.797082</td>\n      <td>0.365535</td>\n    </tr>\n    <tr>\n      <th>6</th>\n      <td>0.50</td>\n      <td>0.791611</td>\n      <td>0.266319</td>\n    </tr>\n    <tr>\n      <th>7</th>\n      <td>0.55</td>\n      <td>0.783820</td>\n      <td>0.194517</td>\n    </tr>\n    <tr>\n      <th>8</th>\n      <td>0.60</td>\n      <td>0.773210</td>\n      <td>0.134465</td>\n    </tr>\n    <tr>\n      <th>9</th>\n      <td>0.65</td>\n      <td>0.764920</td>\n      <td>0.092037</td>\n    </tr>\n    <tr>\n      <th>10</th>\n      <td>0.70</td>\n      <td>0.760444</td>\n      <td>0.065274</td>\n    </tr>\n  </tbody>\n</table>\n</div>"
     },
     "execution_count": 135,
     "metadata": {},
     "output_type": "execute_result"
    }
   ],
   "source": [
    "df_valid_result_validation"
   ],
   "metadata": {
    "collapsed": false,
    "ExecuteTime": {
     "end_time": "2023-10-25T23:22:42.268864Z",
     "start_time": "2023-10-25T23:22:42.196626Z"
    }
   },
   "id": "4b8573a3a3642cb1"
  },
  {
   "cell_type": "markdown",
   "source": [
    "##### Best cutoff metrics\n",
    "cutoff: 0.35, accuracy: 0.785, sensitivity: 0.601"
   ],
   "metadata": {
    "collapsed": false
   },
   "id": "c3f0b48436432f91"
  },
  {
   "cell_type": "code",
   "execution_count": 137,
   "outputs": [],
   "source": [
    "result_set_test = clf.predict(X_test)\n",
    "predicted_result_test = result_validation >= 0.35\n",
    "cm = confusion_matrix(y_validation, predicted_result_test)\n",
    "accuracy_test = (cm[0][0] + cm[1][1])/ (cm[0][0] + cm[1][1] +  cm[0][1] +  cm[1][0])\n",
    "sensitivity_test = cm[1][1] / (cm[1][0] + cm[1][1])\n",
    "specificity_test = cm[0][0] / (cm[0][0] + cm[0][1])"
   ],
   "metadata": {
    "collapsed": false,
    "ExecuteTime": {
     "end_time": "2023-10-25T23:27:17.939188Z",
     "start_time": "2023-10-25T23:27:17.658157Z"
    }
   },
   "id": "c0c7ce3030bbf861"
  },
  {
   "cell_type": "code",
   "execution_count": 140,
   "outputs": [
    {
     "name": "stdout",
     "output_type": "stream",
     "text": [
      "accuracy:  0.785\n",
      "sensitivity:  0.601\n",
      "specificity:  0.848\n"
     ]
    }
   ],
   "source": [
    "print('accuracy: ', round(accuracy_test, 3))\n",
    "print('sensitivity: ', round(sensitivity_test, 3))\n",
    "print('specificity: ', round(specificity_test, 3))"
   ],
   "metadata": {
    "collapsed": false,
    "ExecuteTime": {
     "end_time": "2023-10-25T23:28:35.655654Z",
     "start_time": "2023-10-25T23:28:35.512928Z"
    }
   },
   "id": "72353828e3471aa9"
  },
  {
   "cell_type": "markdown",
   "id": "da7d7823",
   "metadata": {
    "id": "da7d7823"
   },
   "source": [
    "#### Q6.10: Previously we have seen that if we decrese the cutoff value then we get more sensitivity as we try to classify more \"1\"s. Obviously we would expect to have sensitivity = 1 if we pick the smallest possible cutoff. To this end, try a cutoff = 0 on the test set and report the sensitivity. If the sensitivity is not equal to 1, please give a possible reason."
   ]
  },
  {
   "cell_type": "markdown",
   "id": "f9f848a0",
   "metadata": {
    "id": "f9f848a0"
   },
   "source": [
    "#### A6.10:"
   ]
  },
  {
   "cell_type": "code",
   "execution_count": 144,
   "outputs": [],
   "source": [
    "predicted_result_zero = result_set_test >= 0\n",
    "cm_zero = confusion_matrix(y_test, predicted_result_zero)\n",
    "accuracy_zero = (cm_zero[0][0] + cm_zero[1][1])/ (cm_zero[0][0] + cm_zero[1][1] +  cm_zero[0][1] +  cm_zero[1][0])\n",
    "sensitivity_zero = cm_zero[1][1] / (cm_zero[1][0] + cm_zero[1][1])\n",
    "specificity_zero = cm_zero[0][0] / (cm_zero[0][0] + cm_zero[0][1])"
   ],
   "metadata": {
    "collapsed": false,
    "ExecuteTime": {
     "end_time": "2023-10-25T23:33:02.020631Z",
     "start_time": "2023-10-25T23:33:01.885455Z"
    }
   },
   "id": "e0fb35001aa7506b"
  },
  {
   "cell_type": "code",
   "execution_count": 145,
   "outputs": [
    {
     "name": "stdout",
     "output_type": "stream",
     "text": [
      "accuracy:  0.327\n",
      "sensitivity:  0.995\n",
      "specificity:  0.12\n"
     ]
    }
   ],
   "source": [
    "print('accuracy: ', round(accuracy_zero, 3))\n",
    "print('sensitivity: ', round(sensitivity_zero, 3))\n",
    "print('specificity: ', round(specificity_zero, 3))"
   ],
   "metadata": {
    "collapsed": false,
    "ExecuteTime": {
     "end_time": "2023-10-25T23:33:04.038215Z",
     "start_time": "2023-10-25T23:33:03.985383Z"
    }
   },
   "id": "292236f5a0f4734c"
  },
  {
   "cell_type": "markdown",
   "source": [
    "It is possible that some of the predicted results are less than 0"
   ],
   "metadata": {
    "collapsed": false
   },
   "id": "d0a72149d9a4535f"
  },
  {
   "cell_type": "markdown",
   "id": "e3fba4f2",
   "metadata": {
    "id": "e3fba4f2"
   },
   "source": [
    "#### Q6.11 [Bonus / Optional]: Encode \"worksclass\" with dummies so that we can include these variables in the linear regression (i.e., introduce a column for each value the workclass can take and write '1' if this is true -- note that you should drop one of these dummies without loss of generality as from the others you can figure out the one left out). Train the linear regression by using this new variable in addition to the previous variables. Test on the test set by using the cutoff value you found previously."
   ]
  },
  {
   "cell_type": "markdown",
   "id": "a755d39f",
   "metadata": {
    "id": "a755d39f"
   },
   "source": [
    "#### A6.11:\n",
    "- One can iterate over the \".dtypes\" of the training set and for every \"O\" data type, convert this to \"Categorical\". Then, using \"pd.get_dummies\" one can obtain dummies on this categorical variable. The rest is identical to what we did before -- only add the new additional numeric values."
   ]
  },
  {
   "cell_type": "markdown",
   "id": "501d35d5",
   "metadata": {
    "id": "501d35d5"
   },
   "source": [
    "### Final notes\n",
    "Note that linear regression is not designed for such tasks, however, it works great in many cases. A variant of linear regression, that is called the *logistic regression*, takes a linear relationship as in the linear regression setting, but applies a non-linear mapping on the output. In return, we obtain predictions that are between [0,1], hence simply using \"predict\" function would classify the instances with a prediction of >= 0.5 as \"1\". We can similarly change the threshold. Although logistic regression will be introduced in more detail, we can also write similar code to make use of it easily as the following. "
   ]
  },
  {
   "cell_type": "code",
   "execution_count": null,
   "id": "de14c84f",
   "metadata": {
    "id": "de14c84f"
   },
   "outputs": [],
   "source": [
    "from sklearn.linear_model import LogisticRegression\n",
    "clf = LogisticRegression(random_state=0).fit(X, y) \n",
    "#X,y have to be filled before so that X comprises numerical variables"
   ]
  },
  {
   "cell_type": "code",
   "execution_count": null,
   "id": "a9cc8f75",
   "metadata": {
    "id": "a9cc8f75"
   },
   "outputs": [],
   "source": [
    "scores_linear_training = clf.predict(X) #predict function\n",
    "# alternatively, for using a cutoff, first get the assigned 'probabilities' by using \"probs = clf.predict_proba(X)\"\n",
    "# and then apply thresholds."
   ]
  },
  {
   "cell_type": "markdown",
   "id": "3af32967",
   "metadata": {
    "id": "3af32967"
   },
   "source": [
    "As extra, you can try coding other concepts such as:\n",
    "- Visualising lift charts and comparing models via lift charts.\n",
    "- Applying more advanced algorithms and/or using further categorial variables by using several encodings.\n",
    "- Analyzing the categorical variables further to see if we have an ordinal relationship that can be modeled via integers.\n",
    "- As mentioned above, using K fold cross validation."
   ]
  }
 ],
 "metadata": {
  "kernelspec": {
   "display_name": "Python 3 (ipykernel)",
   "language": "python",
   "name": "python3"
  },
  "language_info": {
   "codemirror_mode": {
    "name": "ipython",
    "version": 3
   },
   "file_extension": ".py",
   "mimetype": "text/x-python",
   "name": "python",
   "nbconvert_exporter": "python",
   "pygments_lexer": "ipython3",
   "version": "3.8.8"
  },
  "colab": {
   "name": "Project Questions.ipynb",
   "provenance": [],
   "collapsed_sections": [
    "797ae857",
    "797ec48d",
    "146b35ef",
    "23e9f381",
    "5adcc5a4",
    "f49afb50",
    "61367d5f",
    "68233a89",
    "d3366487",
    "3d79e4f3",
    "a87bc8cc",
    "3e650ccc",
    "7e568da8",
    "f9ea66e1",
    "e7656c1e",
    "cfb01a85",
    "92e8b941",
    "89f1c7f0",
    "2018caa6",
    "0c0cb992",
    "58fcae06",
    "13ab38b5",
    "3a5ca4f6",
    "cd16ee2a",
    "d107d0dd",
    "342406a0",
    "b99f36f4",
    "c454ebd7",
    "2980b7a0",
    "de9bc7bb",
    "aa329364",
    "f1c81fea",
    "c8f44441",
    "180084ec",
    "9755db00",
    "668af8f6",
    "19ad6985",
    "3e794603",
    "2e6064d1",
    "186ec97f",
    "80415e41",
    "65a6b24a",
    "9835660a",
    "05d29000",
    "da7d7823",
    "f9f848a0",
    "e3fba4f2",
    "a755d39f",
    "501d35d5"
   ]
  }
 },
 "nbformat": 4,
 "nbformat_minor": 5
}
