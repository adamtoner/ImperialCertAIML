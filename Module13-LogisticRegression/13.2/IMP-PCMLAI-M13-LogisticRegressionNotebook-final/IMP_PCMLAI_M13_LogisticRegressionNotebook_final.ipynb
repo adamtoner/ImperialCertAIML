{
 "cells": [
  {
   "cell_type": "code",
   "execution_count": 112,
   "metadata": {
    "id": "D7vdQZ6FxEiR",
    "ExecuteTime": {
     "end_time": "2023-11-25T00:21:35.301854Z",
     "start_time": "2023-11-25T00:21:34.343204Z"
    }
   },
   "outputs": [],
   "source": [
    "import numpy as np\n",
    "import pandas as pd\n",
    "from sklearn.preprocessing import StandardScaler\n",
    "from sklearn.linear_model import LogisticRegression\n",
    "from sklearn.metrics import confusion_matrix, accuracy_score\n",
    "import matplotlib.pyplot as plt"
   ]
  },
  {
   "cell_type": "markdown",
   "metadata": {
    "id": "-R7jPtW2Z0iz"
   },
   "source": [
    "# Introduction\n",
    "\n",
    "In this notebook we will investigate Logistic Regression on the Pima Indians Diabetes dataset (https://www.kaggle.com/uciml/pima-indians-diabetes-database) where we will try to predict the onset of Diabetes, based on certain diagnostics and measurements.\n",
    "\n",
    "Begin by downloading, and importing the data set.\n",
    "\n",
    "This will be followed by a short recap of logistic regression, and the training procedure. The first set of exercises will ask you to submit a short proof that the sigmoid function always lies between 0 and 1, and also to fit the data-set to a Logistic Regression model.\n",
    "\n",
    "We then look at choosing the best model for classification. For this, we will consider the same variable selection as seen in the first notebook. We will then have a short introduction on regularization. This is a very important concept in Machine Learning, it can be used to avoid over-fitting, as well as for variable selection (which we will not cover). The second set of exercises consists in choosing the best regularization constant, and exploring its effect on the model.\n",
    "\n",
    "Finally, we will look at *interpreting* the output of the model to make decisions. We do this by changing the probability thresholds for classification, and explain how we will choose them by considering risk of misclassification."
   ]
  },
  {
   "cell_type": "markdown",
   "metadata": {
    "id": "TnSu23jhOVZA"
   },
   "source": [
    "# Downloading and pre-processing the data"
   ]
  },
  {
   "cell_type": "code",
   "execution_count": 113,
   "metadata": {
    "colab": {
     "base_uri": "https://localhost:8080/",
     "height": 204
    },
    "id": "eYNRqkcqyH0M",
    "outputId": "c55aa28a-7d6e-4c78-b149-19dbe69b9d0f",
    "ExecuteTime": {
     "end_time": "2023-11-25T00:21:35.319350Z",
     "start_time": "2023-11-25T00:21:34.413564Z"
    }
   },
   "outputs": [
    {
     "data": {
      "text/plain": "   Pregnancies  Glucose  BloodPressure  SkinThickness  Insulin   BMI  \\\n0            6      148             72             35        0  33.6   \n1            1       85             66             29        0  26.6   \n2            8      183             64              0        0  23.3   \n3            1       89             66             23       94  28.1   \n4            0      137             40             35      168  43.1   \n\n   DiabetesPedigreeFunction  Age  Outcome  \n0                     0.627   50        1  \n1                     0.351   31        0  \n2                     0.672   32        1  \n3                     0.167   21        0  \n4                     2.288   33        1  ",
      "text/html": "<div>\n<style scoped>\n    .dataframe tbody tr th:only-of-type {\n        vertical-align: middle;\n    }\n\n    .dataframe tbody tr th {\n        vertical-align: top;\n    }\n\n    .dataframe thead th {\n        text-align: right;\n    }\n</style>\n<table border=\"1\" class=\"dataframe\">\n  <thead>\n    <tr style=\"text-align: right;\">\n      <th></th>\n      <th>Pregnancies</th>\n      <th>Glucose</th>\n      <th>BloodPressure</th>\n      <th>SkinThickness</th>\n      <th>Insulin</th>\n      <th>BMI</th>\n      <th>DiabetesPedigreeFunction</th>\n      <th>Age</th>\n      <th>Outcome</th>\n    </tr>\n  </thead>\n  <tbody>\n    <tr>\n      <th>0</th>\n      <td>6</td>\n      <td>148</td>\n      <td>72</td>\n      <td>35</td>\n      <td>0</td>\n      <td>33.6</td>\n      <td>0.627</td>\n      <td>50</td>\n      <td>1</td>\n    </tr>\n    <tr>\n      <th>1</th>\n      <td>1</td>\n      <td>85</td>\n      <td>66</td>\n      <td>29</td>\n      <td>0</td>\n      <td>26.6</td>\n      <td>0.351</td>\n      <td>31</td>\n      <td>0</td>\n    </tr>\n    <tr>\n      <th>2</th>\n      <td>8</td>\n      <td>183</td>\n      <td>64</td>\n      <td>0</td>\n      <td>0</td>\n      <td>23.3</td>\n      <td>0.672</td>\n      <td>32</td>\n      <td>1</td>\n    </tr>\n    <tr>\n      <th>3</th>\n      <td>1</td>\n      <td>89</td>\n      <td>66</td>\n      <td>23</td>\n      <td>94</td>\n      <td>28.1</td>\n      <td>0.167</td>\n      <td>21</td>\n      <td>0</td>\n    </tr>\n    <tr>\n      <th>4</th>\n      <td>0</td>\n      <td>137</td>\n      <td>40</td>\n      <td>35</td>\n      <td>168</td>\n      <td>43.1</td>\n      <td>2.288</td>\n      <td>33</td>\n      <td>1</td>\n    </tr>\n  </tbody>\n</table>\n</div>"
     },
     "execution_count": 113,
     "metadata": {},
     "output_type": "execute_result"
    }
   ],
   "source": [
    "data = pd.read_csv('diabetes.csv')\n",
    "data.head()"
   ]
  },
  {
   "cell_type": "markdown",
   "metadata": {
    "id": "E0qemfflyYSb"
   },
   "source": [
    "We must then split the data into inputs and outputs. We also remove the Insulin variable, since the data is incomplete (there are ways of dealing with incomplete data, but that is not the purpose of this notebook)."
   ]
  },
  {
   "cell_type": "code",
   "execution_count": 114,
   "metadata": {
    "id": "U6z2SNgVyWJX",
    "ExecuteTime": {
     "end_time": "2023-11-25T00:21:35.327233Z",
     "start_time": "2023-11-25T00:21:34.450709Z"
    }
   },
   "outputs": [],
   "source": [
    "outputs = ['Outcome']\n",
    "inputs = ['Pregnancies', 'Glucose', 'BloodPressure', 'SkinThickness', 'BMI', 'DiabetesPedigreeFunction', 'Age']\n",
    "\n",
    "X = data[inputs]\n",
    "Y = data[outputs].to_numpy().reshape(-1)"
   ]
  },
  {
   "cell_type": "markdown",
   "metadata": {
    "id": "OqX_Zn3Hxhfd"
   },
   "source": [
    "We will now scale the data. Can you explain why this step needs to be done?"
   ]
  },
  {
   "cell_type": "markdown",
   "source": [
    "_If the inputs are at different scales, the values for each feature are not fairly comparable. For example, a low score in a high scale category could outweigh a high score in a low scale category._"
   ],
   "metadata": {
    "collapsed": false
   }
  },
  {
   "cell_type": "code",
   "execution_count": 115,
   "metadata": {
    "id": "RdH34bJixuRh",
    "ExecuteTime": {
     "end_time": "2023-11-25T00:21:35.330833Z",
     "start_time": "2023-11-25T00:21:34.457568Z"
    }
   },
   "outputs": [],
   "source": [
    "scaler = StandardScaler().fit(X)\n",
    "X = scaler.transform(X)"
   ]
  },
  {
   "cell_type": "markdown",
   "metadata": {
    "id": "iyPlsKPP608P"
   },
   "source": [
    "Finally, we divide it into a 80 / 20 training and testing split."
   ]
  },
  {
   "cell_type": "code",
   "execution_count": 116,
   "metadata": {
    "id": "XrzVsMpryuxB",
    "ExecuteTime": {
     "end_time": "2023-11-25T00:21:35.332802Z",
     "start_time": "2023-11-25T00:21:34.462460Z"
    }
   },
   "outputs": [],
   "source": [
    "num_of_points = len(Y)\n",
    "\n",
    "idx = list(range(num_of_points))\n",
    "np.random.shuffle(idx)\n",
    "idx_train = idx[:int(num_of_points * 0.8)]\n",
    "idx_train.sort()\n",
    "idx_test = idx[int(num_of_points * 0.8):]\n",
    "idx_test.sort()\n",
    "\n",
    "X_train = X[idx_train, :]\n",
    "X_test = X[idx_test, :]\n",
    "\n",
    "Y_train = Y[idx_train]\n",
    "Y_test = Y[idx_test]"
   ]
  },
  {
   "cell_type": "markdown",
   "metadata": {
    "id": "wAmjUYZjxPVF"
   },
   "source": [
    "# Logistic Regression\n",
    "\n",
    "Recall that logistic regression is a model that is very well suited to problems where we have a binary output. That is, we are trying to use certain predictors to classify a particular input into one of two classes. We can write this down more formally.\n",
    "\n",
    "Assume we have a set of predictors $x \\in \\mathcal{X}$, and a set of outputs $y \\in \\{0, 1 \\}$. We are then interested in estimating the probability of belonging to a certain class, that is, we want to build an estimator, $\\hat{p}(x)$, such that:\n",
    "$$\n",
    "\\hat{p}(x) = \\mathbb{P}( Y = 1 | X = x )\n",
    "$$\n",
    "\n",
    "There are many real-world scenarios where this might be the case. Consider for example, we might be interested in predicting if a particular individual infected with COVID will need hospital treatment. In this case, we would define $Y = 1$ the scenario where the individual requires treatment, and $Y = 0$ otherwise. For predictors we could use $X = $ age. \n",
    "\n",
    "We could decide to use linear regression, that is, a model of the form:\n",
    "$$\n",
    "\\hat{p}(x) = \\beta_0 + x \\beta_1\n",
    "$$\n",
    "\n",
    "However, we run into trouble. Probabilities must lie between 0 and 1! The linear model is unable to incorporate this property into its predictions!\n",
    "\n",
    "We can instead wrap our linear model in a function that guarantees all our outputs lie between 0 and 1. We will be using the sigmoid function, defined as:\n",
    "$$\n",
    "\\sigma(x) = \\frac{1}{1 + e^{-x}}\n",
    "$$\n",
    "\n",
    "After wrapping the linear model, we obtain the logistic regression model, given by:\n",
    "$$\n",
    "\\hat{p}(x) = \\sigma(\\beta_0 + x \\beta_1)\n",
    "$$\n",
    "\n",
    "Which we can write as:\n",
    "$$\n",
    "\\hat{p}(x) = \\frac{e^{\\beta_0 + x \\beta_1}}{1 + e^{\\beta_0 + x \\beta_1}}\n",
    "$$"
   ]
  },
  {
   "cell_type": "markdown",
   "metadata": {
    "id": "l9LRuT3WCn7J"
   },
   "source": [
    "# Training the function\n",
    "\n",
    "The parameters of a linear regression model can be estimated using least squares. However, it is not the best optimiser for logistic regression. This is because we are not estimating $Y$ directly, instead we are estimating $\\textit{the probability}$ of Y. This means maximum likelihood estimation is much more appropriate for logistic regression. We can write the likelihood function easily:\n",
    "$$\n",
    "\\mathcal{L} = \\prod_{i : y_i = 1} \\mathbb{P}(Y = 1 | X = x_i) \\prod_{i' : y_{i'} = 0} (1 - \\mathbb{P}(Y = 0 | X = x_{i'}))\n",
    "$$\n",
    "\n",
    "Instead of maximising this directly, it is more common to minimise the negative log-likelihood:\n",
    "$$\n",
    "\\ell(\\beta) = - \\log \\mathcal{L}(\\beta) = - \\sum_{i : y_i = 1} \\log\\sigma(x_i^T \\beta) - \\sum_{i' : y_{i'} = 0}\\log \\sigma(x_{i'}^T\\beta)\n",
    "$$\n",
    "So that we choose our parameters, $\\hat{\\beta}$:\n",
    "$$\n",
    "\\hat{\\beta} = \\arg\\min_{\\beta} \\ell(\\beta)\n",
    "$$\n",
    "\n",
    "Finding the minimum can easily be done using any gradient-based optimiser. In addition, we can also add regularization, which helps us avoid overfitting. We will begin by investigating this."
   ]
  },
  {
   "cell_type": "markdown",
   "metadata": {
    "id": "R90i_2UNu_0l"
   },
   "source": [
    "## Exercise 1:\n",
    "\n",
    "1. Prove that the sigmoid function always gives an output between 0 and 1. (Hint: consider the limits as $x \\rightarrow \\pm \\infty$, and show the function is always increasing).\n",
    "\n",
    "2. Using scikit.learn's LogisticRegression class, train a model on the data-set above, make sure you are not regularizing (read the sklearn's documentation! - https://scikit-learn.org/stable/modules/generated/sklearn.linear_model.LogisticRegression.html). Show the model's training and test accuracy, and build a confusion matrix for each set. (Hint: the functions required are $ \\texttt{.fit()} $, $\\texttt{.predict()}$, and $\\texttt{confusion\\_matrix()}$."
   ]
  },
  {
   "cell_type": "markdown",
   "source": [
    "### Answer 1:\n",
    "1. As $x \\rightarrow \\pm \\infty$, $x\\beta_1 > 0 \\Rightarrow \\frac{e^{\\beta_0 + x \\beta_1}}{1 + e^{\\beta_0 + x \\beta_1}} \\rightarrow 1$ and $x\\beta_1 < 0 \\Rightarrow \\frac{e^{\\beta_0 + x \\beta_1}}{1 + e^{\\beta_0 + x \\beta_1}} \\rightarrow 0$. Thus, we can see for the extremes of x, $\\hat{p}(x) \\in (0, 1)$. For $x\\beta_1 = 0 \\Leftarrow \\beta_1 = 0$, $\\hat{p}(x) = \\frac{1}{2}$ always, so for any $x$, the statement stands."
   ],
   "metadata": {
    "collapsed": false
   }
  },
  {
   "cell_type": "code",
   "execution_count": 117,
   "outputs": [
    {
     "name": "stdout",
     "output_type": "stream",
     "text": [
      "Training data\n",
      "  Accuracy: 0.7768729641693811\n",
      "[[347  48]\n",
      " [ 89 130]]\n",
      "\n",
      "Test data\n",
      "  Accuracy: 0.7922077922077922\n",
      "[[94 11]\n",
      " [21 28]]\n"
     ]
    },
    {
     "data": {
      "text/plain": "0.7922077922077922"
     },
     "execution_count": 117,
     "metadata": {},
     "output_type": "execute_result"
    }
   ],
   "source": [
    "def testModel(y_true, y_pred, verbose=False):\n",
    "    cm = confusion_matrix(y_true, y_pred)\n",
    "    accuracy = (cm[0][0] + cm[1][1])/len(y_true)\n",
    "    if verbose:\n",
    "        print('  Accuracy:', accuracy)\n",
    "        print(cm)\n",
    "    return accuracy\n",
    "    \n",
    "logit_model = LogisticRegression(penalty=None)\n",
    "logit_model.fit(X_train,Y_train)\n",
    "print('Training data')\n",
    "testModel(Y_train, logit_model.predict(X_train), True)\n",
    "print('\\nTest data')\n",
    "testModel(Y_test, logit_model.predict(X_test), True)"
   ],
   "metadata": {
    "collapsed": false,
    "ExecuteTime": {
     "end_time": "2023-11-25T00:21:35.340862Z",
     "start_time": "2023-11-25T00:21:34.484452Z"
    }
   }
  },
  {
   "cell_type": "markdown",
   "metadata": {
    "id": "BCvHNIle66HT"
   },
   "source": [
    "## Excercise 2\n",
    "\n",
    "Regularization happens when we add a penalty to the loss function. We do this to decrease the complexity of the model, in an attempt to stop the model from over-fitting. Ideally, this should lead to better generalization. To be more precise, for L2 regularization we will now choose our parameters by minimizing the modified loss function:\n",
    "$$\n",
    "\\hat{\\beta} = \\arg\\min_\\beta \\{ C \\cdot \\ell(\\beta) + \\frac{1}{2}\\beta^T \\beta \\}\n",
    "$$\n",
    "\n",
    "Note that the new penalization means that $\\beta$ should be closer to zero (this is what we mean by 'a simpler model').\n",
    "\n",
    "Investigate the effect of L2 regularization. In particular, focus on the how the testing accuracy changes for different values of $C$. Create a plot that shows how $C$ varies, starting at $10^{-6}$ and ending at $10^{-2}$.\n",
    "\n",
    "1. What behaviour do you observe as you increase regularization (that is, as $C$ becomes small)?\n",
    "\n",
    "2. From your investigation, choose the best regularization constant. How does it compare with previous testing accuracy?\n",
    "\n",
    "3. For which values of $C$ can you recover your previous training accuracy? Can you explain why does this happen?"
   ]
  },
  {
   "cell_type": "markdown",
   "source": [
    "1. As seen below, as C gets smaller, the accuracy levels out. This implies that too much regularization underfits the model and causes a decrease in accuracy.\n",
    "2. $10^{-2}$ was the best constant. It is slightly, but not massively better than the previous testing accuracy.\n",
    "3. For none of the tested values of C can we match our training accuracy. This is due to regularization limiting the tendancy to overfit on the training data, which had previously been allowed and had boosted the training accuracy."
   ],
   "metadata": {
    "collapsed": false
   }
  },
  {
   "cell_type": "code",
   "execution_count": 160,
   "outputs": [
    {
     "data": {
      "text/plain": "<Figure size 640x480 with 1 Axes>",
      "image/png": "[encoded data removed]"
     },
     "metadata": {},
     "output_type": "display_data"
    }
   ],
   "source": [
    "train_accuracies = []\n",
    "test_accuracies = []\n",
    "C = np.logspace(-2, -6, 5)\n",
    "for i in C:\n",
    "    r_logit_model = LogisticRegression(penalty='l2', C=i)\n",
    "    r_logit_model.fit(X_train,Y_train)\n",
    "    train_accuracies.append(testModel(Y_train, r_logit_model.predict(X_train)))\n",
    "    test_accuracies.append(testModel(Y_test, r_logit_model.predict(X_test)))\n",
    "\n",
    "plt.plot(C, train_accuracies, marker='x', label='Training Accuracy')\n",
    "plt.plot(C, test_accuracies, marker='x', label='Test Accuracy')\n",
    "plt.grid()\n",
    "plt.xlabel(\"C\")\n",
    "plt.ylabel(\"Accuracy\")\n",
    "plt.xscale('log')\n",
    "plt.legend()\n",
    "plt.show()"
   ],
   "metadata": {
    "collapsed": false,
    "ExecuteTime": {
     "end_time": "2023-11-25T00:46:54.639176Z",
     "start_time": "2023-11-25T00:46:54.472425Z"
    }
   }
  },
  {
   "cell_type": "markdown",
   "metadata": {
    "id": "SWRSCSFf--br"
   },
   "source": [
    "# Probability Thresholds"
   ]
  },
  {
   "cell_type": "markdown",
   "metadata": {
    "id": "pv_JxY-R_n0r"
   },
   "source": [
    "Recall that we are not estimating $Y$ directly, but instead the probability of $Y = 1 | X$. So far, our classification has been based on the which class has the higher probability. In other words, we have been using the classifier:\n",
    "$$\n",
    "  \\hat{Y}(x) =\n",
    "    \\begin{cases}\n",
    "      0 & \\text{if } \\hat{p}(x) < 0.5 \\\\\n",
    "      1 & \\text{if } \\hat{p}(x) \\geq 0.5 \\\\\n",
    "    \\end{cases}       \n",
    "$$\n",
    "\n",
    "However, we must also consider that the probability threshold of 0.5 might not be optimal. Indeed, consider our current data-set. Let's say we were going to use our model to decide who should go see a doctor and possibly get preventive treatment. In this case, incorrectly predicting that someone will not have Diabetes, when they will, is very costly - the person might face severe health consequences. On the other hand, incorrectly saying someone will have Diabetes, when they won't, is not as bad because the doctor would be able to catch this, and we would just waste a little time. \n",
    "\n",
    "This is one of the greatest strengths of logistic regression. The way we define and train them, mean we obtain good uncertainty estimates, so that we might make risk assessments!\n",
    "\n",
    "## Exercise 3\n",
    "\n",
    "1. Train a new logistic regression model, using the best regularization constant you found in exercise 2.\n",
    "\n",
    "2. Build a new function which takes as inputs: your Logistic Regression model, a set of $X$ values in which to predict, and a probability threshold $T_p$. The function should return an array of predictions based on the new probability threshold. (Hint:  use the $\\texttt{predict\\_proba}$ method in $\\texttt{LogisticRegression}$)\n",
    "\n",
    "3. Investigate the effect of the probability threshold on the number of False Negatives and False Positives. Based on this analysis, what probability threshold would YOU choose? What kind of information would you want to make such a decision?"
   ]
  },
  {
   "cell_type": "code",
   "execution_count": 163,
   "outputs": [
    {
     "data": {
      "text/plain": "LogisticRegression(C=0.01)",
      "text/html": "<style>#sk-container-id-8 {color: black;}#sk-container-id-8 pre{padding: 0;}#sk-container-id-8 div.sk-toggleable {background-color: white;}#sk-container-id-8 label.sk-toggleable__label {cursor: pointer;display: block;width: 100%;margin-bottom: 0;padding: 0.3em;box-sizing: border-box;text-align: center;}#sk-container-id-8 label.sk-toggleable__label-arrow:before {content: \"▸\";float: left;margin-right: 0.25em;color: #696969;}#sk-container-id-8 label.sk-toggleable__label-arrow:hover:before {color: black;}#sk-container-id-8 div.sk-estimator:hover label.sk-toggleable__label-arrow:before {color: black;}#sk-container-id-8 div.sk-toggleable__content {max-height: 0;max-width: 0;overflow: hidden;text-align: left;background-color: #f0f8ff;}#sk-container-id-8 div.sk-toggleable__content pre {margin: 0.2em;color: black;border-radius: 0.25em;background-color: #f0f8ff;}#sk-container-id-8 input.sk-toggleable__control:checked~div.sk-toggleable__content {max-height: 200px;max-width: 100%;overflow: auto;}#sk-container-id-8 input.sk-toggleable__control:checked~label.sk-toggleable__label-arrow:before {content: \"▾\";}#sk-container-id-8 div.sk-estimator input.sk-toggleable__control:checked~label.sk-toggleable__label {background-color: #d4ebff;}#sk-container-id-8 div.sk-label input.sk-toggleable__control:checked~label.sk-toggleable__label {background-color: #d4ebff;}#sk-container-id-8 input.sk-hidden--visually {border: 0;clip: rect(1px 1px 1px 1px);clip: rect(1px, 1px, 1px, 1px);height: 1px;margin: -1px;overflow: hidden;padding: 0;position: absolute;width: 1px;}#sk-container-id-8 div.sk-estimator {font-family: monospace;background-color: #f0f8ff;border: 1px dotted black;border-radius: 0.25em;box-sizing: border-box;margin-bottom: 0.5em;}#sk-container-id-8 div.sk-estimator:hover {background-color: #d4ebff;}#sk-container-id-8 div.sk-parallel-item::after {content: \"\";width: 100%;border-bottom: 1px solid gray;flex-grow: 1;}#sk-container-id-8 div.sk-label:hover label.sk-toggleable__label {background-color: #d4ebff;}#sk-container-id-8 div.sk-serial::before {content: \"\";position: absolute;border-left: 1px solid gray;box-sizing: border-box;top: 0;bottom: 0;left: 50%;z-index: 0;}#sk-container-id-8 div.sk-serial {display: flex;flex-direction: column;align-items: center;background-color: white;padding-right: 0.2em;padding-left: 0.2em;position: relative;}#sk-container-id-8 div.sk-item {position: relative;z-index: 1;}#sk-container-id-8 div.sk-parallel {display: flex;align-items: stretch;justify-content: center;background-color: white;position: relative;}#sk-container-id-8 div.sk-item::before, #sk-container-id-8 div.sk-parallel-item::before {content: \"\";position: absolute;border-left: 1px solid gray;box-sizing: border-box;top: 0;bottom: 0;left: 50%;z-index: -1;}#sk-container-id-8 div.sk-parallel-item {display: flex;flex-direction: column;z-index: 1;position: relative;background-color: white;}#sk-container-id-8 div.sk-parallel-item:first-child::after {align-self: flex-end;width: 50%;}#sk-container-id-8 div.sk-parallel-item:last-child::after {align-self: flex-start;width: 50%;}#sk-container-id-8 div.sk-parallel-item:only-child::after {width: 0;}#sk-container-id-8 div.sk-dashed-wrapped {border: 1px dashed gray;margin: 0 0.4em 0.5em 0.4em;box-sizing: border-box;padding-bottom: 0.4em;background-color: white;}#sk-container-id-8 div.sk-label label {font-family: monospace;font-weight: bold;display: inline-block;line-height: 1.2em;}#sk-container-id-8 div.sk-label-container {text-align: center;}#sk-container-id-8 div.sk-container {/* jupyter's `normalize.less` sets `[hidden] { display: none; }` but bootstrap.min.css set `[hidden] { display: none !important; }` so we also need the `!important` here to be able to override the default hidden behavior on the sphinx rendered scikit-learn.org. See: https://github.com/scikit-learn/scikit-learn/issues/21755 */display: inline-block !important;position: relative;}#sk-container-id-8 div.sk-text-repr-fallback {display: none;}</style><div id=\"sk-container-id-8\" class=\"sk-top-container\"><div class=\"sk-text-repr-fallback\"><pre>LogisticRegression(C=0.01)</pre><b>In a Jupyter environment, please rerun this cell to show the HTML representation or trust the notebook. <br />On GitHub, the HTML representation is unable to render, please try loading this page with nbviewer.org.</b></div><div class=\"sk-container\" hidden><div class=\"sk-item\"><div class=\"sk-estimator sk-toggleable\"><input class=\"sk-toggleable__control sk-hidden--visually\" id=\"sk-estimator-id-8\" type=\"checkbox\" checked><label for=\"sk-estimator-id-8\" class=\"sk-toggleable__label sk-toggleable__label-arrow\">LogisticRegression</label><div class=\"sk-toggleable__content\"><pre>LogisticRegression(C=0.01)</pre></div></div></div></div></div>"
     },
     "execution_count": 163,
     "metadata": {},
     "output_type": "execute_result"
    }
   ],
   "source": [
    "r_logit_model = LogisticRegression(penalty='l2', C=0.01)\n",
    "r_logit_model.fit(X_train,Y_train)"
   ],
   "metadata": {
    "collapsed": false,
    "ExecuteTime": {
     "end_time": "2023-11-25T00:47:43.743293Z",
     "start_time": "2023-11-25T00:47:43.709768Z"
    }
   }
  },
  {
   "cell_type": "code",
   "execution_count": 169,
   "outputs": [],
   "source": [
    "def Predict(model, values, prob_t):\n",
    "    pred = r_logit_model.predict_proba(values)\n",
    "    test_pred = r_logit_model.predict(values)\n",
    "    return np.where(pred[:,1] > prob_t, 1, 0)\n"
   ],
   "metadata": {
    "collapsed": false,
    "ExecuteTime": {
     "end_time": "2023-11-25T00:49:48.100140Z",
     "start_time": "2023-11-25T00:49:48.088658Z"
    }
   }
  },
  {
   "cell_type": "code",
   "execution_count": 171,
   "outputs": [
    {
     "name": "stdout",
     "output_type": "stream",
     "text": [
      "\n",
      "\n",
      "---Threshold: 0.0\n",
      "  Accuracy: 0.3181818181818182\n",
      "[[  0 105]\n",
      " [  0  49]]\n",
      "\n",
      "\n",
      "---Threshold: 0.1\n",
      "  Accuracy: 0.33116883116883117\n",
      "[[  3 102]\n",
      " [  1  48]]\n",
      "\n",
      "\n",
      "---Threshold: 0.2\n",
      "  Accuracy: 0.5064935064935064\n",
      "[[30 75]\n",
      " [ 1 48]]\n",
      "\n",
      "\n",
      "---Threshold: 0.30000000000000004\n",
      "  Accuracy: 0.6688311688311688\n",
      "[[63 42]\n",
      " [ 9 40]]\n",
      "\n",
      "\n",
      "---Threshold: 0.4\n",
      "  Accuracy: 0.7662337662337663\n",
      "[[87 18]\n",
      " [18 31]]\n",
      "\n",
      "\n",
      "---Threshold: 0.5\n",
      "  Accuracy: 0.8051948051948052\n",
      "[[98  7]\n",
      " [23 26]]\n",
      "\n",
      "\n",
      "---Threshold: 0.6000000000000001\n",
      "  Accuracy: 0.7597402597402597\n",
      "[[103   2]\n",
      " [ 35  14]]\n",
      "\n",
      "\n",
      "---Threshold: 0.7000000000000001\n",
      "  Accuracy: 0.7142857142857143\n",
      "[[104   1]\n",
      " [ 43   6]]\n",
      "\n",
      "\n",
      "---Threshold: 0.8\n",
      "  Accuracy: 0.6883116883116883\n",
      "[[105   0]\n",
      " [ 48   1]]\n",
      "\n",
      "\n",
      "---Threshold: 0.9\n",
      "  Accuracy: 0.6818181818181818\n",
      "[[105   0]\n",
      " [ 49   0]]\n",
      "\n",
      "\n",
      "---Threshold: 1.0\n",
      "  Accuracy: 0.6818181818181818\n",
      "[[105   0]\n",
      " [ 49   0]]\n"
     ]
    }
   ],
   "source": [
    "for i in np.linspace(0, 1, 11):\n",
    "    print('\\n\\n---Threshold:', i)\n",
    "    Y_pred = Predict(r_logit_model, X_test, i)\n",
    "    testModel(Y_test, Y_pred, True)"
   ],
   "metadata": {
    "collapsed": false,
    "ExecuteTime": {
     "end_time": "2023-11-25T00:50:08.743525Z",
     "start_time": "2023-11-25T00:50:08.712424Z"
    }
   }
  },
  {
   "cell_type": "markdown",
   "source": [
    "I would choose a threshold of 0.2. There is an accuracy of about 0.51 but the number of false negatives is very low in comparison with the other classifications."
   ],
   "metadata": {
    "collapsed": false
   }
  }
 ],
 "metadata": {
  "colab": {
   "name": "IMP-PCMLAI-M13-LogisticRegressionNotebook-final.ipynb",
   "provenance": [],
   "collapsed_sections": []
  },
  "interpreter": {
   "hash": "d37abda7630e259e5026a5079657683a09f6e3d11473720762ebe7250c494840"
  },
  "kernelspec": {
   "name": "python3",
   "language": "python",
   "display_name": "Python 3 (ipykernel)"
  },
  "language_info": {
   "codemirror_mode": {
    "name": "ipython",
    "version": 3
   },
   "file_extension": ".py",
   "mimetype": "text/x-python",
   "name": "python",
   "nbconvert_exporter": "python",
   "pygments_lexer": "ipython3",
   "version": "3.8.12"
  }
 },
 "nbformat": 4,
 "nbformat_minor": 0
}
