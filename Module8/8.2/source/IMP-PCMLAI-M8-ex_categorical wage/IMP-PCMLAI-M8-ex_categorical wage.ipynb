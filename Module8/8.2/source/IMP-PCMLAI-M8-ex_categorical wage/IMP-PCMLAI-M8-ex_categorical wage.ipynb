{
 "cells": [
  {
   "cell_type": "code",
   "execution_count": 1,
   "id": "c85711c7",
   "metadata": {},
   "outputs": [],
   "source": [
    "import numpy as np\n",
    "import pandas as pd"
   ]
  },
  {
   "cell_type": "markdown",
   "id": "7fb3bf94",
   "metadata": {},
   "source": [
    "## Read the `Wage` File"
   ]
  },
  {
   "cell_type": "code",
   "execution_count": 2,
   "id": "050606cd",
   "metadata": {},
   "outputs": [],
   "source": [
    "wage_df = pd.read_csv(\"wage.csv\")"
   ]
  },
  {
   "cell_type": "code",
   "execution_count": 3,
   "id": "d5616a23",
   "metadata": {
    "scrolled": true
   },
   "outputs": [
    {
     "data": {
      "text/html": [
       "<div>\n",
       "<style scoped>\n",
       "    .dataframe tbody tr th:only-of-type {\n",
       "        vertical-align: middle;\n",
       "    }\n",
       "\n",
       "    .dataframe tbody tr th {\n",
       "        vertical-align: top;\n",
       "    }\n",
       "\n",
       "    .dataframe thead th {\n",
       "        text-align: right;\n",
       "    }\n",
       "</style>\n",
       "<table border=\"1\" class=\"dataframe\">\n",
       "  <thead>\n",
       "    <tr style=\"text-align: right;\">\n",
       "      <th></th>\n",
       "      <th>year</th>\n",
       "      <th>age</th>\n",
       "      <th>maritl</th>\n",
       "      <th>race</th>\n",
       "      <th>education</th>\n",
       "      <th>region</th>\n",
       "      <th>jobclass</th>\n",
       "      <th>health</th>\n",
       "      <th>health_ins</th>\n",
       "      <th>logwage</th>\n",
       "      <th>wage</th>\n",
       "    </tr>\n",
       "  </thead>\n",
       "  <tbody>\n",
       "    <tr>\n",
       "      <th>0</th>\n",
       "      <td>2006</td>\n",
       "      <td>18</td>\n",
       "      <td>1. Never Married</td>\n",
       "      <td>1. White</td>\n",
       "      <td>1. &lt; HS Grad</td>\n",
       "      <td>2. Middle Atlantic</td>\n",
       "      <td>1. Industrial</td>\n",
       "      <td>1. &lt;=Good</td>\n",
       "      <td>2. No</td>\n",
       "      <td>4.318063</td>\n",
       "      <td>75.043154</td>\n",
       "    </tr>\n",
       "    <tr>\n",
       "      <th>1</th>\n",
       "      <td>2004</td>\n",
       "      <td>24</td>\n",
       "      <td>1. Never Married</td>\n",
       "      <td>1. White</td>\n",
       "      <td>4. College Grad</td>\n",
       "      <td>2. Middle Atlantic</td>\n",
       "      <td>2. Information</td>\n",
       "      <td>2. &gt;=Very Good</td>\n",
       "      <td>2. No</td>\n",
       "      <td>4.255273</td>\n",
       "      <td>70.476020</td>\n",
       "    </tr>\n",
       "    <tr>\n",
       "      <th>2</th>\n",
       "      <td>2003</td>\n",
       "      <td>45</td>\n",
       "      <td>2. Married</td>\n",
       "      <td>1. White</td>\n",
       "      <td>3. Some College</td>\n",
       "      <td>2. Middle Atlantic</td>\n",
       "      <td>1. Industrial</td>\n",
       "      <td>1. &lt;=Good</td>\n",
       "      <td>1. Yes</td>\n",
       "      <td>4.875061</td>\n",
       "      <td>130.982177</td>\n",
       "    </tr>\n",
       "  </tbody>\n",
       "</table>\n",
       "</div>"
      ],
      "text/plain": [
       "   year  age            maritl      race        education              region  \\\n",
       "0  2006   18  1. Never Married  1. White     1. < HS Grad  2. Middle Atlantic   \n",
       "1  2004   24  1. Never Married  1. White  4. College Grad  2. Middle Atlantic   \n",
       "2  2003   45        2. Married  1. White  3. Some College  2. Middle Atlantic   \n",
       "\n",
       "         jobclass          health health_ins   logwage        wage  \n",
       "0   1. Industrial       1. <=Good      2. No  4.318063   75.043154  \n",
       "1  2. Information  2. >=Very Good      2. No  4.255273   70.476020  \n",
       "2   1. Industrial       1. <=Good     1. Yes  4.875061  130.982177  "
      ]
     },
     "execution_count": 3,
     "metadata": {},
     "output_type": "execute_result"
    }
   ],
   "source": [
    "wage_df.head(3)"
   ]
  },
  {
   "cell_type": "code",
   "execution_count": 4,
   "id": "2107f16c",
   "metadata": {},
   "outputs": [
    {
     "data": {
      "text/plain": [
       "year            int64\n",
       "age             int64\n",
       "maritl         object\n",
       "race           object\n",
       "education      object\n",
       "region         object\n",
       "jobclass       object\n",
       "health         object\n",
       "health_ins     object\n",
       "logwage       float64\n",
       "wage          float64\n",
       "dtype: object"
      ]
     },
     "execution_count": 4,
     "metadata": {},
     "output_type": "execute_result"
    }
   ],
   "source": [
    "wage_df.dtypes #we can see that everything except for year age (log) wage are categorical"
   ]
  },
  {
   "cell_type": "markdown",
   "id": "a8881eb2",
   "metadata": {},
   "source": [
    "### Check unique values in the `jobclass` column"
   ]
  },
  {
   "cell_type": "code",
   "execution_count": 5,
   "id": "df3371a1",
   "metadata": {},
   "outputs": [
    {
     "data": {
      "text/plain": [
       "array(['1. Industrial', '2. Information'], dtype=object)"
      ]
     },
     "execution_count": 5,
     "metadata": {},
     "output_type": "execute_result"
    }
   ],
   "source": [
    "wage_df.jobclass.unique() #only two -- easy to replace"
   ]
  },
  {
   "cell_type": "code",
   "execution_count": 6,
   "id": "1c947fdb",
   "metadata": {},
   "outputs": [],
   "source": [
    "wage_df[\"job_information\"] =  (wage_df[\"jobclass\"] == \"2. Information\").astype(int) #so that =1 means information"
   ]
  },
  {
   "cell_type": "code",
   "execution_count": 7,
   "id": "7a78b7be",
   "metadata": {},
   "outputs": [],
   "source": [
    "wage_df.drop(['jobclass', 'logwage', 'region', 'year'], axis=1, inplace=True) #lets delete jobclass and logwage now"
   ]
  },
  {
   "cell_type": "markdown",
   "id": "19c1beb1",
   "metadata": {},
   "source": [
    "### Check unique values in the `health` column"
   ]
  },
  {
   "cell_type": "code",
   "execution_count": 8,
   "id": "9cad3af6",
   "metadata": {},
   "outputs": [
    {
     "data": {
      "text/plain": [
       "array(['1. <=Good', '2. >=Very Good'], dtype=object)"
      ]
     },
     "execution_count": 8,
     "metadata": {},
     "output_type": "execute_result"
    }
   ],
   "source": [
    "wage_df.health.unique() #only two -- easy to replace"
   ]
  },
  {
   "cell_type": "code",
   "execution_count": 9,
   "id": "f15c038a",
   "metadata": {},
   "outputs": [],
   "source": [
    "wage_df[\"health\"] =  (wage_df[\"health\"] == \"2. >=Very Good\").astype(int) #so that =1 means very good health"
   ]
  },
  {
   "cell_type": "markdown",
   "id": "e347d3a9",
   "metadata": {},
   "source": [
    "### Apply the same for `health_ins`"
   ]
  },
  {
   "cell_type": "code",
   "execution_count": 16,
   "id": "b0cefaf3",
   "metadata": {},
   "outputs": [
    {
     "data": {
      "text/plain": [
       "array(['2. No', '1. Yes'], dtype=object)"
      ]
     },
     "execution_count": 16,
     "metadata": {},
     "output_type": "execute_result"
    }
   ],
   "source": [
    "wage_df.health_ins.unique() #only two -- easy to replace"
   ]
  },
  {
   "cell_type": "code",
   "execution_count": 17,
   "id": "d28b385e",
   "metadata": {},
   "outputs": [],
   "source": [
    "wage_df[\"health_ins\"] =  (wage_df[\"health_ins\"] == \"1. Yes\").astype(int) #so that =1 means has a health insurance"
   ]
  },
  {
   "cell_type": "markdown",
   "id": "c9e71d98",
   "metadata": {},
   "source": [
    "### Check unique values in the `maritl` column"
   ]
  },
  {
   "cell_type": "code",
   "execution_count": 10,
   "id": "6237b4be",
   "metadata": {},
   "outputs": [
    {
     "data": {
      "text/plain": [
       "array(['1. Never Married', '2. Married', '4. Divorced', '3. Widowed',\n",
       "       '5. Separated'], dtype=object)"
      ]
     },
     "execution_count": 10,
     "metadata": {},
     "output_type": "execute_result"
    }
   ],
   "source": [
    "wage_df.maritl.unique() #we cannot make this 1-2-3-4-5 as this is nominal"
   ]
  },
  {
   "cell_type": "code",
   "execution_count": 11,
   "id": "44f17a7b",
   "metadata": {},
   "outputs": [],
   "source": [
    "one_hot = pd.get_dummies(wage_df.maritl, prefix='marriage')"
   ]
  },
  {
   "cell_type": "code",
   "execution_count": 12,
   "id": "560391f1",
   "metadata": {},
   "outputs": [],
   "source": [
    "wage_df = wage_df.join(one_hot)"
   ]
  },
  {
   "cell_type": "code",
   "execution_count": 13,
   "id": "bef910e3",
   "metadata": {},
   "outputs": [],
   "source": [
    "wage_df.drop(['maritl', 'marriage_1. Never Married'], axis=1, inplace=True)"
   ]
  },
  {
   "cell_type": "code",
   "execution_count": 14,
   "id": "9f70aff1",
   "metadata": {},
   "outputs": [],
   "source": [
    "wage_df.columns = [*wage_df.columns[:-4], 'marriage_yes',\\\n",
    "                   'marriage_widowed', 'marriage_divorced', 'marriage_separated'] #we drop one -- why?"
   ]
  },
  {
   "cell_type": "markdown",
   "id": "7ea50f1a",
   "metadata": {},
   "source": [
    "### Decide what to do for `education`"
   ]
  },
  {
   "cell_type": "code",
   "execution_count": 20,
   "id": "37fd118b",
   "metadata": {},
   "outputs": [
    {
     "data": {
      "text/plain": [
       "array(['1. < HS Grad', '4. College Grad', '3. Some College', '2. HS Grad',\n",
       "       '5. Advanced Degree'], dtype=object)"
      ]
     },
     "execution_count": 20,
     "metadata": {},
     "output_type": "execute_result"
    }
   ],
   "source": [
    "wage_df.education.unique() #it looks like we can take these as ordinal categories"
   ]
  },
  {
   "cell_type": "code",
   "execution_count": 23,
   "id": "d449ac8b",
   "metadata": {},
   "outputs": [],
   "source": [
    "wage_df.education = (wage_df.education.astype(str).str[0]).astype(int)"
   ]
  },
  {
   "cell_type": "markdown",
   "id": "84891563",
   "metadata": {},
   "source": [
    "### Question to deliver on encoding categorical variables\n",
    "- Encode the `race` variable by using numerical variable(s) and drop `race`.\n",
    "- Now that all the variables in our dataframe is numerical, apply a linear regression model to explain the `wage` with the other variables. Report the coefficients.\n",
    "- Interpret the coefficient of the `education` varaible."
   ]
  },
  {
   "cell_type": "markdown",
   "id": "9a18190a",
   "metadata": {},
   "source": [
    "#### First encode the variable. Then fit a linear model."
   ]
  },
  {
   "cell_type": "code",
   "execution_count": 40,
   "id": "98b38716",
   "metadata": {},
   "outputs": [],
   "source": [
    "from sklearn.linear_model import LinearRegression"
   ]
  },
  {
   "cell_type": "code",
   "execution_count": 42,
   "id": "0479ca1a",
   "metadata": {},
   "outputs": [],
   "source": [
    "reg = LinearRegression().fit( ... ) #hint: to get coefficients of the fitted model use \"reg.coef_\""
   ]
  }
 ],
 "metadata": {
  "kernelspec": {
   "display_name": "Python 3 (ipykernel)",
   "language": "python",
   "name": "python3"
  },
  "language_info": {
   "codemirror_mode": {
    "name": "ipython",
    "version": 3
   },
   "file_extension": ".py",
   "mimetype": "text/x-python",
   "name": "python",
   "nbconvert_exporter": "python",
   "pygments_lexer": "ipython3",
   "version": "3.8.8"
  }
 },
 "nbformat": 4,
 "nbformat_minor": 5
}
