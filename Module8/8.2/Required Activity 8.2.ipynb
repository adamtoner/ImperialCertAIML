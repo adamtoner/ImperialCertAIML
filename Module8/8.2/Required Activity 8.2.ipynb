{
 "cells": [
  {
   "cell_type": "code",
   "execution_count": 1,
   "id": "c85711c7",
   "metadata": {
    "ExecuteTime": {
     "end_time": "2023-08-29T19:33:17.537467Z",
     "start_time": "2023-08-29T19:33:16.956572Z"
    }
   },
   "outputs": [],
   "source": [
    "import numpy as np\n",
    "import pandas as pd"
   ]
  },
  {
   "cell_type": "markdown",
   "id": "7fb3bf94",
   "metadata": {},
   "source": [
    "## Read the `Wage` File"
   ]
  },
  {
   "cell_type": "code",
   "execution_count": 2,
   "id": "050606cd",
   "metadata": {
    "ExecuteTime": {
     "end_time": "2023-08-29T19:33:26.713937Z",
     "start_time": "2023-08-29T19:33:25.731452Z"
    }
   },
   "outputs": [],
   "source": [
    "wage_df = pd.read_csv(\"wage.csv\")"
   ]
  },
  {
   "cell_type": "code",
   "execution_count": 3,
   "id": "d5616a23",
   "metadata": {
    "scrolled": true,
    "ExecuteTime": {
     "end_time": "2023-08-29T19:33:30.480352Z",
     "start_time": "2023-08-29T19:33:29.912687Z"
    }
   },
   "outputs": [
    {
     "data": {
      "text/plain": "   year  age            maritl      race        education              region  \\\n0  2006   18  1. Never Married  1. White     1. < HS Grad  2. Middle Atlantic   \n1  2004   24  1. Never Married  1. White  4. College Grad  2. Middle Atlantic   \n2  2003   45        2. Married  1. White  3. Some College  2. Middle Atlantic   \n\n         jobclass          health health_ins   logwage        wage  \n0   1. Industrial       1. <=Good      2. No  4.318063   75.043154  \n1  2. Information  2. >=Very Good      2. No  4.255273   70.476020  \n2   1. Industrial       1. <=Good     1. Yes  4.875061  130.982177  ",
      "text/html": "<div>\n<style scoped>\n    .dataframe tbody tr th:only-of-type {\n        vertical-align: middle;\n    }\n\n    .dataframe tbody tr th {\n        vertical-align: top;\n    }\n\n    .dataframe thead th {\n        text-align: right;\n    }\n</style>\n<table border=\"1\" class=\"dataframe\">\n  <thead>\n    <tr style=\"text-align: right;\">\n      <th></th>\n      <th>year</th>\n      <th>age</th>\n      <th>maritl</th>\n      <th>race</th>\n      <th>education</th>\n      <th>region</th>\n      <th>jobclass</th>\n      <th>health</th>\n      <th>health_ins</th>\n      <th>logwage</th>\n      <th>wage</th>\n    </tr>\n  </thead>\n  <tbody>\n    <tr>\n      <th>0</th>\n      <td>2006</td>\n      <td>18</td>\n      <td>1. Never Married</td>\n      <td>1. White</td>\n      <td>1. &lt; HS Grad</td>\n      <td>2. Middle Atlantic</td>\n      <td>1. Industrial</td>\n      <td>1. &lt;=Good</td>\n      <td>2. No</td>\n      <td>4.318063</td>\n      <td>75.043154</td>\n    </tr>\n    <tr>\n      <th>1</th>\n      <td>2004</td>\n      <td>24</td>\n      <td>1. Never Married</td>\n      <td>1. White</td>\n      <td>4. College Grad</td>\n      <td>2. Middle Atlantic</td>\n      <td>2. Information</td>\n      <td>2. &gt;=Very Good</td>\n      <td>2. No</td>\n      <td>4.255273</td>\n      <td>70.476020</td>\n    </tr>\n    <tr>\n      <th>2</th>\n      <td>2003</td>\n      <td>45</td>\n      <td>2. Married</td>\n      <td>1. White</td>\n      <td>3. Some College</td>\n      <td>2. Middle Atlantic</td>\n      <td>1. Industrial</td>\n      <td>1. &lt;=Good</td>\n      <td>1. Yes</td>\n      <td>4.875061</td>\n      <td>130.982177</td>\n    </tr>\n  </tbody>\n</table>\n</div>"
     },
     "execution_count": 3,
     "metadata": {},
     "output_type": "execute_result"
    }
   ],
   "source": [
    "wage_df.head(3)"
   ]
  },
  {
   "cell_type": "code",
   "execution_count": 4,
   "id": "2107f16c",
   "metadata": {
    "ExecuteTime": {
     "end_time": "2023-08-29T19:34:41.255884Z",
     "start_time": "2023-08-29T19:34:40.644572Z"
    }
   },
   "outputs": [
    {
     "data": {
      "text/plain": "year            int64\nage             int64\nmaritl         object\nrace           object\neducation      object\nregion         object\njobclass       object\nhealth         object\nhealth_ins     object\nlogwage       float64\nwage          float64\ndtype: object"
     },
     "execution_count": 4,
     "metadata": {},
     "output_type": "execute_result"
    }
   ],
   "source": [
    "wage_df.dtypes #we can see that everything except for year age (log) wage are categorical"
   ]
  },
  {
   "cell_type": "markdown",
   "id": "a8881eb2",
   "metadata": {},
   "source": [
    "### Check unique values in the `jobclass` column"
   ]
  },
  {
   "cell_type": "code",
   "execution_count": 5,
   "id": "df3371a1",
   "metadata": {},
   "outputs": [
    {
     "data": {
      "text/plain": [
       "array(['1. Industrial', '2. Information'], dtype=object)"
      ]
     },
     "execution_count": 5,
     "metadata": {},
     "output_type": "execute_result"
    }
   ],
   "source": [
    "wage_df.jobclass.unique() #only two -- easy to replace"
   ]
  },
  {
   "cell_type": "code",
   "execution_count": 5,
   "id": "1c947fdb",
   "metadata": {
    "ExecuteTime": {
     "end_time": "2023-08-29T19:35:27.768534Z",
     "start_time": "2023-08-29T19:35:26.722673Z"
    }
   },
   "outputs": [],
   "source": [
    "wage_df[\"job_information\"] =  (wage_df[\"jobclass\"] == \"2. Information\").astype(int) #so that =1 means information"
   ]
  },
  {
   "cell_type": "code",
   "execution_count": 6,
   "id": "7a78b7be",
   "metadata": {
    "ExecuteTime": {
     "end_time": "2023-08-29T19:35:57.429476Z",
     "start_time": "2023-08-29T19:35:56.488228Z"
    }
   },
   "outputs": [],
   "source": [
    "wage_df.drop(['jobclass', 'logwage', 'region', 'year'], axis=1, inplace=True) #lets delete jobclass and logwage now"
   ]
  },
  {
   "cell_type": "markdown",
   "id": "19c1beb1",
   "metadata": {},
   "source": [
    "### Check unique values in the `health` column"
   ]
  },
  {
   "cell_type": "code",
   "execution_count": 7,
   "id": "9cad3af6",
   "metadata": {
    "ExecuteTime": {
     "end_time": "2023-08-29T19:36:06.148489Z",
     "start_time": "2023-08-29T19:36:05.390077Z"
    }
   },
   "outputs": [
    {
     "data": {
      "text/plain": "array(['1. <=Good', '2. >=Very Good'], dtype=object)"
     },
     "execution_count": 7,
     "metadata": {},
     "output_type": "execute_result"
    }
   ],
   "source": [
    "wage_df.health.unique() #only two -- easy to replace"
   ]
  },
  {
   "cell_type": "code",
   "execution_count": 8,
   "id": "f15c038a",
   "metadata": {
    "ExecuteTime": {
     "end_time": "2023-08-29T19:36:37.104673Z",
     "start_time": "2023-08-29T19:36:36.591747Z"
    }
   },
   "outputs": [],
   "source": [
    "wage_df[\"health\"] =  (wage_df[\"health\"] == \"2. >=Very Good\").astype(int) #so that =1 means very good health"
   ]
  },
  {
   "cell_type": "markdown",
   "id": "e347d3a9",
   "metadata": {},
   "source": [
    "### Apply the same for `health_ins`"
   ]
  },
  {
   "cell_type": "code",
   "execution_count": 9,
   "id": "b0cefaf3",
   "metadata": {
    "ExecuteTime": {
     "end_time": "2023-08-29T19:36:55.424652Z",
     "start_time": "2023-08-29T19:36:54.652367Z"
    }
   },
   "outputs": [
    {
     "data": {
      "text/plain": "array(['2. No', '1. Yes'], dtype=object)"
     },
     "execution_count": 9,
     "metadata": {},
     "output_type": "execute_result"
    }
   ],
   "source": [
    "wage_df.health_ins.unique() #only two -- easy to replace"
   ]
  },
  {
   "cell_type": "code",
   "execution_count": 10,
   "id": "d28b385e",
   "metadata": {
    "ExecuteTime": {
     "end_time": "2023-08-29T19:37:02.503890Z",
     "start_time": "2023-08-29T19:37:01.400751Z"
    }
   },
   "outputs": [],
   "source": [
    "wage_df[\"health_ins\"] =  (wage_df[\"health_ins\"] == \"1. Yes\").astype(int) #so that =1 means has a health insurance"
   ]
  },
  {
   "cell_type": "markdown",
   "id": "c9e71d98",
   "metadata": {},
   "source": [
    "### Check unique values in the `maritl` column"
   ]
  },
  {
   "cell_type": "code",
   "execution_count": 11,
   "id": "6237b4be",
   "metadata": {
    "ExecuteTime": {
     "end_time": "2023-08-29T19:37:07.555880Z",
     "start_time": "2023-08-29T19:37:07.000136Z"
    }
   },
   "outputs": [
    {
     "data": {
      "text/plain": "array(['1. Never Married', '2. Married', '4. Divorced', '3. Widowed',\n       '5. Separated'], dtype=object)"
     },
     "execution_count": 11,
     "metadata": {},
     "output_type": "execute_result"
    }
   ],
   "source": [
    "wage_df.maritl.unique() #we cannot make this 1-2-3-4-5 as this is nominal"
   ]
  },
  {
   "cell_type": "code",
   "execution_count": 12,
   "id": "44f17a7b",
   "metadata": {
    "ExecuteTime": {
     "end_time": "2023-08-29T19:37:15.396494Z",
     "start_time": "2023-08-29T19:37:14.915595Z"
    }
   },
   "outputs": [],
   "source": [
    "one_hot = pd.get_dummies(wage_df.maritl, prefix='marriage')"
   ]
  },
  {
   "cell_type": "code",
   "execution_count": 13,
   "id": "560391f1",
   "metadata": {
    "ExecuteTime": {
     "end_time": "2023-08-29T19:37:25.593518Z",
     "start_time": "2023-08-29T19:37:25.191101Z"
    }
   },
   "outputs": [],
   "source": [
    "wage_df = wage_df.join(one_hot)"
   ]
  },
  {
   "cell_type": "code",
   "execution_count": 14,
   "id": "bef910e3",
   "metadata": {
    "ExecuteTime": {
     "end_time": "2023-08-29T19:37:30.266748Z",
     "start_time": "2023-08-29T19:37:30.167943Z"
    }
   },
   "outputs": [],
   "source": [
    "wage_df.drop(['maritl', 'marriage_1. Never Married'], axis=1, inplace=True)"
   ]
  },
  {
   "cell_type": "code",
   "execution_count": 15,
   "id": "9f70aff1",
   "metadata": {
    "ExecuteTime": {
     "end_time": "2023-08-29T19:37:32.968288Z",
     "start_time": "2023-08-29T19:37:32.727199Z"
    }
   },
   "outputs": [],
   "source": [
    "wage_df.columns = [*wage_df.columns[:-4], 'marriage_yes',\\\n",
    "                   'marriage_widowed', 'marriage_divorced', 'marriage_separated'] #we drop one -- why?"
   ]
  },
  {
   "cell_type": "markdown",
   "id": "7ea50f1a",
   "metadata": {},
   "source": [
    "### Decide what to do for `education`"
   ]
  },
  {
   "cell_type": "code",
   "execution_count": 16,
   "id": "37fd118b",
   "metadata": {
    "ExecuteTime": {
     "end_time": "2023-08-29T19:37:36.809190Z",
     "start_time": "2023-08-29T19:37:36.740732Z"
    }
   },
   "outputs": [
    {
     "data": {
      "text/plain": "array(['1. < HS Grad', '4. College Grad', '3. Some College', '2. HS Grad',\n       '5. Advanced Degree'], dtype=object)"
     },
     "execution_count": 16,
     "metadata": {},
     "output_type": "execute_result"
    }
   ],
   "source": [
    "wage_df.education.unique() #it looks like we can take these as ordinal categories"
   ]
  },
  {
   "cell_type": "code",
   "execution_count": 17,
   "id": "d449ac8b",
   "metadata": {
    "ExecuteTime": {
     "end_time": "2023-08-29T19:37:48.962892Z",
     "start_time": "2023-08-29T19:37:48.608518Z"
    }
   },
   "outputs": [],
   "source": [
    "wage_df.education = (wage_df.education.astype(str).str[0]).astype(int)"
   ]
  },
  {
   "cell_type": "markdown",
   "id": "84891563",
   "metadata": {},
   "source": [
    "### Question to deliver on encoding categorical variables\n",
    "- Encode the `race` variable by using numerical variable(s) and drop `race`.\n",
    "- Now that all the variables in our dataframe is numerical, apply a linear regression model to explain the `wage` with the other variables. Report the coefficients.\n",
    "- Interpret the coefficient of the `education` varaible."
   ]
  },
  {
   "cell_type": "markdown",
   "id": "9a18190a",
   "metadata": {},
   "source": [
    "#### First encode the variable. Then fit a linear model."
   ]
  },
  {
   "cell_type": "code",
   "execution_count": 18,
   "id": "98b38716",
   "metadata": {
    "ExecuteTime": {
     "end_time": "2023-08-29T19:38:01.355638Z",
     "start_time": "2023-08-29T19:38:00.814157Z"
    }
   },
   "outputs": [],
   "source": [
    "from sklearn.linear_model import LinearRegression"
   ]
  },
  {
   "cell_type": "code",
   "execution_count": 19,
   "outputs": [
    {
     "data": {
      "text/plain": "array(['1. White', '3. Asian', '4. Other', '2. Black'], dtype=object)"
     },
     "execution_count": 19,
     "metadata": {},
     "output_type": "execute_result"
    }
   ],
   "source": [
    "wage_df.race.unique()"
   ],
   "metadata": {
    "collapsed": false,
    "ExecuteTime": {
     "end_time": "2023-08-29T19:38:32.213142Z",
     "start_time": "2023-08-29T19:38:32.011604Z"
    }
   },
   "id": "c3c6a5fc781ee387"
  },
  {
   "cell_type": "code",
   "execution_count": 21,
   "outputs": [],
   "source": [
    "one_race_hot = (pd.get_dummies(wage_df.race, prefix='race'))"
   ],
   "metadata": {
    "collapsed": false,
    "ExecuteTime": {
     "end_time": "2023-08-29T19:40:18.403083Z",
     "start_time": "2023-08-29T19:40:18.312633Z"
    }
   },
   "id": "55fdcc3c6c54a894"
  },
  {
   "cell_type": "code",
   "execution_count": 22,
   "outputs": [],
   "source": [
    "wage_df = wage_df.join(one_race_hot)"
   ],
   "metadata": {
    "collapsed": false,
    "ExecuteTime": {
     "end_time": "2023-08-29T19:41:08.539176Z",
     "start_time": "2023-08-29T19:41:08.488605Z"
    }
   },
   "id": "1a1ba1f376dc2745"
  },
  {
   "cell_type": "code",
   "execution_count": 23,
   "outputs": [],
   "source": [
    "wage_df.drop(['race', 'race_4. Other'], axis=1, inplace=True)"
   ],
   "metadata": {
    "collapsed": false,
    "ExecuteTime": {
     "end_time": "2023-08-29T19:41:41.045930Z",
     "start_time": "2023-08-29T19:41:41.021988Z"
    }
   },
   "id": "6d8363ac08e6bcbd"
  },
  {
   "cell_type": "code",
   "execution_count": 24,
   "outputs": [],
   "source": [
    "wage = wage_df['wage']"
   ],
   "metadata": {
    "collapsed": false,
    "ExecuteTime": {
     "end_time": "2023-08-29T19:43:33.974295Z",
     "start_time": "2023-08-29T19:43:33.885759Z"
    }
   },
   "id": "b7eaea056220c418"
  },
  {
   "cell_type": "code",
   "execution_count": 26,
   "outputs": [],
   "source": [
    "wage_df.drop('wage', axis=1, inplace=True)"
   ],
   "metadata": {
    "collapsed": false,
    "ExecuteTime": {
     "end_time": "2023-08-29T19:44:14.041215Z",
     "start_time": "2023-08-29T19:44:13.978894Z"
    }
   },
   "id": "b34b26352a4771d2"
  },
  {
   "cell_type": "code",
   "execution_count": 27,
   "id": "0479ca1a",
   "metadata": {
    "ExecuteTime": {
     "end_time": "2023-08-29T19:44:24.247641Z",
     "start_time": "2023-08-29T19:44:24.196281Z"
    }
   },
   "outputs": [],
   "source": [
    "reg = LinearRegression().fit(wage_df, wage) #hint: to get coefficients of the fitted model use \"reg.coef_\""
   ]
  },
  {
   "cell_type": "code",
   "execution_count": 29,
   "outputs": [
    {
     "data": {
      "text/plain": "array([ 0.3037476 , 13.34408106,  6.60422963, 16.99604481,  3.78564598,\n       17.17994727,  0.97270744,  3.49189903, 12.13254899,  4.73430099,\n       -0.40801293,  3.24613976])"
     },
     "execution_count": 29,
     "metadata": {},
     "output_type": "execute_result"
    }
   ],
   "source": [
    "reg.coef_"
   ],
   "metadata": {
    "collapsed": false,
    "ExecuteTime": {
     "end_time": "2023-08-29T19:45:29.957208Z",
     "start_time": "2023-08-29T19:45:29.906023Z"
    }
   },
   "id": "f3537f47d33cf164"
  },
  {
   "cell_type": "code",
   "execution_count": 30,
   "outputs": [
    {
     "data": {
      "text/plain": "      age  education  health  health_ins  job_information  marriage_yes  \\\n0      18          1       0           0                0             0   \n1      24          4       1           0                1             0   \n2      45          3       0           1                0             1   \n3      43          4       1           1                1             1   \n4      50          2       0           1                1             0   \n...   ...        ...     ...         ...              ...           ...   \n2995   44          3       1           1                0             1   \n2996   30          2       1           0                0             1   \n2997   27          1       0           0                0             1   \n2998   27          3       1           1                0             0   \n2999   55          2       0           1                0             0   \n\n      marriage_widowed  marriage_divorced  marriage_separated  race_1. White  \\\n0                    0                  0                   0              1   \n1                    0                  0                   0              1   \n2                    0                  0                   0              1   \n3                    0                  0                   0              0   \n4                    0                  1                   0              1   \n...                ...                ...                 ...            ...   \n2995                 0                  0                   0              1   \n2996                 0                  0                   0              1   \n2997                 0                  0                   0              0   \n2998                 0                  0                   0              1   \n2999                 0                  0                   1              1   \n\n      race_2. Black  race_3. Asian  \n0                 0              0  \n1                 0              0  \n2                 0              0  \n3                 0              1  \n4                 0              0  \n...             ...            ...  \n2995              0              0  \n2996              0              0  \n2997              1              0  \n2998              0              0  \n2999              0              0  \n\n[3000 rows x 12 columns]",
      "text/html": "<div>\n<style scoped>\n    .dataframe tbody tr th:only-of-type {\n        vertical-align: middle;\n    }\n\n    .dataframe tbody tr th {\n        vertical-align: top;\n    }\n\n    .dataframe thead th {\n        text-align: right;\n    }\n</style>\n<table border=\"1\" class=\"dataframe\">\n  <thead>\n    <tr style=\"text-align: right;\">\n      <th></th>\n      <th>age</th>\n      <th>education</th>\n      <th>health</th>\n      <th>health_ins</th>\n      <th>job_information</th>\n      <th>marriage_yes</th>\n      <th>marriage_widowed</th>\n      <th>marriage_divorced</th>\n      <th>marriage_separated</th>\n      <th>race_1. White</th>\n      <th>race_2. Black</th>\n      <th>race_3. Asian</th>\n    </tr>\n  </thead>\n  <tbody>\n    <tr>\n      <th>0</th>\n      <td>18</td>\n      <td>1</td>\n      <td>0</td>\n      <td>0</td>\n      <td>0</td>\n      <td>0</td>\n      <td>0</td>\n      <td>0</td>\n      <td>0</td>\n      <td>1</td>\n      <td>0</td>\n      <td>0</td>\n    </tr>\n    <tr>\n      <th>1</th>\n      <td>24</td>\n      <td>4</td>\n      <td>1</td>\n      <td>0</td>\n      <td>1</td>\n      <td>0</td>\n      <td>0</td>\n      <td>0</td>\n      <td>0</td>\n      <td>1</td>\n      <td>0</td>\n      <td>0</td>\n    </tr>\n    <tr>\n      <th>2</th>\n      <td>45</td>\n      <td>3</td>\n      <td>0</td>\n      <td>1</td>\n      <td>0</td>\n      <td>1</td>\n      <td>0</td>\n      <td>0</td>\n      <td>0</td>\n      <td>1</td>\n      <td>0</td>\n      <td>0</td>\n    </tr>\n    <tr>\n      <th>3</th>\n      <td>43</td>\n      <td>4</td>\n      <td>1</td>\n      <td>1</td>\n      <td>1</td>\n      <td>1</td>\n      <td>0</td>\n      <td>0</td>\n      <td>0</td>\n      <td>0</td>\n      <td>0</td>\n      <td>1</td>\n    </tr>\n    <tr>\n      <th>4</th>\n      <td>50</td>\n      <td>2</td>\n      <td>0</td>\n      <td>1</td>\n      <td>1</td>\n      <td>0</td>\n      <td>0</td>\n      <td>1</td>\n      <td>0</td>\n      <td>1</td>\n      <td>0</td>\n      <td>0</td>\n    </tr>\n    <tr>\n      <th>...</th>\n      <td>...</td>\n      <td>...</td>\n      <td>...</td>\n      <td>...</td>\n      <td>...</td>\n      <td>...</td>\n      <td>...</td>\n      <td>...</td>\n      <td>...</td>\n      <td>...</td>\n      <td>...</td>\n      <td>...</td>\n    </tr>\n    <tr>\n      <th>2995</th>\n      <td>44</td>\n      <td>3</td>\n      <td>1</td>\n      <td>1</td>\n      <td>0</td>\n      <td>1</td>\n      <td>0</td>\n      <td>0</td>\n      <td>0</td>\n      <td>1</td>\n      <td>0</td>\n      <td>0</td>\n    </tr>\n    <tr>\n      <th>2996</th>\n      <td>30</td>\n      <td>2</td>\n      <td>1</td>\n      <td>0</td>\n      <td>0</td>\n      <td>1</td>\n      <td>0</td>\n      <td>0</td>\n      <td>0</td>\n      <td>1</td>\n      <td>0</td>\n      <td>0</td>\n    </tr>\n    <tr>\n      <th>2997</th>\n      <td>27</td>\n      <td>1</td>\n      <td>0</td>\n      <td>0</td>\n      <td>0</td>\n      <td>1</td>\n      <td>0</td>\n      <td>0</td>\n      <td>0</td>\n      <td>0</td>\n      <td>1</td>\n      <td>0</td>\n    </tr>\n    <tr>\n      <th>2998</th>\n      <td>27</td>\n      <td>3</td>\n      <td>1</td>\n      <td>1</td>\n      <td>0</td>\n      <td>0</td>\n      <td>0</td>\n      <td>0</td>\n      <td>0</td>\n      <td>1</td>\n      <td>0</td>\n      <td>0</td>\n    </tr>\n    <tr>\n      <th>2999</th>\n      <td>55</td>\n      <td>2</td>\n      <td>0</td>\n      <td>1</td>\n      <td>0</td>\n      <td>0</td>\n      <td>0</td>\n      <td>0</td>\n      <td>1</td>\n      <td>1</td>\n      <td>0</td>\n      <td>0</td>\n    </tr>\n  </tbody>\n</table>\n<p>3000 rows × 12 columns</p>\n</div>"
     },
     "execution_count": 30,
     "metadata": {},
     "output_type": "execute_result"
    }
   ],
   "source": [
    "wage_df"
   ],
   "metadata": {
    "collapsed": false,
    "ExecuteTime": {
     "end_time": "2023-08-29T19:45:34.779684Z",
     "start_time": "2023-08-29T19:45:34.727507Z"
    }
   },
   "id": "e98afbf6207bd65a"
  },
  {
   "cell_type": "markdown",
   "source": [
    "Education has a coefficient of 13.3. This is the 3rd highest coefficient and as such has the 3rd highest positive correlation with wage, after marriage and health insurance."
   ],
   "metadata": {
    "collapsed": false
   },
   "id": "869c844177375a9b"
  }
 ],
 "metadata": {
  "kernelspec": {
   "display_name": "Python 3 (ipykernel)",
   "language": "python",
   "name": "python3"
  },
  "language_info": {
   "codemirror_mode": {
    "name": "ipython",
    "version": 3
   },
   "file_extension": ".py",
   "mimetype": "text/x-python",
   "name": "python",
   "nbconvert_exporter": "python",
   "pygments_lexer": "ipython3",
   "version": "3.8.8"
  }
 },
 "nbformat": 4,
 "nbformat_minor": 5
}
